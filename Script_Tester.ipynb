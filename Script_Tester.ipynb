{
 "metadata": {
  "name": ""
 },
 "nbformat": 3,
 "nbformat_minor": 0,
 "worksheets": [
  {
   "cells": [
    {
     "cell_type": "code",
     "collapsed": false,
     "input": [
      "from open_and_reduce import open_and_subset"
     ],
     "language": "python",
     "metadata": {},
     "outputs": [],
     "prompt_number": 1
    },
    {
     "cell_type": "code",
     "collapsed": false,
     "input": [
      "# test basic feature\n",
      "basic = open_and_subset('../Raw_Data/ExpandedUnderwritingArchive_20131003/PMI4_head_10000.csv')\n",
      "basic"
     ],
     "language": "python",
     "metadata": {},
     "outputs": [
      {
       "html": [
        "<pre>\n",
        "&lt;class 'pandas.core.frame.DataFrame'&gt;\n",
        "Int64Index: 1361 entries, 8 to 9994\n",
        "Columns: 615 entries, LoanFlag to Eligible_Oct2013v1\n",
        "dtypes: float64(108), int64(473), object(34)\n",
        "</pre>"
       ],
       "metadata": {},
       "output_type": "pyout",
       "prompt_number": 3,
       "text": [
        "<class 'pandas.core.frame.DataFrame'>\n",
        "Int64Index: 1361 entries, 8 to 9994\n",
        "Columns: 615 entries, LoanFlag to Eligible_Oct2013v1\n",
        "dtypes: float64(108), int64(473), object(34)"
       ]
      }
     ],
     "prompt_number": 3
    },
    {
     "cell_type": "code",
     "collapsed": false,
     "input": [
      "# test advanced feature\n",
      "advanced = open_and_subset('../Raw_Data/ExpandedUnderwritingArchive_20131003/PMI_head_100000.csv', 'advanced')\n",
      "advanced"
     ],
     "language": "python",
     "metadata": {},
     "outputs": [
      {
       "html": [
        "<pre>\n",
        "&lt;class 'pandas.core.frame.DataFrame'&gt;\n",
        "Int64Index: 21274 entries, 8 to 99994\n",
        "Data columns (total 4 columns):\n",
        "EmploymentStatus               21273  non-null values\n",
        "Occupation                     18473  non-null values\n",
        "BwrStatedAnnualIncome          21273  non-null values\n",
        "FICO_NXT_GEN_V2_SCORE_VALUE    18334  non-null values\n",
        "dtypes: object(4)\n",
        "</pre>"
       ],
       "metadata": {},
       "output_type": "pyout",
       "prompt_number": 3,
       "text": [
        "<class 'pandas.core.frame.DataFrame'>\n",
        "Int64Index: 21274 entries, 8 to 99994\n",
        "Data columns (total 4 columns):\n",
        "EmploymentStatus               21273  non-null values\n",
        "Occupation                     18473  non-null values\n",
        "BwrStatedAnnualIncome          21273  non-null values\n",
        "FICO_NXT_GEN_V2_SCORE_VALUE    18334  non-null values\n",
        "dtypes: object(4)"
       ]
      }
     ],
     "prompt_number": 3
    },
    {
     "cell_type": "code",
     "collapsed": false,
     "input": [
      "# this removes ALL NULL VALUES.  Not ideal final solution, but testing what it does to final counts now\n",
      "## SOLUTION!  I can do transformations on other categories NaN's first, and then use df.dropNA.  Will implement later\n",
      "advanced = advanced.dropna(axis=0)\n",
      "advanced"
     ],
     "language": "python",
     "metadata": {},
     "outputs": [
      {
       "html": [
        "<pre>\n",
        "&lt;class 'pandas.core.frame.DataFrame'&gt;\n",
        "Int64Index: 15533 entries, 8 to 99985\n",
        "Data columns (total 4 columns):\n",
        "EmploymentStatus               15533  non-null values\n",
        "Occupation                     15533  non-null values\n",
        "BwrStatedAnnualIncome          15533  non-null values\n",
        "FICO_NXT_GEN_V2_SCORE_VALUE    15533  non-null values\n",
        "dtypes: object(4)\n",
        "</pre>"
       ],
       "metadata": {},
       "output_type": "pyout",
       "prompt_number": 5,
       "text": [
        "<class 'pandas.core.frame.DataFrame'>\n",
        "Int64Index: 15533 entries, 8 to 99985\n",
        "Data columns (total 4 columns):\n",
        "EmploymentStatus               15533  non-null values\n",
        "Occupation                     15533  non-null values\n",
        "BwrStatedAnnualIncome          15533  non-null values\n",
        "FICO_NXT_GEN_V2_SCORE_VALUE    15533  non-null values\n",
        "dtypes: object(4)"
       ]
      }
     ],
     "prompt_number": 5
    },
    {
     "cell_type": "code",
     "collapsed": false,
     "input": [
      "set(advanced['Occupation'])"
     ],
     "language": "python",
     "metadata": {},
     "outputs": [
      {
       "metadata": {},
       "output_type": "pyout",
       "prompt_number": 7,
       "text": [
        "{'Accountant/CPA',\n",
        " 'Administrative Assistant',\n",
        " 'Analyst',\n",
        " 'Architect',\n",
        " 'Attorney',\n",
        " 'Biologist',\n",
        " 'Bus Driver',\n",
        " 'Car Dealer',\n",
        " 'Chemist',\n",
        " 'Civil Service',\n",
        " 'Clergy',\n",
        " 'Clerical',\n",
        " 'Computer Programmer',\n",
        " 'Construction',\n",
        " 'Dentist',\n",
        " 'Doctor',\n",
        " 'Engineer - Chemical',\n",
        " 'Engineer - Electrical',\n",
        " 'Engineer - Mechanical',\n",
        " 'Executive',\n",
        " 'Fireman',\n",
        " 'Flight Attendant',\n",
        " 'Food Service',\n",
        " 'Food Service Management',\n",
        " 'Homemaker',\n",
        " 'Investor',\n",
        " 'Judge',\n",
        " 'Laborer',\n",
        " 'Landscaping',\n",
        " 'Medical Technician',\n",
        " 'Military Enlisted',\n",
        " 'Military Officer',\n",
        " 'Nurse (LPN)',\n",
        " 'Nurse (RN)',\n",
        " \"Nurse's Aide\",\n",
        " 'Other',\n",
        " 'Pharmacist',\n",
        " 'Pilot - Private/Commercial',\n",
        " 'Police Officer/Correction Officer',\n",
        " 'Postal Service',\n",
        " 'Principal',\n",
        " 'Professional',\n",
        " 'Professor',\n",
        " 'Psychologist',\n",
        " 'Realtor',\n",
        " 'Religious',\n",
        " 'Retail Management',\n",
        " 'Sales - Commission',\n",
        " 'Sales - Retail',\n",
        " 'Scientist',\n",
        " 'Skilled Labor',\n",
        " 'Social Worker',\n",
        " 'Student - College Freshman',\n",
        " 'Student - College Graduate Student',\n",
        " 'Student - College Junior',\n",
        " 'Student - College Senior',\n",
        " 'Student - College Sophomore',\n",
        " 'Student - Community College',\n",
        " 'Student - Technical School',\n",
        " 'Teacher',\n",
        " \"Teacher's Aide\",\n",
        " 'Tradesman - Carpenter',\n",
        " 'Tradesman - Electrician',\n",
        " 'Tradesman - Mechanic',\n",
        " 'Tradesman - Plumber',\n",
        " 'Truck Driver',\n",
        " 'Waiter/Waitress'}"
       ]
      }
     ],
     "prompt_number": 7
    }
   ],
   "metadata": {}
  }
 ]
}