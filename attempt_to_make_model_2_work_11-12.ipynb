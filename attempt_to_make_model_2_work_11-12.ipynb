{
 "metadata": {
  "name": ""
 },
 "nbformat": 3,
 "nbformat_minor": 0,
 "worksheets": [
  {
   "cells": [
    {
     "cell_type": "code",
     "collapsed": false,
     "input": [
      "import matplotlib.pyplot as plt\n",
      "import numpy as np\n",
      "import pandas as pd\n",
      "%matplotlib inline"
     ],
     "language": "python",
     "metadata": {},
     "outputs": [],
     "prompt_number": 2
    },
    {
     "cell_type": "code",
     "collapsed": false,
     "input": [
      "import open_subset as op\n",
      "import parsers as pa\n",
      "import exploration as ex\n",
      "import model_2\n",
      "import analysis"
     ],
     "language": "python",
     "metadata": {},
     "outputs": [],
     "prompt_number": 3
    },
    {
     "cell_type": "code",
     "collapsed": false,
     "input": [
      "#from sklearn.externals import joblib"
     ],
     "language": "python",
     "metadata": {},
     "outputs": [],
     "prompt_number": 3
    },
    {
     "cell_type": "code",
     "collapsed": false,
     "input": [
      "#lr_clf = joblib.load('Model_11_12/lr_model_11_12.pkl')"
     ],
     "language": "python",
     "metadata": {},
     "outputs": [
      {
       "output_type": "stream",
       "stream": "stderr",
       "text": [
        "/usr/lib/python2.7/dist-packages/numpy/lib/utils.py:1132: DeprecationWarning: The compiler package is deprecated and removed in Python 3.x.\n",
        "  import compiler\n"
       ]
      }
     ],
     "prompt_number": 5
    },
    {
     "cell_type": "code",
     "collapsed": false,
     "input": [
      "reload(op)\n",
      "reload(model_2)\n",
      "clf = model_2.Classifier('../Raw_Data/LendingClub/LoanStats3all.csv')\n",
      "print \"-------------------\"\n",
      "analysis_data = clf.create_full_analysis_dataset('../Raw_Data/LendingClub/LoanStats3all.csv')"
     ],
     "language": "python",
     "metadata": {},
     "outputs": [
      {
       "output_type": "stream",
       "stream": "stdout",
       "text": [
        "pulling data & training logistic regression model\n",
        "beginning data transformation"
       ]
      },
      {
       "output_type": "stream",
       "stream": "stdout",
       "text": [
        "\n",
        "before dropna, db length: 207325"
       ]
      },
      {
       "output_type": "stream",
       "stream": "stdout",
       "text": [
        "\n",
        "just after dropna, db length: 201688"
       ]
      },
      {
       "output_type": "stream",
       "stream": "stdout",
       "text": [
        "\n",
        "database length: 193797"
       ]
      },
      {
       "output_type": "stream",
       "stream": "stdout",
       "text": [
        "\n",
        "database length: 174702"
       ]
      },
      {
       "output_type": "stream",
       "stream": "stdout",
       "text": [
        "\n",
        "scaling data"
       ]
      },
      {
       "output_type": "stream",
       "stream": "stdout",
       "text": [
        "\n",
        "training logistic regression model\n",
        "ready to build test_results analysis dataframe"
       ]
      },
      {
       "output_type": "stream",
       "stream": "stdout",
       "text": [
        "\n",
        "run .create_full_analysis_dataset(<file>)\n",
        "-------------------\n",
        "running test dataset through predictive model\n",
        "beginning data transformation"
       ]
      },
      {
       "output_type": "stream",
       "stream": "stdout",
       "text": [
        "\n",
        "before dropna, db length: 207325"
       ]
      },
      {
       "output_type": "stream",
       "stream": "stdout",
       "text": [
        "\n",
        "just after dropna, db length: 201688"
       ]
      },
      {
       "output_type": "stream",
       "stream": "stdout",
       "text": [
        "\n",
        "database length: 193797"
       ]
      },
      {
       "output_type": "stream",
       "stream": "stdout",
       "text": [
        "\n",
        "database length: 174702"
       ]
      },
      {
       "output_type": "stream",
       "stream": "stdout",
       "text": [
        "\n",
        "creating analysis dataframe"
       ]
      },
      {
       "output_type": "stream",
       "stream": "stdout",
       "text": [
        "\n",
        "beginning data transformation"
       ]
      },
      {
       "output_type": "stream",
       "stream": "stdout",
       "text": [
        "\n",
        "before dropna, db length: 207760\n",
        "just after dropna, db length: 186108"
       ]
      },
      {
       "output_type": "stream",
       "stream": "stdout",
       "text": [
        "\n",
        "ANALYSIS COMPLETE"
       ]
      },
      {
       "output_type": "stream",
       "stream": "stdout",
       "text": [
        "\n"
       ]
      }
     ],
     "prompt_number": 4
    },
    {
     "cell_type": "code",
     "collapsed": false,
     "input": [
      "analysis_data = clf.analysis_df"
     ],
     "language": "python",
     "metadata": {},
     "outputs": [],
     "prompt_number": 5
    },
    {
     "cell_type": "code",
     "collapsed": false,
     "input": [
      "analysis_data.columns"
     ],
     "language": "python",
     "metadata": {},
     "outputs": [
      {
       "metadata": {},
       "output_type": "pyout",
       "prompt_number": 135,
       "text": [
        "Index([u'grade', u'loan_amnt', u'int_rate', u'total_rec_int', u'total_rec_prncp', u'installment', u'issue_d', u'last_pymnt_d', u'loan_status', u'term', u'yy-mm_start_date', u'yy-mm_last_payment', u'lin_reg_weights', u'rndm_forrest_predictions'], dtype=object)"
       ]
      }
     ],
     "prompt_number": 135
    },
    {
     "cell_type": "code",
     "collapsed": false,
     "input": [
      "# subset data\n",
      "test = analysis_data[analysis_data['yy-mm_start_date'] == '2010-10']\n",
      "test_lr = test[test['lin_reg_weights'] > 4]\n",
      "test_rf = test[test['rndm_forrest_predictions'] == 1]\n",
      "test_g = test.groupby('loan_status')\n",
      "test_lr_g = test_lr.groupby('loan_status')\n",
      "test_rf_g = test_rf.groupby('loan_status')"
     ],
     "language": "python",
     "metadata": {},
     "outputs": [],
     "prompt_number": 6
    },
    {
     "cell_type": "code",
     "collapsed": false,
     "input": [
      "results = test_g.size()\n",
      "print results\n",
      "#print float(results['Charged Off'])/(results['Current'] + results['Fully Paid'])"
     ],
     "language": "python",
     "metadata": {},
     "outputs": [
      {
       "output_type": "stream",
       "stream": "stdout",
       "text": [
        "loan_status\n",
        "Charged Off    115\n",
        "Current        354\n",
        "Fully Paid     552\n",
        "dtype: int64\n"
       ]
      }
     ],
     "prompt_number": 7
    },
    {
     "cell_type": "code",
     "collapsed": false,
     "input": [
      "results_lr = test_lr_g.size()\n",
      "print results_lr\n",
      "#print float(results['Charged Off'])/(results['Current'] + results['Fully Paid'])"
     ],
     "language": "python",
     "metadata": {},
     "outputs": [
      {
       "output_type": "stream",
       "stream": "stdout",
       "text": [
        "loan_status\n",
        "Charged Off     69\n",
        "Current        223\n",
        "Fully Paid     348\n",
        "dtype: int64\n"
       ]
      }
     ],
     "prompt_number": 8
    },
    {
     "cell_type": "code",
     "collapsed": false,
     "input": [
      "results_rf = test_rf_g.size()\n",
      "print results_rf\n",
      "#print float(results['Charged Off'])/(results['Current'] + results['Fully Paid'])"
     ],
     "language": "python",
     "metadata": {},
     "outputs": [
      {
       "output_type": "stream",
       "stream": "stdout",
       "text": [
        "loan_status\n",
        "Charged Off    110\n",
        "Current        340\n",
        "Fully Paid     530\n",
        "dtype: int64\n"
       ]
      }
     ],
     "prompt_number": 9
    },
    {
     "cell_type": "code",
     "collapsed": false,
     "input": [],
     "language": "python",
     "metadata": {},
     "outputs": []
    }
   ],
   "metadata": {}
  }
 ]
}