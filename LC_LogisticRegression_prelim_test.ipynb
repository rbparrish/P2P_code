{
 "metadata": {
  "name": ""
 },
 "nbformat": 3,
 "nbformat_minor": 0,
 "worksheets": [
  {
   "cells": [
    {
     "cell_type": "code",
     "collapsed": false,
     "input": [
      "import matplotlib.pyplot as plt\n",
      "import numpy as np\n",
      "import pandas as pd\n",
      "%matplotlib inline"
     ],
     "language": "python",
     "metadata": {},
     "outputs": [],
     "prompt_number": 1
    },
    {
     "cell_type": "code",
     "collapsed": false,
     "input": [
      "import open_subset as op\n",
      "import parsers as pa"
     ],
     "language": "python",
     "metadata": {},
     "outputs": [],
     "prompt_number": 2
    },
    {
     "cell_type": "code",
     "collapsed": false,
     "input": [
      "data = op.open_and_process('../Raw_Data/LendingClub/LoanStats3a.csv', 'transform')\n",
      "del data['status_Default']\n",
      "data"
     ],
     "language": "python",
     "metadata": {},
     "outputs": [
      {
       "html": [
        "<pre>\n",
        "&lt;class 'pandas.core.frame.DataFrame'&gt;\n",
        "Int64Index: 22794 entries, 0 to 39785\n",
        "Data columns (total 38 columns):\n",
        "title                         22794  non-null values\n",
        "desc                          22794  non-null values\n",
        "is_inc_v                      22794  non-null values\n",
        "loan_amnt                     22794  non-null values\n",
        "term                          22794  non-null values\n",
        "int_rate                      22794  non-null values\n",
        "fico_range_high               22794  non-null values\n",
        "fico_range_low                22794  non-null values\n",
        "dti                           22794  non-null values\n",
        "annual_inc                    22794  non-null values\n",
        "emp_length                    22794  non-null values\n",
        "home_own_MORTGAGE             22794  non-null values\n",
        "home_own_NONE                 22794  non-null values\n",
        "home_own_OTHER                22794  non-null values\n",
        "home_own_OWN                  22794  non-null values\n",
        "home_own_RENT                 22794  non-null values\n",
        "purpose_car                   22794  non-null values\n",
        "purpose_credit_card           22794  non-null values\n",
        "purpose_debt_consolidation    22794  non-null values\n",
        "purpose_educational           22794  non-null values\n",
        "purpose_home_improvement      22794  non-null values\n",
        "purpose_house                 22794  non-null values\n",
        "purpose_major_purchase        22794  non-null values\n",
        "purpose_medical               22794  non-null values\n",
        "purpose_moving                22794  non-null values\n",
        "purpose_other                 22794  non-null values\n",
        "purpose_renewable_energy      22794  non-null values\n",
        "purpose_small_business        22794  non-null values\n",
        "purpose_vacation              22794  non-null values\n",
        "purpose_wedding               22794  non-null values\n",
        "grade_A                       22794  non-null values\n",
        "grade_B                       22794  non-null values\n",
        "grade_C                       22794  non-null values\n",
        "grade_D                       22794  non-null values\n",
        "grade_E                       22794  non-null values\n",
        "grade_F                       22794  non-null values\n",
        "grade_G                       22794  non-null values\n",
        "status_Fully Paid             22794  non-null values\n",
        "dtypes: float64(35), int64(3)\n",
        "</pre>"
       ],
       "metadata": {},
       "output_type": "pyout",
       "prompt_number": 10,
       "text": [
        "<class 'pandas.core.frame.DataFrame'>\n",
        "Int64Index: 22794 entries, 0 to 39785\n",
        "Data columns (total 38 columns):\n",
        "title                         22794  non-null values\n",
        "desc                          22794  non-null values\n",
        "is_inc_v                      22794  non-null values\n",
        "loan_amnt                     22794  non-null values\n",
        "term                          22794  non-null values\n",
        "int_rate                      22794  non-null values\n",
        "fico_range_high               22794  non-null values\n",
        "fico_range_low                22794  non-null values\n",
        "dti                           22794  non-null values\n",
        "annual_inc                    22794  non-null values\n",
        "emp_length                    22794  non-null values\n",
        "home_own_MORTGAGE             22794  non-null values\n",
        "home_own_NONE                 22794  non-null values\n",
        "home_own_OTHER                22794  non-null values\n",
        "home_own_OWN                  22794  non-null values\n",
        "home_own_RENT                 22794  non-null values\n",
        "purpose_car                   22794  non-null values\n",
        "purpose_credit_card           22794  non-null values\n",
        "purpose_debt_consolidation    22794  non-null values\n",
        "purpose_educational           22794  non-null values\n",
        "purpose_home_improvement      22794  non-null values\n",
        "purpose_house                 22794  non-null values\n",
        "purpose_major_purchase        22794  non-null values\n",
        "purpose_medical               22794  non-null values\n",
        "purpose_moving                22794  non-null values\n",
        "purpose_other                 22794  non-null values\n",
        "purpose_renewable_energy      22794  non-null values\n",
        "purpose_small_business        22794  non-null values\n",
        "purpose_vacation              22794  non-null values\n",
        "purpose_wedding               22794  non-null values\n",
        "grade_A                       22794  non-null values\n",
        "grade_B                       22794  non-null values\n",
        "grade_C                       22794  non-null values\n",
        "grade_D                       22794  non-null values\n",
        "grade_E                       22794  non-null values\n",
        "grade_F                       22794  non-null values\n",
        "grade_G                       22794  non-null values\n",
        "status_Fully Paid             22794  non-null values\n",
        "dtypes: float64(35), int64(3)"
       ]
      }
     ],
     "prompt_number": 10
    },
    {
     "cell_type": "markdown",
     "metadata": {},
     "source": [
      "KEEP NOTE OF!  Slightly different populations in test vs predict samples"
     ]
    },
    {
     "cell_type": "code",
     "collapsed": false,
     "input": [
      "# full population\n",
      "data['status_Fully Paid'].value_counts().plot(kind='bar')"
     ],
     "language": "python",
     "metadata": {},
     "outputs": [
      {
       "metadata": {},
       "output_type": "pyout",
       "prompt_number": 11,
       "text": [
        "<matplotlib.axes.AxesSubplot at 0x6b0cd50>"
       ]
      },
      {
       "metadata": {},
       "output_type": "display_data",
       "png": "[encoded data removed]",
       "text": [
        "<matplotlib.figure.Figure at 0x7b28d90>"
       ]
      }
     ],
     "prompt_number": 11
    },
    {
     "cell_type": "code",
     "collapsed": false,
     "input": [
      "# training group\n",
      "data['status_Fully Paid'][:15000].value_counts().plot(kind='bar')"
     ],
     "language": "python",
     "metadata": {},
     "outputs": [
      {
       "metadata": {},
       "output_type": "pyout",
       "prompt_number": 12,
       "text": [
        "<matplotlib.axes.AxesSubplot at 0xa8a1fd0>"
       ]
      },
      {
       "metadata": {},
       "output_type": "display_data",
       "png": "[encoded data removed]",
       "text": [
        "<matplotlib.figure.Figure at 0xa8a17d0>"
       ]
      }
     ],
     "prompt_number": 12
    },
    {
     "cell_type": "code",
     "collapsed": false,
     "input": [
      "# testing group\n",
      "data['status_Fully Paid'][15000:].value_counts().plot(kind='bar')"
     ],
     "language": "python",
     "metadata": {},
     "outputs": [
      {
       "metadata": {},
       "output_type": "pyout",
       "prompt_number": 13,
       "text": [
        "<matplotlib.axes.AxesSubplot at 0xa8a3d10>"
       ]
      },
      {
       "metadata": {},
       "output_type": "display_data",
       "png": "[encoded data removed]",
       "text": [
        "<matplotlib.figure.Figure at 0xa20c110>"
       ]
      }
     ],
     "prompt_number": 13
    },
    {
     "cell_type": "markdown",
     "metadata": {},
     "source": [
      "## NORMALIZE!"
     ]
    },
    {
     "cell_type": "code",
     "collapsed": false,
     "input": [
      "# separate out predictive value\n",
      "predict = data['status_Fully Paid']\n",
      "del data['status_Fully Paid']"
     ],
     "language": "python",
     "metadata": {},
     "outputs": [],
     "prompt_number": 14
    },
    {
     "cell_type": "code",
     "collapsed": false,
     "input": [
      "from sklearn import preprocessing"
     ],
     "language": "python",
     "metadata": {},
     "outputs": [],
     "prompt_number": 15
    },
    {
     "cell_type": "code",
     "collapsed": false,
     "input": [
      "data_scaled = preprocessing.scale(data)\n",
      "data_scaled"
     ],
     "language": "python",
     "metadata": {},
     "outputs": [
      {
       "metadata": {},
       "output_type": "pyout",
       "prompt_number": 16,
       "text": [
        "array([[ 2.15781482, -0.01132418,  1.56424011, ..., -0.25629665,\n",
        "        -0.14883705, -0.08694066],\n",
        "       [ 0.07324831, -0.54495797, -0.63928804, ..., -0.25629665,\n",
        "        -0.14883705, -0.08694066],\n",
        "       [-1.43227195,  0.97938834, -0.63928804, ..., -0.25629665,\n",
        "        -0.14883705, -0.08694066],\n",
        "       ..., \n",
        "       [-0.50579794, -0.46164806,  1.56424011, ..., -0.25629665,\n",
        "        -0.14883705, -0.08694066],\n",
        "       [-0.50579794, -0.40535757,  1.56424011, ..., -0.25629665,\n",
        "        -0.14883705, -0.08694066],\n",
        "       [-0.85322569, -0.43462862, -0.63928804, ..., -0.25629665,\n",
        "        -0.14883705, -0.08694066]])"
       ]
      }
     ],
     "prompt_number": 16
    },
    {
     "cell_type": "code",
     "collapsed": false,
     "input": [
      "#change into numpy array (unscalled, kept with 0s and 1s)\n",
      "predict = predict.values"
     ],
     "language": "python",
     "metadata": {},
     "outputs": [],
     "prompt_number": 17
    },
    {
     "cell_type": "code",
     "collapsed": false,
     "input": [
      "# remember associations with variables\n",
      "features = data.columns.values"
     ],
     "language": "python",
     "metadata": {},
     "outputs": [],
     "prompt_number": 18
    },
    {
     "cell_type": "markdown",
     "metadata": {},
     "source": [
      "## Separate into Training vs Test"
     ]
    },
    {
     "cell_type": "code",
     "collapsed": false,
     "input": [
      "training_set = data_scaled[:15000]\n",
      "test_set = data_scaled[15000:]\n",
      "training_predict = predict[:15000]\n",
      "test_predict = predict[15000:]"
     ],
     "language": "python",
     "metadata": {},
     "outputs": [],
     "prompt_number": 19
    },
    {
     "cell_type": "markdown",
     "metadata": {},
     "source": [
      "## Logisitic Regression!"
     ]
    },
    {
     "cell_type": "code",
     "collapsed": false,
     "input": [
      "from sklearn import linear_model"
     ],
     "language": "python",
     "metadata": {},
     "outputs": [],
     "prompt_number": 20
    },
    {
     "cell_type": "code",
     "collapsed": false,
     "input": [
      "# training algorithm\n",
      "clf = linear_model.SGDClassifier()\n",
      "clf.fit(training_set, training_predict)"
     ],
     "language": "python",
     "metadata": {},
     "outputs": [
      {
       "metadata": {},
       "output_type": "pyout",
       "prompt_number": 22,
       "text": [
        "SGDClassifier(alpha=0.0001, class_weight=None, epsilon=0.1, eta0=0.0,\n",
        "       fit_intercept=True, l1_ratio=0.15, learning_rate='optimal',\n",
        "       loss='hinge', n_iter=5, n_jobs=1, penalty='l2', power_t=0.5,\n",
        "       random_state=None, rho=None, shuffle=False, verbose=0,\n",
        "       warm_start=False)"
       ]
      }
     ],
     "prompt_number": 22
    },
    {
     "cell_type": "code",
     "collapsed": false,
     "input": [
      "# sets to \n",
      "p = clf.predict(test_set)\n",
      "a = test_predict\n",
      "# calculation of accuracy\n",
      "total_correct = 0.0\n",
      "for i in range(len(p)):\n",
      "    if p[i] == a[i]:\n",
      "        total_correct += 1.0\n",
      "\n",
      "rate = total_correct/len(p)\n",
      "print total_correct, len(p), rate"
     ],
     "language": "python",
     "metadata": {},
     "outputs": [
      {
       "output_type": "stream",
       "stream": "stdout",
       "text": [
        "5437.0 7794 0.697587888119\n"
       ]
      }
     ],
     "prompt_number": 49
    }
   ],
   "metadata": {}
  }
 ]
}