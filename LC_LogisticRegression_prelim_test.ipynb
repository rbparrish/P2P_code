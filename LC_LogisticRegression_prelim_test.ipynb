{
 "metadata": {
  "name": ""
 },
 "nbformat": 3,
 "nbformat_minor": 0,
 "worksheets": [
  {
   "cells": [
    {
     "cell_type": "code",
     "collapsed": false,
     "input": [
      "import matplotlib.pyplot as plt\n",
      "import numpy as np\n",
      "import pandas as pd\n",
      "%matplotlib inline"
     ],
     "language": "python",
     "metadata": {},
     "outputs": [],
     "prompt_number": 1
    },
    {
     "cell_type": "code",
     "collapsed": false,
     "input": [
      "import open_subset as op\n",
      "import parsers as pa"
     ],
     "language": "python",
     "metadata": {},
     "outputs": [],
     "prompt_number": 2
    },
    {
     "cell_type": "code",
     "collapsed": false,
     "input": [
      "data = op.open_and_process('../Raw_Data/LendingClub/LoanStats3a.csv', 'transform')\n",
      "del data['status_Default']\n",
      "data"
     ],
     "language": "python",
     "metadata": {},
     "outputs": [
      {
       "html": [
        "<pre>\n",
        "&lt;class 'pandas.core.frame.DataFrame'&gt;\n",
        "Int64Index: 22794 entries, 0 to 39785\n",
        "Data columns (total 38 columns):\n",
        "title                         22794  non-null values\n",
        "desc                          22794  non-null values\n",
        "is_inc_v                      22794  non-null values\n",
        "loan_amnt                     22794  non-null values\n",
        "term                          22794  non-null values\n",
        "int_rate                      22794  non-null values\n",
        "fico_range_high               22794  non-null values\n",
        "fico_range_low                22794  non-null values\n",
        "dti                           22794  non-null values\n",
        "annual_inc                    22794  non-null values\n",
        "emp_length                    22794  non-null values\n",
        "home_own_MORTGAGE             22794  non-null values\n",
        "home_own_NONE                 22794  non-null values\n",
        "home_own_OTHER                22794  non-null values\n",
        "home_own_OWN                  22794  non-null values\n",
        "home_own_RENT                 22794  non-null values\n",
        "purpose_car                   22794  non-null values\n",
        "purpose_credit_card           22794  non-null values\n",
        "purpose_debt_consolidation    22794  non-null values\n",
        "purpose_educational           22794  non-null values\n",
        "purpose_home_improvement      22794  non-null values\n",
        "purpose_house                 22794  non-null values\n",
        "purpose_major_purchase        22794  non-null values\n",
        "purpose_medical               22794  non-null values\n",
        "purpose_moving                22794  non-null values\n",
        "purpose_other                 22794  non-null values\n",
        "purpose_renewable_energy      22794  non-null values\n",
        "purpose_small_business        22794  non-null values\n",
        "purpose_vacation              22794  non-null values\n",
        "purpose_wedding               22794  non-null values\n",
        "grade_A                       22794  non-null values\n",
        "grade_B                       22794  non-null values\n",
        "grade_C                       22794  non-null values\n",
        "grade_D                       22794  non-null values\n",
        "grade_E                       22794  non-null values\n",
        "grade_F                       22794  non-null values\n",
        "grade_G                       22794  non-null values\n",
        "status_Fully Paid             22794  non-null values\n",
        "dtypes: float64(35), int64(3)\n",
        "</pre>"
       ],
       "metadata": {},
       "output_type": "pyout",
       "prompt_number": 3,
       "text": [
        "<class 'pandas.core.frame.DataFrame'>\n",
        "Int64Index: 22794 entries, 0 to 39785\n",
        "Data columns (total 38 columns):\n",
        "title                         22794  non-null values\n",
        "desc                          22794  non-null values\n",
        "is_inc_v                      22794  non-null values\n",
        "loan_amnt                     22794  non-null values\n",
        "term                          22794  non-null values\n",
        "int_rate                      22794  non-null values\n",
        "fico_range_high               22794  non-null values\n",
        "fico_range_low                22794  non-null values\n",
        "dti                           22794  non-null values\n",
        "annual_inc                    22794  non-null values\n",
        "emp_length                    22794  non-null values\n",
        "home_own_MORTGAGE             22794  non-null values\n",
        "home_own_NONE                 22794  non-null values\n",
        "home_own_OTHER                22794  non-null values\n",
        "home_own_OWN                  22794  non-null values\n",
        "home_own_RENT                 22794  non-null values\n",
        "purpose_car                   22794  non-null values\n",
        "purpose_credit_card           22794  non-null values\n",
        "purpose_debt_consolidation    22794  non-null values\n",
        "purpose_educational           22794  non-null values\n",
        "purpose_home_improvement      22794  non-null values\n",
        "purpose_house                 22794  non-null values\n",
        "purpose_major_purchase        22794  non-null values\n",
        "purpose_medical               22794  non-null values\n",
        "purpose_moving                22794  non-null values\n",
        "purpose_other                 22794  non-null values\n",
        "purpose_renewable_energy      22794  non-null values\n",
        "purpose_small_business        22794  non-null values\n",
        "purpose_vacation              22794  non-null values\n",
        "purpose_wedding               22794  non-null values\n",
        "grade_A                       22794  non-null values\n",
        "grade_B                       22794  non-null values\n",
        "grade_C                       22794  non-null values\n",
        "grade_D                       22794  non-null values\n",
        "grade_E                       22794  non-null values\n",
        "grade_F                       22794  non-null values\n",
        "grade_G                       22794  non-null values\n",
        "status_Fully Paid             22794  non-null values\n",
        "dtypes: float64(35), int64(3)"
       ]
      }
     ],
     "prompt_number": 3
    },
    {
     "cell_type": "markdown",
     "metadata": {},
     "source": [
      "KEEP NOTE OF!  Slightly different populations in test vs predict samples"
     ]
    },
    {
     "cell_type": "code",
     "collapsed": false,
     "input": [
      "# full population\n",
      "data['status_Fully Paid'].value_counts().plot(kind='bar')"
     ],
     "language": "python",
     "metadata": {},
     "outputs": [
      {
       "metadata": {},
       "output_type": "pyout",
       "prompt_number": 11,
       "text": [
        "<matplotlib.axes.AxesSubplot at 0x6b0cd50>"
       ]
      },
      {
       "metadata": {},
       "output_type": "display_data",
       "png": "[encoded data removed]",
       "text": [
        "<matplotlib.figure.Figure at 0x7b28d90>"
       ]
      }
     ],
     "prompt_number": 11
    },
    {
     "cell_type": "code",
     "collapsed": false,
     "input": [
      "# training group\n",
      "data['status_Fully Paid'][:15000].value_counts().plot(kind='bar')"
     ],
     "language": "python",
     "metadata": {},
     "outputs": [
      {
       "metadata": {},
       "output_type": "pyout",
       "prompt_number": 12,
       "text": [
        "<matplotlib.axes.AxesSubplot at 0xa8a1fd0>"
       ]
      },
      {
       "metadata": {},
       "output_type": "display_data",
       "png": "[encoded data removed]",
       "text": [
        "<matplotlib.figure.Figure at 0xa8a17d0>"
       ]
      }
     ],
     "prompt_number": 12
    },
    {
     "cell_type": "code",
     "collapsed": false,
     "input": [
      "# testing group\n",
      "data['status_Fully Paid'][15000:].value_counts().plot(kind='bar')"
     ],
     "language": "python",
     "metadata": {},
     "outputs": [
      {
       "metadata": {},
       "output_type": "pyout",
       "prompt_number": 13,
       "text": [
        "<matplotlib.axes.AxesSubplot at 0xa8a3d10>"
       ]
      },
      {
       "metadata": {},
       "output_type": "display_data",
       "png": "[encoded data removed]",
       "text": [
        "<matplotlib.figure.Figure at 0xa20c110>"
       ]
      }
     ],
     "prompt_number": 13
    },
    {
     "cell_type": "markdown",
     "metadata": {},
     "source": [
      "## NORMALIZE!"
     ]
    },
    {
     "cell_type": "code",
     "collapsed": false,
     "input": [
      "# separate out predictive value\n",
      "predict = data['status_Fully Paid']\n",
      "del data['status_Fully Paid']"
     ],
     "language": "python",
     "metadata": {},
     "outputs": [],
     "prompt_number": 6
    },
    {
     "cell_type": "code",
     "collapsed": false,
     "input": [
      "from sklearn import preprocessing"
     ],
     "language": "python",
     "metadata": {},
     "outputs": [],
     "prompt_number": 7
    },
    {
     "cell_type": "code",
     "collapsed": false,
     "input": [
      "data_scaled = preprocessing.scale(data)\n",
      "data_scaled"
     ],
     "language": "python",
     "metadata": {},
     "outputs": [
      {
       "metadata": {},
       "output_type": "pyout",
       "prompt_number": 8,
       "text": [
        "array([[ 2.15781482, -0.01132418,  1.56424011, ..., -0.25629665,\n",
        "        -0.14883705, -0.08694066],\n",
        "       [ 0.07324831, -0.54495797, -0.63928804, ..., -0.25629665,\n",
        "        -0.14883705, -0.08694066],\n",
        "       [-1.43227195,  0.97938834, -0.63928804, ..., -0.25629665,\n",
        "        -0.14883705, -0.08694066],\n",
        "       ..., \n",
        "       [-0.50579794, -0.46164806,  1.56424011, ..., -0.25629665,\n",
        "        -0.14883705, -0.08694066],\n",
        "       [-0.50579794, -0.40535757,  1.56424011, ..., -0.25629665,\n",
        "        -0.14883705, -0.08694066],\n",
        "       [-0.85322569, -0.43462862, -0.63928804, ..., -0.25629665,\n",
        "        -0.14883705, -0.08694066]])"
       ]
      }
     ],
     "prompt_number": 8
    },
    {
     "cell_type": "code",
     "collapsed": false,
     "input": [
      "#change into numpy array (unscalled, kept with 0s and 1s)\n",
      "predict = predict.values"
     ],
     "language": "python",
     "metadata": {},
     "outputs": [],
     "prompt_number": 9
    },
    {
     "cell_type": "code",
     "collapsed": false,
     "input": [
      "# remember associations with variables\n",
      "features = data.columns.values"
     ],
     "language": "python",
     "metadata": {},
     "outputs": [],
     "prompt_number": 10
    },
    {
     "cell_type": "markdown",
     "metadata": {},
     "source": [
      "## Separate into Training vs Test"
     ]
    },
    {
     "cell_type": "code",
     "collapsed": false,
     "input": [
      "n = 15000\n",
      "training_set = data_scaled[:n]\n",
      "test_set = data_scaled[n:]\n",
      "training_predict = predict[:n]\n",
      "test_predict = predict[n:]"
     ],
     "language": "python",
     "metadata": {},
     "outputs": [],
     "prompt_number": 11
    },
    {
     "cell_type": "markdown",
     "metadata": {},
     "source": [
      "## Logisitic Regression!"
     ]
    },
    {
     "cell_type": "code",
     "collapsed": false,
     "input": [
      "from sklearn import linear_model"
     ],
     "language": "python",
     "metadata": {},
     "outputs": [],
     "prompt_number": 12
    },
    {
     "cell_type": "code",
     "collapsed": false,
     "input": [
      "# training algorithm\n",
      "clf = linear_model.SGDClassifier()\n",
      "probas_ = clf.fit(training_set, training_predict)"
     ],
     "language": "python",
     "metadata": {},
     "outputs": [],
     "prompt_number": 13
    },
    {
     "cell_type": "code",
     "collapsed": false,
     "input": [
      "# sets to \n",
      "p = clf.predict(test_set)\n",
      "a = test_predict\n",
      "# calculation of accuracy\n",
      "total_correct = 0.0\n",
      "for i in range(len(p)):\n",
      "    if p[i] == a[i]:\n",
      "        total_correct += 1.0\n",
      "\n",
      "rate = total_correct/len(p)\n",
      "print total_correct, len(p), rate"
     ],
     "language": "python",
     "metadata": {},
     "outputs": [
      {
       "output_type": "stream",
       "stream": "stdout",
       "text": [
        "5437.0 7794 0.697587888119\n"
       ]
      }
     ],
     "prompt_number": 14
    },
    {
     "cell_type": "code",
     "collapsed": false,
     "input": [
      "from sklearn.metrics import roc_auc_score\n",
      "roc_auc_score(a, p)"
     ],
     "language": "python",
     "metadata": {},
     "outputs": [
      {
       "metadata": {},
       "output_type": "pyout",
       "prompt_number": 15,
       "text": [
        "0.57279796345701217"
       ]
      }
     ],
     "prompt_number": 15
    },
    {
     "cell_type": "code",
     "collapsed": false,
     "input": [
      "from sklearn.metrics import roc_curve, auc\n",
      "fpr, tpr, thresholds = roc_curve(a, p)\n",
      "roc_auc = auc(fpr, tpr)"
     ],
     "language": "python",
     "metadata": {},
     "outputs": [],
     "prompt_number": 16
    },
    {
     "cell_type": "code",
     "collapsed": false,
     "input": [
      "# using first part of dataset to predict 2nd part\n",
      "plt.clf()\n",
      "plt.plot(fpr, tpr, label='ROC curve (area = %0.2f)' % roc_auc)\n",
      "plt.plot([0, 1], [0, 1], 'k--')\n",
      "plt.xlim([0.0, 1.0])\n",
      "plt.ylim([0.0, 1.0])\n",
      "plt.xlabel('False Positive Rate')\n",
      "plt.ylabel('True Positive Rate')\n",
      "plt.title('Receiver operating characteristic example')\n",
      "plt.legend(loc=\"lower right\")\n",
      "plt.show()"
     ],
     "language": "python",
     "metadata": {},
     "outputs": [
      {
       "metadata": {},
       "output_type": "display_data",
       "png": "[encoded data removed]",
       "text": [
        "<matplotlib.figure.Figure at 0x453fc90>"
       ]
      }
     ],
     "prompt_number": 17
    },
    {
     "cell_type": "code",
     "collapsed": false,
     "input": [
      "# using 2nd part of dataset to predict 1st part\n",
      "plt.clf()\n",
      "plt.plot(fpr, tpr, label='ROC curve (area = %0.2f)' % roc_auc)\n",
      "plt.plot([0, 1], [0, 1], 'k--')\n",
      "plt.xlim([0.0, 1.0])\n",
      "plt.ylim([0.0, 1.0])\n",
      "plt.xlabel('False Positive Rate')\n",
      "plt.ylabel('True Positive Rate')\n",
      "plt.title('Receiver operating characteristic example')\n",
      "plt.legend(loc=\"lower right\")\n",
      "plt.show()"
     ],
     "language": "python",
     "metadata": {},
     "outputs": [
      {
       "metadata": {},
       "output_type": "display_data",
       "png": "[encoded data removed]",
       "text": [
        "<matplotlib.figure.Figure at 0x5184e90>"
       ]
      }
     ],
     "prompt_number": 72
    },
    {
     "cell_type": "markdown",
     "metadata": {},
     "source": [
      "ROC CURVE: http://scikit-learn.org/stable/auto_examples/plot_roc.html"
     ]
    },
    {
     "cell_type": "markdown",
     "metadata": {},
     "source": [
      "Work on Nov 6, 2013"
     ]
    },
    {
     "cell_type": "code",
     "collapsed": false,
     "input": [
      "# predicted values\n",
      "clf.predict(test_set[:10])"
     ],
     "language": "python",
     "metadata": {},
     "outputs": [
      {
       "metadata": {},
       "output_type": "pyout",
       "prompt_number": 18,
       "text": [
        "array([ 1.,  0.,  0.,  1.,  0.,  1.,  0.,  1.,  1.,  1.])"
       ]
      }
     ],
     "prompt_number": 18
    },
    {
     "cell_type": "code",
     "collapsed": false,
     "input": [
      "# confidence scores for predictions\n",
      "clf.decision_function(test_set[:10])"
     ],
     "language": "python",
     "metadata": {},
     "outputs": [
      {
       "metadata": {},
       "output_type": "pyout",
       "prompt_number": 19,
       "text": [
        "array([ 3.54366006, -2.823302  , -0.20183518,  6.68045496, -0.2307759 ,\n",
        "        6.09989134, -5.82477188,  5.04139581,  4.13327732,  7.66867292])"
       ]
      }
     ],
     "prompt_number": 19
    },
    {
     "cell_type": "code",
     "collapsed": false,
     "input": [
      "# real values\n",
      "test_predict[:10]"
     ],
     "language": "python",
     "metadata": {},
     "outputs": [
      {
       "metadata": {},
       "output_type": "pyout",
       "prompt_number": 20,
       "text": [
        "array([ 1.,  0.,  1.,  1.,  1.,  1.,  0.,  1.,  1.,  1.])"
       ]
      }
     ],
     "prompt_number": 20
    },
    {
     "cell_type": "code",
     "collapsed": false,
     "input": [
      "# coefficients for the function\n",
      "clf.coef_"
     ],
     "language": "python",
     "metadata": {},
     "outputs": [
      {
       "metadata": {},
       "output_type": "pyout",
       "prompt_number": 23,
       "text": [
        "array([[ 0.81620957,  0.32714126,  0.22007028,  0.79709025, -0.08058443,\n",
        "        -0.44099683,  0.6696668 ,  0.6696668 ,  0.11529597,  0.73182399,\n",
        "        -0.2498537 ,  0.14862901,  0.11322239,  0.62822504,  0.50775429,\n",
        "        -0.50560787,  0.50136046,  0.4961561 , -0.58082418, -0.06569828,\n",
        "         0.08616293,  0.98755449,  0.77407289,  1.3121889 ,  0.11524778,\n",
        "        -0.6883346 ,  0.48534331, -0.90802687,  0.9516179 , -0.98012842,\n",
        "         0.13388298, -0.16374072,  0.37190914,  0.05796408, -0.75341836,\n",
        "         0.56516324, -0.66691512]])"
       ]
      }
     ],
     "prompt_number": 23
    },
    {
     "cell_type": "code",
     "collapsed": false,
     "input": [
      "clf.intercept_"
     ],
     "language": "python",
     "metadata": {},
     "outputs": [
      {
       "metadata": {},
       "output_type": "pyout",
       "prompt_number": 24,
       "text": [
        "array([ 3.21136687])"
       ]
      }
     ],
     "prompt_number": 24
    },
    {
     "cell_type": "code",
     "collapsed": false,
     "input": [
      "# returns the mean accuracy on the given test data and labels\n",
      "clf.score(test_set, test_predict)"
     ],
     "language": "python",
     "metadata": {},
     "outputs": [
      {
       "metadata": {},
       "output_type": "pyout",
       "prompt_number": 25,
       "text": [
        "0.69758788811906591"
       ]
      }
     ],
     "prompt_number": 25
    },
    {
     "cell_type": "markdown",
     "metadata": {},
     "source": [
      "## Create python script version of code above"
     ]
    },
    {
     "cell_type": "code",
     "collapsed": false,
     "input": [
      "import model"
     ],
     "language": "python",
     "metadata": {},
     "outputs": [],
     "prompt_number": 4
    },
    {
     "cell_type": "code",
     "collapsed": false,
     "input": [
      "reload(model)\n",
      "new = model.Classifier()"
     ],
     "language": "python",
     "metadata": {},
     "outputs": [
      {
       "output_type": "stream",
       "stream": "stdout",
       "text": [
        "ready to open file. Run .open_file().  Type options: simple, feature_subset, transform\n"
       ]
      }
     ],
     "prompt_number": 5
    },
    {
     "cell_type": "code",
     "collapsed": false,
     "input": [
      "new.open_file()"
     ],
     "language": "python",
     "metadata": {},
     "outputs": [
      {
       "output_type": "stream",
       "stream": "stdout",
       "text": [
        "run .assign_to_groups()\n"
       ]
      }
     ],
     "prompt_number": 6
    },
    {
     "cell_type": "code",
     "collapsed": false,
     "input": [
      "new.assign_to_groups()"
     ],
     "language": "python",
     "metadata": {},
     "outputs": [],
     "prompt_number": 8
    },
    {
     "cell_type": "code",
     "collapsed": false,
     "input": [
      "new."
     ],
     "language": "python",
     "metadata": {},
     "outputs": []
    },
    {
     "cell_type": "code",
     "collapsed": false,
     "input": [
      "new.log_regression()"
     ],
     "language": "python",
     "metadata": {},
     "outputs": [
      {
       "output_type": "stream",
       "stream": "stdout",
       "text": [
        "Accuracy of model:  0.697587888119\n"
       ]
      },
      {
       "metadata": {},
       "output_type": "display_data",
       "png": "[encoded data removed]",
       "text": [
        "<matplotlib.figure.Figure at 0x914a390>"
       ]
      }
     ],
     "prompt_number": 58
    },
    {
     "cell_type": "markdown",
     "metadata": {},
     "source": [
      "## Determine how it performs on different risk ratings"
     ]
    },
    {
     "cell_type": "code",
     "collapsed": false,
     "input": [
      "# GOAL: pull out from the test set, variables with each rating (to separate out predictor's results)\n",
      "grades = ['A','B','C','D','E','F','G']\n",
      "dt = data\n",
      "for letter in grades:\n",
      "    idxs = dt[dt['grade_'+letter] == 1].index.values\n",
      "    print letter, idxs"
     ],
     "language": "python",
     "metadata": {},
     "outputs": [
      {
       "output_type": "stream",
       "stream": "stdout",
       "text": [
        "A [    6    15    16 ..., 39743 39745 39759]\n",
        "B [    0     1     4 ..., 39771 39783 39785]\n",
        "C [    2     3     5 ..., 39778 39779 39784]\n",
        "D [    7    14    19 ..., 39773 39780 39782]\n",
        "E [   22    31    61 ..., 39757 39768 39774]\n",
        "F [   58    90    92   106   118   255   326   403   409   569   603   627\n",
        "   640   683   875   915   930   947   949  1253  1286  1292  1306  1617\n",
        "  1686  1694  2088  2132  2248  2304  2336  2367  2380  2382  2505  2530\n",
        "  2642  2716  2845  2853  3024  3060  3291  3580  3709  3749  3767  3805\n",
        "  3907  3909  3956  3973  4054  4066  4347  4411  4481  4500  4520  4562\n",
        "  4690  4711  4738  4867  4888  4948  5005  5124  5182  5231  5303  5378\n",
        "  5417  5537  5655  5706  6146  6164  6284  6357  6408  6414  6430  6496\n",
        "  6604  6740  6851  6935  6985  7038  7100  7263  7656  7684  7833  7859\n",
        "  7968  7971  8029  8281  8288  8791  9271  9409  9430  9636  9637  9770\n",
        "  9778  9811  9823  9864  9875  9901  9945 10134 10292 10418 10443 10450\n",
        " 10469 10502 10524 10610 10632 10651 10779 11106 11162 11204 11362 11518\n",
        " 11546 11683 11696 11836 11905 12062 12092 12224 12243 12274 12398 12425\n",
        " 12476 12617 12651 12671 12699 12700 12722 12766 12794 12829 12954 12986\n",
        " 13021 13132 13222 13234 13255 13268 13293 13368 13371 13380 13383 13469\n",
        " 13586 13666 13679 13707 13835 14241 14527 14533 14581 14634 14651 14655\n",
        " 14706 14791 14846 14910 15061 15090 15149 15221 15583 15593 15637 15639\n",
        " 15696 15729 15800 15929 16074 16213 16401 16470 16611 16766 16888 16928\n",
        " 16956 16978 17274 17328 17546 17603 17621 18011 18018 18075 18236 18410\n",
        " 18422 18431 18689 18727 18760 18843 18850 18878 18920 18932 18939 18998\n",
        " 19030 19059 19083 19172 19305 19518 19520 19579 19629 19663 19689 19817\n",
        " 19826 19828 19934 19938 19994 20040 20054 20105 20123 20128 20214 20262\n",
        " 20370 20378 20410 20418 20419 20535 20543 20565 20566 20651 20721 20723\n",
        " 20854 20896 20934 20987 20992 20993 21062 21078 21238 21269 21291 21297\n",
        " 21329 21333 21364 21395 21406 21422 21505 21518 21531 21537 21606 21672\n",
        " 21762 21938 21950 21952 21972 22114 22179 22341 22559 22571 22624 22635\n",
        " 22668 22727 22810 22865 22874 22876 22944 23206 23227 23283 23497 23597\n",
        " 23613 23781 23878 23898 23913 23935 23942 23971 24017 24187 24238 24369\n",
        " 24412 24427 24460 24521 24672 24764 24810 24825 24945 24967 25057 25241\n",
        " 25248 25315 25358 25378 25429 25513 25529 25652 25771 25908 25989 25990\n",
        " 26022 26071 26118 26179 26302 26449 26563 26629 26675 26774 26804 26862\n",
        " 26913 26973 27117 27121 27126 27186 27210 27558 27732 27996 28006 28015\n",
        " 28041 28068 28154 28225 28237 28293 28333 28372 28557 28652 28713 28988\n",
        " 29046 29355 29366 29479 29521 29543 29910 30208 30304 30333 30366 30425\n",
        " 30535 30537 30562 30574 30575 30720 30743 30760 30901 31041 31124 31183\n",
        " 31386 31601 31708 32313 32363 32367 32527 32530 32595 32671 32892 32927\n",
        " 33218 33321 33526 33633 34019 34022 34069 34139 34206 34261 34533 34573\n",
        " 34700 34788 34915 35061 35084 35145 35148 35289 35429 35676 35897 35928\n",
        " 35945 36267 36284 36293 36294 36465 36478 36593 36681 36690 36716 36760\n",
        " 37200 37255 37296 37311 37336 37389 37442 37529 37621 37664 37688 37696\n",
        " 37745 37766 37941 38029 38202 38281 38345 38397 38549 38598 38617 38765\n",
        " 38775 38787 38802 38817 38884 39229 39256 39279 39635 39636 39652 39707\n",
        " 39762 39781]\n",
        "G [  379   706  1552  1574  2968  3631  3674  3677  3685  3689  3744  3823\n",
        "  4026  4100  4778  4808  5140  5326  5389  5416  5598  5738  5901  6241\n",
        "  6506  6542  6592  7418  7468  7984  7995  8063 10218 10416 11000 11140\n",
        " 11447 11839 11845 12262 12715 12870 12922 13010 13170 13341 13357 14060\n",
        " 14146 14159 14418 14722 14743 14871 15191 15210 15228 15698 15707 15764\n",
        " 15767 15926 15939 15954 16138 16191 16201 16276 16424 16749 16817 16822\n",
        " 16915 17318 17588 17595 17746 17812 18228 18275 19251 19521 19829 19842\n",
        " 19901 20038 20096 20170 20334 20423 20511 20592 20724 20910 20955 20996\n",
        " 21018 21038 21104 21307 21357 21369 21460 21620 21661 21843 21857 22107\n",
        " 22320 22745 23208 23303 23532 23566 23703 23754 24219 24361 24665 25475\n",
        " 25683 26004 26175 26320 26471 26700 26733 27093 27151 27285 27638 27816\n",
        " 27832 27839 28889 29033 29059 29106 29360 29382 29670 29749 30422 30903\n",
        " 31575 31688 31797 32438 32448 33246 33826 34092 34205 34277 34305 34438\n",
        " 34728 35041 35524 35625 36492 36508 36565 36762 37047 37791 38073 38671\n",
        " 39105 39722 39777]\n"
       ]
      }
     ],
     "prompt_number": 48
    },
    {
     "cell_type": "code",
     "collapsed": false,
     "input": [
      "from sklearn import preprocessing\n",
      "scaler = preprocessing.StandardScaler()\n",
      "scaler"
     ],
     "language": "python",
     "metadata": {},
     "outputs": [
      {
       "metadata": {},
       "output_type": "pyout",
       "prompt_number": 9,
       "text": [
        "StandardScaler(copy=True, with_mean=True, with_std=True)"
       ]
      }
     ],
     "prompt_number": 9
    },
    {
     "cell_type": "code",
     "collapsed": false,
     "input": [
      "scaler.fit(data[:15000])"
     ],
     "language": "python",
     "metadata": {},
     "outputs": [
      {
       "metadata": {},
       "output_type": "pyout",
       "prompt_number": 10,
       "text": [
        "StandardScaler(copy=True, with_mean=True, with_std=True)"
       ]
      }
     ],
     "prompt_number": 10
    },
    {
     "cell_type": "code",
     "collapsed": false,
     "input": [
      "scaler.transform(data[15000:])"
     ],
     "language": "python",
     "metadata": {},
     "outputs": [
      {
       "metadata": {},
       "output_type": "pyout",
       "prompt_number": 11,
       "text": [
        "array([[-1.09308006, -0.74856786, -0.59387865, ..., -0.12478824,\n",
        "        -0.0732252 ,  0.40481276],\n",
        "       [-0.76340879, -0.61905197, -0.59387865, ..., -0.12478824,\n",
        "        -0.0732252 , -2.47027786],\n",
        "       [-0.32384708,  0.94558353, -0.59387865, ..., -0.12478824,\n",
        "        -0.0732252 ,  0.40481276],\n",
        "       ..., \n",
        "       [-0.54362793, -0.52295954,  1.68384567, ..., -0.12478824,\n",
        "        -0.0732252 , -2.47027786],\n",
        "       [-0.54362793, -0.47073539,  1.68384567, ..., -0.12478824,\n",
        "        -0.0732252 , -2.47027786],\n",
        "       [-0.87329921, -0.49789195, -0.59387865, ..., -0.12478824,\n",
        "        -0.0732252 , -2.47027786]])"
       ]
      }
     ],
     "prompt_number": 11
    },
    {
     "cell_type": "code",
     "collapsed": false,
     "input": [
      "import model"
     ],
     "language": "python",
     "metadata": {},
     "outputs": [],
     "prompt_number": 4
    },
    {
     "cell_type": "code",
     "collapsed": false,
     "input": [
      "reload(model)\n",
      "this = model.Classifier()\n",
      "this.open_file()\n",
      "this.assign_to_groups()\n",
      "this.prepare()"
     ],
     "language": "python",
     "metadata": {},
     "outputs": [
      {
       "output_type": "stream",
       "stream": "stdout",
       "text": [
        "ready to open file. Run .open_file().  Type options: simple, feature_subset, transform\n",
        "run .assign_to_groups()"
       ]
      },
      {
       "output_type": "stream",
       "stream": "stdout",
       "text": [
        "\n"
       ]
      }
     ],
     "prompt_number": 5
    },
    {
     "cell_type": "code",
     "collapsed": false,
     "input": [
      "this.run('by_grades')"
     ],
     "language": "python",
     "metadata": {},
     "outputs": [
      {
       "ename": "ValueError",
       "evalue": "Array contains NaN or infinity.",
       "output_type": "pyerr",
       "traceback": [
        "\u001b[1;31m---------------------------------------------------------------------------\u001b[0m\n\u001b[1;31mValueError\u001b[0m                                Traceback (most recent call last)",
        "\u001b[1;32m<ipython-input-6-fd15575562a0>\u001b[0m in \u001b[0;36m<module>\u001b[1;34m()\u001b[0m\n\u001b[1;32m----> 1\u001b[1;33m \u001b[0mthis\u001b[0m\u001b[1;33m.\u001b[0m\u001b[0mrun\u001b[0m\u001b[1;33m(\u001b[0m\u001b[1;34m'by_grades'\u001b[0m\u001b[1;33m)\u001b[0m\u001b[1;33m\u001b[0m\u001b[0m\n\u001b[0m",
        "\u001b[1;32m/vagrant/Project/P2P/P2P_code/model.pyc\u001b[0m in \u001b[0;36mrun\u001b[1;34m(self, split)\u001b[0m\n\u001b[0;32m     56\u001b[0m                                 \u001b[1;32mdel\u001b[0m \u001b[0mtst_feat\u001b[0m\u001b[1;33m[\u001b[0m\u001b[1;34m'status_Fully Paid'\u001b[0m\u001b[1;33m]\u001b[0m\u001b[1;33m\u001b[0m\u001b[0m\n\u001b[0;32m     57\u001b[0m                                 \u001b[1;32mprint\u001b[0m \u001b[1;34m\"Model performance on notes of grade \"\u001b[0m \u001b[1;33m+\u001b[0m \u001b[0mletter\u001b[0m\u001b[1;33m\u001b[0m\u001b[0m\n\u001b[1;32m---> 58\u001b[1;33m                                 \u001b[0mself\u001b[0m\u001b[1;33m.\u001b[0m\u001b[0msingle_analysis\u001b[0m\u001b[1;33m(\u001b[0m\u001b[1;33m(\u001b[0m\u001b[0mself\u001b[0m\u001b[1;33m.\u001b[0m\u001b[0mscaler\u001b[0m\u001b[1;33m.\u001b[0m\u001b[0mtransform\u001b[0m\u001b[1;33m(\u001b[0m\u001b[0mtst_feat\u001b[0m\u001b[1;33m)\u001b[0m\u001b[1;33m)\u001b[0m\u001b[1;33m,\u001b[0m \u001b[0mtst_pred\u001b[0m\u001b[1;33m)\u001b[0m\u001b[1;33m\u001b[0m\u001b[0m\n\u001b[0m\u001b[0;32m     59\u001b[0m                 \u001b[1;32melse\u001b[0m\u001b[1;33m:\u001b[0m\u001b[1;33m\u001b[0m\u001b[0m\n\u001b[0;32m     60\u001b[0m                         \u001b[0mtst_pred\u001b[0m \u001b[1;33m=\u001b[0m \u001b[0mself\u001b[0m\u001b[1;33m.\u001b[0m\u001b[0mtst_dt\u001b[0m\u001b[1;33m[\u001b[0m\u001b[1;34m'status_Fully Paid'\u001b[0m\u001b[1;33m]\u001b[0m\u001b[1;33m\u001b[0m\u001b[0m\n",
        "\u001b[1;32m/vagrant/Project/P2P/P2P_code/model.pyc\u001b[0m in \u001b[0;36msingle_analysis\u001b[1;34m(self, features, true_results)\u001b[0m\n\u001b[0;32m     95\u001b[0m                                 \u001b[0mcount_true_true\u001b[0m \u001b[1;33m+=\u001b[0m \u001b[1;36m1\u001b[0m\u001b[1;33m\u001b[0m\u001b[0m\n\u001b[0;32m     96\u001b[0m                 \u001b[1;32mprint\u001b[0m \u001b[1;34m\"percent not-defaulted by model: \"\u001b[0m \u001b[1;33m+\u001b[0m \u001b[0mstr\u001b[0m\u001b[1;33m(\u001b[0m\u001b[0mfloat\u001b[0m\u001b[1;33m(\u001b[0m\u001b[0mcount_true_true\u001b[0m\u001b[1;33m)\u001b[0m\u001b[1;33m/\u001b[0m\u001b[0msum\u001b[0m\u001b[1;33m(\u001b[0m\u001b[0mp\u001b[0m\u001b[1;33m)\u001b[0m\u001b[1;33m)\u001b[0m\u001b[1;33m\u001b[0m\u001b[0m\n\u001b[1;32m---> 97\u001b[1;33m                 \u001b[0mself\u001b[0m\u001b[1;33m.\u001b[0m\u001b[0mdisplay_ROC\u001b[0m\u001b[1;33m(\u001b[0m\u001b[0mp\u001b[0m\u001b[1;33m,\u001b[0m \u001b[0mtrue_results\u001b[0m\u001b[1;33m)\u001b[0m\u001b[1;33m\u001b[0m\u001b[0m\n\u001b[0m\u001b[0;32m     98\u001b[0m \u001b[1;33m\u001b[0m\u001b[0m\n\u001b[0;32m     99\u001b[0m         \u001b[1;32mdef\u001b[0m \u001b[0mdisplay_ROC\u001b[0m\u001b[1;33m(\u001b[0m\u001b[0mself\u001b[0m\u001b[1;33m,\u001b[0m \u001b[0mpr\u001b[0m\u001b[1;33m,\u001b[0m \u001b[0mac\u001b[0m\u001b[1;33m)\u001b[0m\u001b[1;33m:\u001b[0m\u001b[1;33m\u001b[0m\u001b[0m\n",
        "\u001b[1;32m/vagrant/Project/P2P/P2P_code/model.pyc\u001b[0m in \u001b[0;36mdisplay_ROC\u001b[1;34m(self, pr, ac)\u001b[0m\n\u001b[0;32m    101\u001b[0m                 \u001b[1;32mfrom\u001b[0m \u001b[0msklearn\u001b[0m\u001b[1;33m.\u001b[0m\u001b[0mmetrics\u001b[0m \u001b[1;32mimport\u001b[0m \u001b[0mroc_curve\u001b[0m\u001b[1;33m,\u001b[0m \u001b[0mauc\u001b[0m\u001b[1;33m\u001b[0m\u001b[0m\n\u001b[0;32m    102\u001b[0m                 \u001b[0mfpr\u001b[0m\u001b[1;33m,\u001b[0m \u001b[0mtpr\u001b[0m\u001b[1;33m,\u001b[0m \u001b[0mthresholds\u001b[0m \u001b[1;33m=\u001b[0m \u001b[0mroc_curve\u001b[0m\u001b[1;33m(\u001b[0m\u001b[0mpr\u001b[0m\u001b[1;33m,\u001b[0m \u001b[0mac\u001b[0m\u001b[1;33m)\u001b[0m\u001b[1;33m\u001b[0m\u001b[0m\n\u001b[1;32m--> 103\u001b[1;33m                 \u001b[0mroc_auc\u001b[0m \u001b[1;33m=\u001b[0m \u001b[0mauc\u001b[0m\u001b[1;33m(\u001b[0m\u001b[0mfpr\u001b[0m\u001b[1;33m,\u001b[0m \u001b[0mtpr\u001b[0m\u001b[1;33m)\u001b[0m\u001b[1;33m\u001b[0m\u001b[0m\n\u001b[0m\u001b[0;32m    104\u001b[0m                 \u001b[1;31m# build & display ROC plot (MUST HAVE '%matplotlib inline' if running in iPython)\u001b[0m\u001b[1;33m\u001b[0m\u001b[1;33m\u001b[0m\u001b[0m\n\u001b[0;32m    105\u001b[0m                 \u001b[0mplt\u001b[0m\u001b[1;33m.\u001b[0m\u001b[0mclf\u001b[0m\u001b[1;33m(\u001b[0m\u001b[1;33m)\u001b[0m\u001b[1;33m\u001b[0m\u001b[0m\n",
        "\u001b[1;32m/usr/local/lib/python2.7/dist-packages/sklearn/metrics/metrics.pyc\u001b[0m in \u001b[0;36mauc\u001b[1;34m(x, y, reorder)\u001b[0m\n\u001b[0;32m    170\u001b[0m \u001b[1;33m\u001b[0m\u001b[0m\n\u001b[0;32m    171\u001b[0m     \"\"\"\n\u001b[1;32m--> 172\u001b[1;33m     \u001b[0mx\u001b[0m\u001b[1;33m,\u001b[0m \u001b[0my\u001b[0m \u001b[1;33m=\u001b[0m \u001b[0mcheck_arrays\u001b[0m\u001b[1;33m(\u001b[0m\u001b[0mx\u001b[0m\u001b[1;33m,\u001b[0m \u001b[0my\u001b[0m\u001b[1;33m)\u001b[0m\u001b[1;33m\u001b[0m\u001b[0m\n\u001b[0m\u001b[0;32m    173\u001b[0m     \u001b[1;32mif\u001b[0m \u001b[0mx\u001b[0m\u001b[1;33m.\u001b[0m\u001b[0mshape\u001b[0m\u001b[1;33m[\u001b[0m\u001b[1;36m0\u001b[0m\u001b[1;33m]\u001b[0m \u001b[1;33m<\u001b[0m \u001b[1;36m2\u001b[0m\u001b[1;33m:\u001b[0m\u001b[1;33m\u001b[0m\u001b[0m\n\u001b[0;32m    174\u001b[0m         raise ValueError('At least 2 points are needed to compute'\n",
        "\u001b[1;32m/usr/local/lib/python2.7/dist-packages/sklearn/utils/validation.pyc\u001b[0m in \u001b[0;36mcheck_arrays\u001b[1;34m(*arrays, **options)\u001b[0m\n\u001b[0;32m    231\u001b[0m                 \u001b[1;32melse\u001b[0m\u001b[1;33m:\u001b[0m\u001b[1;33m\u001b[0m\u001b[0m\n\u001b[0;32m    232\u001b[0m                     \u001b[0marray\u001b[0m \u001b[1;33m=\u001b[0m \u001b[0mnp\u001b[0m\u001b[1;33m.\u001b[0m\u001b[0masarray\u001b[0m\u001b[1;33m(\u001b[0m\u001b[0marray\u001b[0m\u001b[1;33m,\u001b[0m \u001b[0mdtype\u001b[0m\u001b[1;33m=\u001b[0m\u001b[0mdtype\u001b[0m\u001b[1;33m)\u001b[0m\u001b[1;33m\u001b[0m\u001b[0m\n\u001b[1;32m--> 233\u001b[1;33m                 \u001b[0m_assert_all_finite\u001b[0m\u001b[1;33m(\u001b[0m\u001b[0marray\u001b[0m\u001b[1;33m)\u001b[0m\u001b[1;33m\u001b[0m\u001b[0m\n\u001b[0m\u001b[0;32m    234\u001b[0m \u001b[1;33m\u001b[0m\u001b[0m\n\u001b[0;32m    235\u001b[0m         \u001b[1;32mif\u001b[0m \u001b[0mcopy\u001b[0m \u001b[1;32mand\u001b[0m \u001b[0marray\u001b[0m \u001b[1;32mis\u001b[0m \u001b[0marray_orig\u001b[0m\u001b[1;33m:\u001b[0m\u001b[1;33m\u001b[0m\u001b[0m\n",
        "\u001b[1;32m/usr/local/lib/python2.7/dist-packages/sklearn/utils/validation.pyc\u001b[0m in \u001b[0;36m_assert_all_finite\u001b[1;34m(X)\u001b[0m\n\u001b[0;32m     25\u001b[0m     if (X.dtype.char in np.typecodes['AllFloat'] and not np.isfinite(X.sum())\n\u001b[0;32m     26\u001b[0m             and not np.isfinite(X).all()):\n\u001b[1;32m---> 27\u001b[1;33m         \u001b[1;32mraise\u001b[0m \u001b[0mValueError\u001b[0m\u001b[1;33m(\u001b[0m\u001b[1;34m\"Array contains NaN or infinity.\"\u001b[0m\u001b[1;33m)\u001b[0m\u001b[1;33m\u001b[0m\u001b[0m\n\u001b[0m\u001b[0;32m     28\u001b[0m \u001b[1;33m\u001b[0m\u001b[0m\n\u001b[0;32m     29\u001b[0m \u001b[1;33m\u001b[0m\u001b[0m\n",
        "\u001b[1;31mValueError\u001b[0m: Array contains NaN or infinity."
       ]
      },
      {
       "output_type": "stream",
       "stream": "stdout",
       "text": [
        "Model performance on notes of grade A\n",
        "Accuracy of model:  0.9\n",
        "Total Fully Paid in Grade: 9.0\n",
        "Total Notes in Grade: 10\n",
        "Rate if fully invest: 0.9\n",
        "Total invested in by model: 10.0\n",
        "percent not-defaulted by model: 0.0\n"
       ]
      },
      {
       "output_type": "stream",
       "stream": "stderr",
       "text": [
        "/usr/local/lib/python2.7/dist-packages/sklearn/metrics/metrics.py:681: UserWarning: No negative samples in y_true, false positive value should be meaningless\n",
        "  warnings.warn(\"No negative samples in y_true, \"\n"
       ]
      }
     ],
     "prompt_number": 6
    },
    {
     "cell_type": "code",
     "collapsed": false,
     "input": [
      "p"
     ],
     "language": "python",
     "metadata": {},
     "outputs": []
    },
    {
     "cell_type": "code",
     "collapsed": false,
     "input": [
      "from sklearn import linear_model\n",
      "this.clf = linear_model.SGDClassifier()"
     ],
     "language": "python",
     "metadata": {},
     "outputs": [],
     "prompt_number": 31
    },
    {
     "cell_type": "code",
     "collapsed": false,
     "input": [
      "probas_ = this.clf.fit(this.tr_feat, this.tr_pred)\n",
      "letter = 'C'\n",
      "dt = this.tst_dt[this.tst_dt['grade_'+letter] == 1]\n",
      "tst_pred = dt['status_Fully Paid']\n",
      "tst_feat = dt\n",
      "del tst_feat['status_Fully Paid']\n",
      "print \"Model performance on notes of grade \" + letter"
     ],
     "language": "python",
     "metadata": {},
     "outputs": [
      {
       "output_type": "stream",
       "stream": "stdout",
       "text": [
        "Model performance on notes of grade C\n"
       ]
      }
     ],
     "prompt_number": 38
    },
    {
     "cell_type": "code",
     "collapsed": false,
     "input": [
      "pr = this.clf.predict(tst_feat)"
     ],
     "language": "python",
     "metadata": {},
     "outputs": [],
     "prompt_number": 39
    },
    {
     "cell_type": "code",
     "collapsed": false,
     "input": [],
     "language": "python",
     "metadata": {},
     "outputs": [
      {
       "metadata": {},
       "output_type": "pyout",
       "prompt_number": 43,
       "text": [
        "array([ 1.,  1.,  1., ...,  1.,  1.,  1.])"
       ]
      }
     ],
     "prompt_number": 43
    },
    {
     "cell_type": "code",
     "collapsed": false,
     "input": [],
     "language": "python",
     "metadata": {},
     "outputs": []
    }
   ],
   "metadata": {}
  }
 ]
}