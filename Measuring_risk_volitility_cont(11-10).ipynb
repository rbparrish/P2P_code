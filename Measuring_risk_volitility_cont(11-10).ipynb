{
 "metadata": {
  "name": ""
 },
 "nbformat": 3,
 "nbformat_minor": 0,
 "worksheets": [
  {
   "cells": [
    {
     "cell_type": "code",
     "collapsed": false,
     "input": [
      "import matplotlib.pyplot as plt\n",
      "import numpy as np\n",
      "import pandas as pd\n",
      "%matplotlib inline"
     ],
     "language": "python",
     "metadata": {},
     "outputs": [],
     "prompt_number": 1
    },
    {
     "cell_type": "code",
     "collapsed": false,
     "input": [
      "import open_subset as op\n",
      "import parsers as pa\n",
      "import exploration as ex\n",
      "import model"
     ],
     "language": "python",
     "metadata": {},
     "outputs": [],
     "prompt_number": 2
    },
    {
     "cell_type": "code",
     "collapsed": false,
     "input": [
      "dataB = op.open_and_process('../Raw_Data/LendingClub/LoanStats3a.csv', 'simple')"
     ],
     "language": "python",
     "metadata": {},
     "outputs": [],
     "prompt_number": 13
    },
    {
     "cell_type": "code",
     "collapsed": false,
     "input": [
      "subset_db = dataB.loc[:,['grade','loan_status','loan_amnt','int_rate','total_rec_int','total_rec_prncp','exp_d','last_pymnt_d']]\n",
      "subset_db = op.transform(subset_db)\n",
      "subset_db['yy-mm_start_date'] = subset_db['exp_d'].apply(pa.yr_mm_grouping)\n",
      "subset_db['yy-mm_last_payment'] = subset_db['last_pymnt_d'].apply(pa.yr_mm_grouping)"
     ],
     "language": "python",
     "metadata": {},
     "outputs": [],
     "prompt_number": 51
    },
    {
     "cell_type": "code",
     "collapsed": false,
     "input": [
      "ex.check_types(subset_db)"
     ],
     "language": "python",
     "metadata": {},
     "outputs": [
      {
       "metadata": {},
       "output_type": "pyout",
       "prompt_number": 52,
       "text": [
        "[('grade', {str}),\n",
        " ('loan_status', {str}),\n",
        " ('loan_amnt', {numpy.float64}),\n",
        " ('int_rate', {numpy.float64}),\n",
        " ('total_rec_int', {numpy.float64}),\n",
        " ('total_rec_prncp', {numpy.float64}),\n",
        " ('exp_d', {pandas.tslib.Timestamp}),\n",
        " ('last_pymnt_d', {pandas.tslib.Timestamp}),\n",
        " ('yy-mm_start_date', {str}),\n",
        " ('yy-mm_last_payment', {str})]"
       ]
      }
     ],
     "prompt_number": 52
    },
    {
     "cell_type": "code",
     "collapsed": false,
     "input": [
      "from dateutil.relativedelta import relativedelta"
     ],
     "language": "python",
     "metadata": {},
     "outputs": []
    },
    {
     "cell_type": "code",
     "collapsed": false,
     "input": [
      "# create new row to put duration in\n",
      "subset_db['final_age'] = 0\n",
      "subset_db['last_pay_date_and_age'] = \"0\"\n",
      "count = 0\n",
      "# calculate age of each loan at time of final payment (whether before default, or full payment status)\n",
      "for row, values in subset_db.iterrows():\n",
      "    # set active calculated prvious to current active count\n",
      "    age = relativedelta(subset_db.loc[row,'last_pymnt_d'],subset_db.loc[row,'exp_d'])\n",
      "    months = age.years*12 + age.months\n",
      "    subset_db.loc[row, 'final_age'] = months\n",
      "    subset_db.loc[row, 'last_pay_date_and_age'] = subset_db.loc[row, 'yy-mm_last_payment'] + '_' + str(months)\n",
      "    count += 1\n",
      "    if count % 2500 == 0:\n",
      "        print row\n",
      "ex.check_types(subset_db)"
     ],
     "language": "python",
     "metadata": {},
     "outputs": [
      {
       "output_type": "stream",
       "stream": "stdout",
       "text": [
        "2499\n",
        "4999"
       ]
      },
      {
       "output_type": "stream",
       "stream": "stdout",
       "text": [
        "\n",
        "7499"
       ]
      },
      {
       "output_type": "stream",
       "stream": "stdout",
       "text": [
        "\n",
        "9999"
       ]
      },
      {
       "output_type": "stream",
       "stream": "stdout",
       "text": [
        "\n",
        "12499"
       ]
      },
      {
       "output_type": "stream",
       "stream": "stdout",
       "text": [
        "\n",
        "14999"
       ]
      },
      {
       "output_type": "stream",
       "stream": "stdout",
       "text": [
        "\n",
        "17499"
       ]
      },
      {
       "output_type": "stream",
       "stream": "stdout",
       "text": [
        "\n",
        "19999"
       ]
      },
      {
       "output_type": "stream",
       "stream": "stdout",
       "text": [
        "\n",
        "22499"
       ]
      },
      {
       "output_type": "stream",
       "stream": "stdout",
       "text": [
        "\n",
        "24999"
       ]
      },
      {
       "output_type": "stream",
       "stream": "stdout",
       "text": [
        "\n",
        "27499"
       ]
      },
      {
       "output_type": "stream",
       "stream": "stdout",
       "text": [
        "\n",
        "29999"
       ]
      },
      {
       "output_type": "stream",
       "stream": "stdout",
       "text": [
        "\n",
        "32499"
       ]
      },
      {
       "output_type": "stream",
       "stream": "stdout",
       "text": [
        "\n",
        "34999"
       ]
      },
      {
       "output_type": "stream",
       "stream": "stdout",
       "text": [
        "\n",
        "37499"
       ]
      },
      {
       "output_type": "stream",
       "stream": "stdout",
       "text": [
        "\n",
        "40073"
       ]
      },
      {
       "output_type": "stream",
       "stream": "stdout",
       "text": [
        "\n"
       ]
      },
      {
       "metadata": {},
       "output_type": "pyout",
       "prompt_number": 54,
       "text": [
        "[('grade', {str}),\n",
        " ('loan_status', {str}),\n",
        " ('loan_amnt', {numpy.float64}),\n",
        " ('int_rate', {numpy.float64}),\n",
        " ('total_rec_int', {numpy.float64}),\n",
        " ('total_rec_prncp', {numpy.float64}),\n",
        " ('exp_d', {pandas.tslib.Timestamp}),\n",
        " ('last_pymnt_d', {pandas.tslib.Timestamp}),\n",
        " ('yy-mm_start_date', {str}),\n",
        " ('yy-mm_last_payment', {str}),\n",
        " ('final_age', {numpy.int64}),\n",
        " ('last_pay_date_and_age', {str})]"
       ]
      }
     ],
     "prompt_number": 54
    },
    {
     "cell_type": "code",
     "collapsed": false,
     "input": [
      "default_db = subset_db[subset_db['loan_status'] == \"Charged Off\"]\n",
      "ex.check_types(default_db)"
     ],
     "language": "python",
     "metadata": {},
     "outputs": [
      {
       "metadata": {},
       "output_type": "pyout",
       "prompt_number": 55,
       "text": [
        "[('grade', {str}),\n",
        " ('loan_status', {str}),\n",
        " ('loan_amnt', {numpy.float64}),\n",
        " ('int_rate', {numpy.float64}),\n",
        " ('total_rec_int', {numpy.float64}),\n",
        " ('total_rec_prncp', {numpy.float64}),\n",
        " ('exp_d', {pandas.tslib.Timestamp}),\n",
        " ('last_pymnt_d', {pandas.tslib.Timestamp}),\n",
        " ('yy-mm_start_date', {str}),\n",
        " ('yy-mm_last_payment', {str}),\n",
        " ('final_age', {numpy.int64}),\n",
        " ('last_pay_date_and_age', {str})]"
       ]
      }
     ],
     "prompt_number": 55
    },
    {
     "cell_type": "code",
     "collapsed": false,
     "input": [
      "default_db['last_pay_date_and_age'] = default_db['yy-mm_last_payment'] + \"_\" + str(default_db['final_age'])"
     ],
     "language": "python",
     "metadata": {},
     "outputs": [],
     "prompt_number": 49
    },
    {
     "cell_type": "code",
     "collapsed": false,
     "input": [
      "default_db['last_pay_date_and_age'] = str(default_db['final_age'])"
     ],
     "language": "python",
     "metadata": {},
     "outputs": [],
     "prompt_number": 36
    },
    {
     "cell_type": "code",
     "collapsed": false,
     "input": [
      "default"
     ],
     "language": "python",
     "metadata": {},
     "outputs": [
      {
       "metadata": {},
       "output_type": "pyout",
       "prompt_number": 50,
       "text": [
        "7     2012-10_7      31\\n9      21\\n61     30\\n69   ...\n",
        "9     2011-06_7      31\\n9      21\\n61     30\\n69   ...\n",
        "61    2010-02_7      31\\n9      21\\n61     30\\n69   ...\n",
        "69    2009-05_7      31\\n9      21\\n61     30\\n69   ...\n",
        "77    2009-02_7      31\\n9      21\\n61     30\\n69   ...\n",
        "78    2010-03_7      31\\n9      21\\n61     30\\n69   ...\n",
        "79    2010-03_7      31\\n9      21\\n61     30\\n69   ...\n",
        "80    2009-10_7      31\\n9      21\\n61     30\\n69   ...\n",
        "93    2009-05_7      31\\n9      21\\n61     30\\n69   ...\n",
        "94    2008-03_7      31\\n9      21\\n61     30\\n69   ...\n",
        "Name: last_pay_date_and_age, dtype: object"
       ]
      }
     ],
     "prompt_number": 50
    },
    {
     "cell_type": "code",
     "collapsed": false,
     "input": [],
     "language": "python",
     "metadata": {},
     "outputs": [
      {
       "output_type": "stream",
       "stream": "stdout",
       "text": [
        "relativedelta(years=+5, months=+2, days=+12)\n",
        "relativedelta(years=+2, months=+1, days=+6)\n"
       ]
      }
     ],
     "prompt_number": 9
    },
    {
     "cell_type": "code",
     "collapsed": false,
     "input": [
      "subset_db['yy-mm_start_date'] = subset_db['exp_d'].apply(pa.yr_mm_grouping)\n",
      "subset_db['yy-mm_last_payment'] = subset_db['last_pymnt_d'].apply(pa.yr_mm_grouping)\n",
      "\n",
      "ex.check_types(subset_db)"
     ],
     "language": "python",
     "metadata": {},
     "outputs": [
      {
       "metadata": {},
       "output_type": "pyout",
       "prompt_number": 11,
       "text": [
        "[('grade', {str}),\n",
        " ('loan_status', {str}),\n",
        " ('loan_amnt', {numpy.float64}),\n",
        " ('int_rate', {numpy.float64}),\n",
        " ('total_rec_int', {numpy.float64}),\n",
        " ('total_rec_prncp', {numpy.float64}),\n",
        " ('exp_d', {pandas.tslib.Timestamp}),\n",
        " ('last_pymnt_d', {pandas.tslib.Timestamp}),\n",
        " ('yy-mm_start_date', {str}),\n",
        " ('yy-mm_last_payment', {str})]"
       ]
      }
     ],
     "prompt_number": 11
    },
    {
     "cell_type": "code",
     "collapsed": false,
     "input": [
      "# creating new default database\n",
      "def_db = subset_db[subset_db['loan_status'].isin(['Default','Charged Off','Late (16-30 days)','Late (31-120 days)'])]\n",
      "good_db = subset_db[subset_db['loan_status'].isin(['Current','Fully Paid','In Grace Period'])]\n",
      "tot_db = subset_db[subset_db['loan_status'].isin(['Default','Charged Off','Late (16-30 days)','Late (31-120 days)','Current','Fully Paid','In Grace Period'])]"
     ],
     "language": "python",
     "metadata": {},
     "outputs": []
    },
    {
     "cell_type": "code",
     "collapsed": false,
     "input": [
      "def_groupd = def_db.groupby('yy-mm_last_payment')\n",
      "good_groupd = good_db.groupby('yy-mm_last_payment')\n",
      "tot_groupd = tot_db.groupby('yy-mm_start_date')"
     ],
     "language": "python",
     "metadata": {},
     "outputs": []
    },
    {
     "cell_type": "code",
     "collapsed": false,
     "input": [
      "pieces = {'default_last_payment': def_groupd.size(),\n",
      "          'fully_paid_last_payment': good_groupd.size(),\n",
      "          'all_start_date': tot_groupd.size()}\n",
      "fin_df = pd.DataFrame(pieces)"
     ],
     "language": "python",
     "metadata": {},
     "outputs": []
    },
    {
     "cell_type": "code",
     "collapsed": false,
     "input": [
      "fin_df = fin_df.fillna(0)\n"
     ],
     "language": "python",
     "metadata": {},
     "outputs": []
    }
   ],
   "metadata": {}
  }
 ]
}