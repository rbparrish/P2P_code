{
 "metadata": {
  "name": ""
 },
 "nbformat": 3,
 "nbformat_minor": 0,
 "worksheets": [
  {
   "cells": [
    {
     "cell_type": "code",
     "collapsed": false,
     "input": [
      "import numpy as np\n",
      "import pandas as pd\n",
      "import pylab as pl\n",
      "% pylab"
     ],
     "language": "python",
     "metadata": {},
     "outputs": [
      {
       "output_type": "stream",
       "stream": "stdout",
       "text": [
        "Using matplotlib backend: agg\n",
        "Populating the interactive namespace from numpy and matplotlib\n"
       ]
      }
     ],
     "prompt_number": 31
    },
    {
     "cell_type": "markdown",
     "metadata": {},
     "source": [
      "NOTES ON DATA source & transformation done so far\n",
      "\n",
      "- original = \"LoanStats3a.csv\"\n",
      "\n",
      "    - downloaded on Nov. 4, 2013 from \n",
      "    \n",
      "- took first line off of the original (just a text statement that the data comes from LendingClub)"
     ]
    },
    {
     "cell_type": "code",
     "collapsed": false,
     "input": [
      "!ls ../Raw_Data/Prosper/ProsperDataExport_xml/"
     ],
     "language": "python",
     "metadata": {},
     "outputs": [
      {
       "output_type": "stream",
       "stream": "stdout",
       "text": [
        "ProsperDataExport.xml  ProsperHead_10000.xml  Prosper_Middle_10000.xml\r\n",
        "ProsperDataExport.xsd  ProsperHead_1000.xml   ProsperXMLtoCSV.jar\r\n"
       ]
      }
     ],
     "prompt_number": 2
    },
    {
     "cell_type": "code",
     "collapsed": false,
     "input": [
      "data = pd.read_csv(open('../Raw_Data/LendingClub/LoanStats3a.csv'))\n",
      "#Pdata = pd.read_csv(open('../Raw_Data/Prosper/'))\n",
      "## have not yet transferred Prosper data from XML into csv"
     ],
     "language": "python",
     "metadata": {},
     "outputs": [],
     "prompt_number": 7
    },
    {
     "cell_type": "code",
     "collapsed": false,
     "input": [
      "data"
     ],
     "language": "python",
     "metadata": {},
     "outputs": [
      {
       "html": [
        "<pre>\n",
        "&lt;class 'pandas.core.frame.DataFrame'&gt;\n",
        "Int64Index: 42538 entries, 0 to 42537\n",
        "Columns: 101 entries, id to policy_code\n",
        "dtypes: float64(74), object(27)\n",
        "</pre>"
       ],
       "metadata": {},
       "output_type": "pyout",
       "prompt_number": 8,
       "text": [
        "<class 'pandas.core.frame.DataFrame'>\n",
        "Int64Index: 42538 entries, 0 to 42537\n",
        "Columns: 101 entries, id to policy_code\n",
        "dtypes: float64(74), object(27)"
       ]
      }
     ],
     "prompt_number": 8
    },
    {
     "cell_type": "code",
     "collapsed": false,
     "input": [
      "set(data['emp_length'].head(n=1000))\n",
      "# interestingly, it appears LC doesn't take unemployed/other while P does"
     ],
     "language": "python",
     "metadata": {},
     "outputs": [
      {
       "metadata": {},
       "output_type": "pyout",
       "prompt_number": 10,
       "text": [
        "{'1 year',\n",
        " '10+ years',\n",
        " '2 years',\n",
        " '3 years',\n",
        " '4 years',\n",
        " '5 years',\n",
        " '6 years',\n",
        " '7 years',\n",
        " '8 years',\n",
        " '9 years',\n",
        " '< 1 year'}"
       ]
      }
     ],
     "prompt_number": 10
    },
    {
     "cell_type": "code",
     "collapsed": false,
     "input": [
      "set(data['emp_title'].head(n=50))\n",
      "# maybe just make NaN = not employed, and all else = employed??"
     ],
     "language": "python",
     "metadata": {},
     "outputs": [
      {
       "ename": "NameError",
       "evalue": "name 'data' is not defined",
       "output_type": "pyerr",
       "traceback": [
        "\u001b[1;31m---------------------------------------------------------------------------\u001b[0m\n\u001b[1;31mNameError\u001b[0m                                 Traceback (most recent call last)",
        "\u001b[1;32m<ipython-input-30-b2a0836b8ba8>\u001b[0m in \u001b[0;36m<module>\u001b[1;34m()\u001b[0m\n\u001b[1;32m----> 1\u001b[1;33m \u001b[0mset\u001b[0m\u001b[1;33m(\u001b[0m\u001b[0mdata\u001b[0m\u001b[1;33m[\u001b[0m\u001b[1;34m'emp_title'\u001b[0m\u001b[1;33m]\u001b[0m\u001b[1;33m.\u001b[0m\u001b[0mhead\u001b[0m\u001b[1;33m(\u001b[0m\u001b[0mn\u001b[0m\u001b[1;33m=\u001b[0m\u001b[1;36m50\u001b[0m\u001b[1;33m)\u001b[0m\u001b[1;33m)\u001b[0m\u001b[1;33m\u001b[0m\u001b[0m\n\u001b[0m\u001b[0;32m      2\u001b[0m \u001b[1;31m# maybe just make NaN = not employed, and all else = employed??\u001b[0m\u001b[1;33m\u001b[0m\u001b[1;33m\u001b[0m\u001b[0m\n",
        "\u001b[1;31mNameError\u001b[0m: name 'data' is not defined"
       ]
      }
     ],
     "prompt_number": 30
    },
    {
     "cell_type": "code",
     "collapsed": false,
     "input": [
      "set(data['purpose'])\n",
      "# probably "
     ],
     "language": "python",
     "metadata": {},
     "outputs": [
      {
       "metadata": {},
       "output_type": "pyout",
       "prompt_number": 14,
       "text": [
        "{nan,\n",
        " 'car',\n",
        " 'credit_card',\n",
        " 'debt_consolidation',\n",
        " 'educational',\n",
        " 'home_improvement',\n",
        " 'house',\n",
        " 'major_purchase',\n",
        " 'medical',\n",
        " 'moving',\n",
        " 'other',\n",
        " 'renewable_energy',\n",
        " 'small_business',\n",
        " 'vacation',\n",
        " 'wedding'}"
       ]
      }
     ],
     "prompt_number": 14
    },
    {
     "cell_type": "code",
     "collapsed": false,
     "input": [
      "from open_subset import open_and_subset"
     ],
     "language": "python",
     "metadata": {},
     "outputs": [],
     "prompt_number": 2
    },
    {
     "cell_type": "code",
     "collapsed": false,
     "input": [
      "data_subset = open_and_subset('../Raw_Data/LendingClub/LoanStats3a.csv','feature_only')"
     ],
     "language": "python",
     "metadata": {},
     "outputs": [],
     "prompt_number": 19
    },
    {
     "cell_type": "code",
     "collapsed": false,
     "input": [
      "data_subset"
     ],
     "language": "python",
     "metadata": {},
     "outputs": [
      {
       "html": [
        "<pre>\n",
        "&lt;class 'pandas.core.frame.DataFrame'&gt;\n",
        "Int64Index: 42538 entries, 0 to 42537\n",
        "Data columns (total 12 columns):\n",
        "title             42524  non-null values\n",
        "desc              29243  non-null values\n",
        "is_inc_v          42535  non-null values\n",
        "loan_amnt         42535  non-null values\n",
        "term              42535  non-null values\n",
        "int_rate          42535  non-null values\n",
        "grade             42535  non-null values\n",
        "home_ownership    42535  non-null values\n",
        "purpose           42535  non-null values\n",
        "emp_title         39917  non-null values\n",
        "annual_inc        42531  non-null values\n",
        "loan_status       42535  non-null values\n",
        "dtypes: float64(2), object(10)\n",
        "</pre>"
       ],
       "metadata": {},
       "output_type": "pyout",
       "prompt_number": 5,
       "text": [
        "<class 'pandas.core.frame.DataFrame'>\n",
        "Int64Index: 42538 entries, 0 to 42537\n",
        "Data columns (total 12 columns):\n",
        "title             42524  non-null values\n",
        "desc              29243  non-null values\n",
        "is_inc_v          42535  non-null values\n",
        "loan_amnt         42535  non-null values\n",
        "term              42535  non-null values\n",
        "int_rate          42535  non-null values\n",
        "grade             42535  non-null values\n",
        "home_ownership    42535  non-null values\n",
        "purpose           42535  non-null values\n",
        "emp_title         39917  non-null values\n",
        "annual_inc        42531  non-null values\n",
        "loan_status       42535  non-null values\n",
        "dtypes: float64(2), object(10)"
       ]
      }
     ],
     "prompt_number": 5
    },
    {
     "cell_type": "code",
     "collapsed": false,
     "input": [
      "# test feature_engineering\n",
      "data_subset['title'].head(n=10)"
     ],
     "language": "python",
     "metadata": {},
     "outputs": [
      {
       "metadata": {},
       "output_type": "pyout",
       "prompt_number": 28,
       "text": [
        "0    36\n",
        "1    18\n",
        "2     5\n",
        "3    13\n",
        "4     5\n",
        "5    34\n",
        "6    11\n",
        "7     9\n",
        "8    14\n",
        "9     3\n",
        "Name: title, dtype: int64"
       ]
      }
     ],
     "prompt_number": 28
    },
    {
     "cell_type": "code",
     "collapsed": false,
     "input": [
      "data_subset['title'] = data_subset['title'].fillna(\"\").apply(len)"
     ],
     "language": "python",
     "metadata": {},
     "outputs": [],
     "prompt_number": 21
    },
    {
     "cell_type": "code",
     "collapsed": false,
     "input": [
      "set(data_subset['purpose'].fillna(\"not_given\", inplace=True))"
     ],
     "language": "python",
     "metadata": {},
     "outputs": [
      {
       "metadata": {},
       "output_type": "pyout",
       "prompt_number": 12,
       "text": [
        "{'car',\n",
        " 'credit_card',\n",
        " 'debt_consolidation',\n",
        " 'educational',\n",
        " 'home_improvement',\n",
        " 'house',\n",
        " 'major_purchase',\n",
        " 'medical',\n",
        " 'moving',\n",
        " 'not_given',\n",
        " 'other',\n",
        " 'renewable_energy',\n",
        " 'small_business',\n",
        " 'vacation',\n",
        " 'wedding'}"
       ]
      }
     ],
     "prompt_number": 12
    },
    {
     "cell_type": "code",
     "collapsed": false,
     "input": [
      "42538 - data_subset['is_inc_v'].count()"
     ],
     "language": "python",
     "metadata": {},
     "outputs": [
      {
       "metadata": {},
       "output_type": "pyout",
       "prompt_number": 26,
       "text": [
        "3"
       ]
      }
     ],
     "prompt_number": 26
    },
    {
     "cell_type": "code",
     "collapsed": false,
     "input": [
      "set(data_subset['int_rate'].head())"
     ],
     "language": "python",
     "metadata": {},
     "outputs": [
      {
       "metadata": {},
       "output_type": "pyout",
       "prompt_number": 32,
       "text": [
        "{' 10.08%', ' 10.71%', ' 11.89%', ' 13.11%', ' 13.57%'}"
       ]
      }
     ],
     "prompt_number": 32
    },
    {
     "cell_type": "code",
     "collapsed": false,
     "input": [
      "import re\n",
      "def strip_non_numeric_and_parse(x):\n",
      "    try:\n",
      "        return float(re.sub(r'[^0-9\\.]', '', x))\n",
      "    except ValueError:\n",
      "        return 0.0"
     ],
     "language": "python",
     "metadata": {},
     "outputs": [],
     "prompt_number": 35
    },
    {
     "cell_type": "code",
     "collapsed": false,
     "input": [
      "def binary_true_false(x):\n",
      "    if x != False:\n",
      "        return 1\n",
      "    return 0"
     ],
     "language": "python",
     "metadata": {},
     "outputs": [],
     "prompt_number": 63
    },
    {
     "cell_type": "code",
     "collapsed": false,
     "input": [
      "mini = data_subset['emp_title'].fillna(False).apply(string_check).head(n=10)\n",
      "mini"
     ],
     "language": "python",
     "metadata": {},
     "outputs": [
      {
       "metadata": {},
       "output_type": "pyout",
       "prompt_number": 65,
       "text": [
        "0    0\n",
        "1    1\n",
        "2    1\n",
        "3    1\n",
        "4    1\n",
        "5    0\n",
        "6    0\n",
        "7    1\n",
        "8    1\n",
        "9    1\n",
        "Name: emp_title, dtype: int64"
       ]
      }
     ],
     "prompt_number": 65
    },
    {
     "cell_type": "code",
     "collapsed": false,
     "input": [
      "set(data_subset['loan_status'])"
     ],
     "language": "python",
     "metadata": {},
     "outputs": [
      {
       "metadata": {},
       "output_type": "pyout",
       "prompt_number": 67,
       "text": [
        "{nan,\n",
        " 'Charged Off',\n",
        " 'Current',\n",
        " 'Default',\n",
        " 'Does not meet the credit policy.  Status:Charged Off',\n",
        " 'Does not meet the credit policy.  Status:Current',\n",
        " 'Does not meet the credit policy.  Status:Fully Paid',\n",
        " 'Does not meet the credit policy.  Status:In Grace Period',\n",
        " 'Does not meet the credit policy.  Status:Late (16-30 days)',\n",
        " 'Does not meet the credit policy.  Status:Late (31-120 days)',\n",
        " 'Fully Paid',\n",
        " 'In Grace Period',\n",
        " 'Late (16-30 days)',\n",
        " 'Late (31-120 days)'}"
       ]
      }
     ],
     "prompt_number": 67
    },
    {
     "cell_type": "code",
     "collapsed": false,
     "input": [
      "import open_subset"
     ],
     "language": "python",
     "metadata": {},
     "outputs": [],
     "prompt_number": 5
    },
    {
     "cell_type": "code",
     "collapsed": false,
     "input": [
      "reload(open_subset)"
     ],
     "language": "python",
     "metadata": {},
     "outputs": [
      {
       "metadata": {},
       "output_type": "pyout",
       "prompt_number": 10,
       "text": [
        "<module 'open_subset' from 'open_subset.py'>"
       ]
      }
     ],
     "prompt_number": 10
    },
    {
     "cell_type": "code",
     "collapsed": false,
     "input": [
      "data = open_subset.open_and_subset('../Raw_Data/LendingClub/LoanStats3a.csv', 'through_transform')\n",
      "data"
     ],
     "language": "python",
     "metadata": {},
     "outputs": [
      {
       "html": [
        "<pre>\n",
        "&lt;class 'pandas.core.frame.DataFrame'&gt;\n",
        "Int64Index: 42531 entries, 0 to 42537\n",
        "Data columns (total 11 columns):\n",
        "title             42531  non-null values\n",
        "desc              42531  non-null values\n",
        "is_inc_v          42531  non-null values\n",
        "loan_amnt         42531  non-null values\n",
        "term              42531  non-null values\n",
        "int_rate          42531  non-null values\n",
        "grade             42531  non-null values\n",
        "home_ownership    42531  non-null values\n",
        "purpose           42531  non-null values\n",
        "annual_inc        42531  non-null values\n",
        "loan_status       42531  non-null values\n",
        "dtypes: float64(4), int64(2), object(5)\n",
        "</pre>"
       ],
       "metadata": {},
       "output_type": "pyout",
       "prompt_number": 11,
       "text": [
        "<class 'pandas.core.frame.DataFrame'>\n",
        "Int64Index: 42531 entries, 0 to 42537\n",
        "Data columns (total 11 columns):\n",
        "title             42531  non-null values\n",
        "desc              42531  non-null values\n",
        "is_inc_v          42531  non-null values\n",
        "loan_amnt         42531  non-null values\n",
        "term              42531  non-null values\n",
        "int_rate          42531  non-null values\n",
        "grade             42531  non-null values\n",
        "home_ownership    42531  non-null values\n",
        "purpose           42531  non-null values\n",
        "annual_inc        42531  non-null values\n",
        "loan_status       42531  non-null values\n",
        "dtypes: float64(4), int64(2), object(5)"
       ]
      }
     ],
     "prompt_number": 11
    },
    {
     "cell_type": "code",
     "collapsed": false,
     "input": [
      "types = data['title'].apply(type)\n",
      "print set(types)"
     ],
     "language": "python",
     "metadata": {},
     "outputs": [
      {
       "output_type": "stream",
       "stream": "stdout",
       "text": [
        "set([<type 'numpy.int64'>])\n"
       ]
      }
     ],
     "prompt_number": 13
    },
    {
     "cell_type": "code",
     "collapsed": false,
     "input": [
      "for feature in data.columns:\n",
      "    types = data[feature].apply(type)\n",
      "    print feature, set(types)"
     ],
     "language": "python",
     "metadata": {},
     "outputs": [
      {
       "output_type": "stream",
       "stream": "stdout",
       "text": [
        "title set([<type 'numpy.int64'>])\n",
        "desc set([<type 'numpy.int64'>])\n",
        "is_inc_v set([<type 'bool'>])\n",
        "loan_amnt set([<type 'numpy.float64'>])\n",
        "term"
       ]
      },
      {
       "output_type": "stream",
       "stream": "stdout",
       "text": [
        " set([<type 'numpy.float64'>])\n",
        "int_rate set([<type 'numpy.float64'>])\n",
        "grade set([<type 'str'>])\n",
        "home_ownership set([<type 'str'>])\n",
        "purpose set([<type 'str'>])\n",
        "annual_inc"
       ]
      },
      {
       "output_type": "stream",
       "stream": "stdout",
       "text": [
        " set([<type 'numpy.float64'>])\n",
        "loan_status set([<type 'str'>])\n"
       ]
      }
     ],
     "prompt_number": 18
    },
    {
     "cell_type": "code",
     "collapsed": false,
     "input": [
      "data.describe()"
     ],
     "language": "python",
     "metadata": {},
     "outputs": [
      {
       "html": [
        "<div style=\"max-height:1000px;max-width:1500px;overflow:auto;\">\n",
        "<table border=\"1\" class=\"dataframe\">\n",
        "  <thead>\n",
        "    <tr style=\"text-align: right;\">\n",
        "      <th></th>\n",
        "      <th>title</th>\n",
        "      <th>desc</th>\n",
        "      <th>loan_amnt</th>\n",
        "      <th>term</th>\n",
        "      <th>int_rate</th>\n",
        "      <th>annual_inc</th>\n",
        "    </tr>\n",
        "  </thead>\n",
        "  <tbody>\n",
        "    <tr>\n",
        "      <th>count</th>\n",
        "      <td> 42531.000000</td>\n",
        "      <td> 42531.000000</td>\n",
        "      <td> 42531.000000</td>\n",
        "      <td> 42531.000000</td>\n",
        "      <td> 42531.000000</td>\n",
        "      <td>   42531.000000</td>\n",
        "    </tr>\n",
        "    <tr>\n",
        "      <th>mean</th>\n",
        "      <td>    17.341116</td>\n",
        "      <td>   291.168983</td>\n",
        "      <td> 11090.173050</td>\n",
        "      <td>    42.207801</td>\n",
        "      <td>    12.164727</td>\n",
        "      <td>   69136.556420</td>\n",
        "    </tr>\n",
        "    <tr>\n",
        "      <th>std</th>\n",
        "      <td>     9.146904</td>\n",
        "      <td>   426.204159</td>\n",
        "      <td>  7411.137529</td>\n",
        "      <td>    10.509664</td>\n",
        "      <td>     3.707628</td>\n",
        "      <td>   64096.349719</td>\n",
        "    </tr>\n",
        "    <tr>\n",
        "      <th>min</th>\n",
        "      <td>     0.000000</td>\n",
        "      <td>     0.000000</td>\n",
        "      <td>   500.000000</td>\n",
        "      <td>    36.000000</td>\n",
        "      <td>     5.420000</td>\n",
        "      <td>    1896.000000</td>\n",
        "    </tr>\n",
        "    <tr>\n",
        "      <th>25%</th>\n",
        "      <td>    11.000000</td>\n",
        "      <td>     0.000000</td>\n",
        "      <td>  5200.000000</td>\n",
        "      <td>    36.000000</td>\n",
        "      <td>     9.630000</td>\n",
        "      <td>   40000.000000</td>\n",
        "    </tr>\n",
        "    <tr>\n",
        "      <th>50%</th>\n",
        "      <td>    16.000000</td>\n",
        "      <td>   148.000000</td>\n",
        "      <td>  9700.000000</td>\n",
        "      <td>    36.000000</td>\n",
        "      <td>    11.990000</td>\n",
        "      <td>   59000.000000</td>\n",
        "    </tr>\n",
        "    <tr>\n",
        "      <th>75%</th>\n",
        "      <td>    22.000000</td>\n",
        "      <td>   394.000000</td>\n",
        "      <td> 15000.000000</td>\n",
        "      <td>    60.000000</td>\n",
        "      <td>    14.720000</td>\n",
        "      <td>   82500.000000</td>\n",
        "    </tr>\n",
        "    <tr>\n",
        "      <th>max</th>\n",
        "      <td>    81.000000</td>\n",
        "      <td>  3989.000000</td>\n",
        "      <td> 35000.000000</td>\n",
        "      <td>    60.000000</td>\n",
        "      <td>    24.590000</td>\n",
        "      <td> 6000000.000000</td>\n",
        "    </tr>\n",
        "  </tbody>\n",
        "</table>\n",
        "</div>"
       ],
       "metadata": {},
       "output_type": "pyout",
       "prompt_number": 33,
       "text": [
        "              title          desc     loan_amnt          term      int_rate      annual_inc\n",
        "count  42531.000000  42531.000000  42531.000000  42531.000000  42531.000000    42531.000000\n",
        "mean      17.341116    291.168983  11090.173050     42.207801     12.164727    69136.556420\n",
        "std        9.146904    426.204159   7411.137529     10.509664      3.707628    64096.349719\n",
        "min        0.000000      0.000000    500.000000     36.000000      5.420000     1896.000000\n",
        "25%       11.000000      0.000000   5200.000000     36.000000      9.630000    40000.000000\n",
        "50%       16.000000    148.000000   9700.000000     36.000000     11.990000    59000.000000\n",
        "75%       22.000000    394.000000  15000.000000     60.000000     14.720000    82500.000000\n",
        "max       81.000000   3989.000000  35000.000000     60.000000     24.590000  6000000.000000"
       ]
      }
     ],
     "prompt_number": 33
    },
    {
     "cell_type": "code",
     "collapsed": false,
     "input": [
      "data.std()"
     ],
     "language": "python",
     "metadata": {},
     "outputs": [
      {
       "metadata": {},
       "output_type": "pyout",
       "prompt_number": 35,
       "text": [
        "title             9.146904\n",
        "desc            426.204159\n",
        "loan_amnt      7411.137529\n",
        "term             10.509664\n",
        "int_rate          3.707628\n",
        "annual_inc    64096.349719\n",
        "dtype: float64"
       ]
      }
     ],
     "prompt_number": 35
    },
    {
     "cell_type": "code",
     "collapsed": false,
     "input": [
      "# taking this approach from: http://blog.yhathq.com/posts/logistic-regression-and-python.html\n",
      "data.hist()\n",
      "pl.show()"
     ],
     "language": "python",
     "metadata": {},
     "outputs": [
      {
       "ename": "TypeError",
       "evalue": "cannot concatenate 'str' and 'float' objects",
       "output_type": "pyerr",
       "traceback": [
        "\u001b[1;31m---------------------------------------------------------------------------\u001b[0m\n\u001b[1;31mTypeError\u001b[0m                                 Traceback (most recent call last)",
        "\u001b[1;32m<ipython-input-34-44485f6c2371>\u001b[0m in \u001b[0;36m<module>\u001b[1;34m()\u001b[0m\n\u001b[1;32m----> 1\u001b[1;33m \u001b[0mdata\u001b[0m\u001b[1;33m.\u001b[0m\u001b[0mhist\u001b[0m\u001b[1;33m(\u001b[0m\u001b[1;33m)\u001b[0m\u001b[1;33m\u001b[0m\u001b[0m\n\u001b[0m\u001b[0;32m      2\u001b[0m \u001b[0mpl\u001b[0m\u001b[1;33m.\u001b[0m\u001b[0mshow\u001b[0m\u001b[1;33m(\u001b[0m\u001b[1;33m)\u001b[0m\u001b[1;33m\u001b[0m\u001b[0m\n",
        "\u001b[1;32m/usr/local/lib/python2.7/dist-packages/pandas/tools/plotting.pyc\u001b[0m in \u001b[0;36mhist_frame\u001b[1;34m(data, column, by, grid, xlabelsize, xrot, ylabelsize, yrot, ax, sharex, sharey, figsize, layout, **kwds)\u001b[0m\n\u001b[0;32m   1970\u001b[0m         \u001b[0max\u001b[0m\u001b[1;33m.\u001b[0m\u001b[0mxaxis\u001b[0m\u001b[1;33m.\u001b[0m\u001b[0mset_visible\u001b[0m\u001b[1;33m(\u001b[0m\u001b[0mTrue\u001b[0m\u001b[1;33m)\u001b[0m\u001b[1;33m\u001b[0m\u001b[0m\n\u001b[0;32m   1971\u001b[0m         \u001b[0max\u001b[0m\u001b[1;33m.\u001b[0m\u001b[0myaxis\u001b[0m\u001b[1;33m.\u001b[0m\u001b[0mset_visible\u001b[0m\u001b[1;33m(\u001b[0m\u001b[0mTrue\u001b[0m\u001b[1;33m)\u001b[0m\u001b[1;33m\u001b[0m\u001b[0m\n\u001b[1;32m-> 1972\u001b[1;33m         \u001b[0max\u001b[0m\u001b[1;33m.\u001b[0m\u001b[0mhist\u001b[0m\u001b[1;33m(\u001b[0m\u001b[0mdata\u001b[0m\u001b[1;33m[\u001b[0m\u001b[0mcol\u001b[0m\u001b[1;33m]\u001b[0m\u001b[1;33m.\u001b[0m\u001b[0mdropna\u001b[0m\u001b[1;33m(\u001b[0m\u001b[1;33m)\u001b[0m\u001b[1;33m.\u001b[0m\u001b[0mvalues\u001b[0m\u001b[1;33m,\u001b[0m \u001b[1;33m**\u001b[0m\u001b[0mkwds\u001b[0m\u001b[1;33m)\u001b[0m\u001b[1;33m\u001b[0m\u001b[0m\n\u001b[0m\u001b[0;32m   1973\u001b[0m         \u001b[0max\u001b[0m\u001b[1;33m.\u001b[0m\u001b[0mset_title\u001b[0m\u001b[1;33m(\u001b[0m\u001b[0mcol\u001b[0m\u001b[1;33m)\u001b[0m\u001b[1;33m\u001b[0m\u001b[0m\n\u001b[0;32m   1974\u001b[0m         \u001b[0max\u001b[0m\u001b[1;33m.\u001b[0m\u001b[0mgrid\u001b[0m\u001b[1;33m(\u001b[0m\u001b[0mgrid\u001b[0m\u001b[1;33m)\u001b[0m\u001b[1;33m\u001b[0m\u001b[0m\n",
        "\u001b[1;32m/usr/local/lib/python2.7/dist-packages/matplotlib/axes.pyc\u001b[0m in \u001b[0;36mhist\u001b[1;34m(self, x, bins, range, normed, weights, cumulative, bottom, histtype, align, orientation, rwidth, log, color, label, stacked, **kwargs)\u001b[0m\n\u001b[0;32m   8322\u001b[0m             \u001b[1;31m# this will automatically overwrite bins,\u001b[0m\u001b[1;33m\u001b[0m\u001b[1;33m\u001b[0m\u001b[0m\n\u001b[0;32m   8323\u001b[0m             \u001b[1;31m# so that each histogram uses the same bins\u001b[0m\u001b[1;33m\u001b[0m\u001b[1;33m\u001b[0m\u001b[0m\n\u001b[1;32m-> 8324\u001b[1;33m             \u001b[0mm\u001b[0m\u001b[1;33m,\u001b[0m \u001b[0mbins\u001b[0m \u001b[1;33m=\u001b[0m \u001b[0mnp\u001b[0m\u001b[1;33m.\u001b[0m\u001b[0mhistogram\u001b[0m\u001b[1;33m(\u001b[0m\u001b[0mx\u001b[0m\u001b[1;33m[\u001b[0m\u001b[0mi\u001b[0m\u001b[1;33m]\u001b[0m\u001b[1;33m,\u001b[0m \u001b[0mbins\u001b[0m\u001b[1;33m,\u001b[0m \u001b[0mweights\u001b[0m\u001b[1;33m=\u001b[0m\u001b[0mw\u001b[0m\u001b[1;33m[\u001b[0m\u001b[0mi\u001b[0m\u001b[1;33m]\u001b[0m\u001b[1;33m,\u001b[0m \u001b[1;33m**\u001b[0m\u001b[0mhist_kwargs\u001b[0m\u001b[1;33m)\u001b[0m\u001b[1;33m\u001b[0m\u001b[0m\n\u001b[0m\u001b[0;32m   8325\u001b[0m             \u001b[0mm\u001b[0m \u001b[1;33m=\u001b[0m \u001b[0mm\u001b[0m\u001b[1;33m.\u001b[0m\u001b[0mastype\u001b[0m\u001b[1;33m(\u001b[0m\u001b[0mfloat\u001b[0m\u001b[1;33m)\u001b[0m \u001b[1;31m# causes problems later if it's an int\u001b[0m\u001b[1;33m\u001b[0m\u001b[0m\n\u001b[0;32m   8326\u001b[0m             \u001b[1;32mif\u001b[0m \u001b[0mmlast\u001b[0m \u001b[1;32mis\u001b[0m \u001b[0mNone\u001b[0m\u001b[1;33m:\u001b[0m\u001b[1;33m\u001b[0m\u001b[0m\n",
        "\u001b[1;32m/usr/lib/python2.7/dist-packages/numpy/lib/function_base.pyc\u001b[0m in \u001b[0;36mhistogram\u001b[1;34m(a, bins, range, normed, weights, density)\u001b[0m\n\u001b[0;32m    167\u001b[0m             \u001b[1;32melse\u001b[0m\u001b[1;33m:\u001b[0m\u001b[1;33m\u001b[0m\u001b[0m\n\u001b[0;32m    168\u001b[0m                 \u001b[0mrange\u001b[0m \u001b[1;33m=\u001b[0m \u001b[1;33m(\u001b[0m\u001b[0ma\u001b[0m\u001b[1;33m.\u001b[0m\u001b[0mmin\u001b[0m\u001b[1;33m(\u001b[0m\u001b[1;33m)\u001b[0m\u001b[1;33m,\u001b[0m \u001b[0ma\u001b[0m\u001b[1;33m.\u001b[0m\u001b[0mmax\u001b[0m\u001b[1;33m(\u001b[0m\u001b[1;33m)\u001b[0m\u001b[1;33m)\u001b[0m\u001b[1;33m\u001b[0m\u001b[0m\n\u001b[1;32m--> 169\u001b[1;33m         \u001b[0mmn\u001b[0m\u001b[1;33m,\u001b[0m \u001b[0mmx\u001b[0m \u001b[1;33m=\u001b[0m \u001b[1;33m[\u001b[0m\u001b[0mmi\u001b[0m\u001b[1;33m+\u001b[0m\u001b[1;36m0.0\u001b[0m \u001b[1;32mfor\u001b[0m \u001b[0mmi\u001b[0m \u001b[1;32min\u001b[0m \u001b[0mrange\u001b[0m\u001b[1;33m]\u001b[0m\u001b[1;33m\u001b[0m\u001b[0m\n\u001b[0m\u001b[0;32m    170\u001b[0m         \u001b[1;32mif\u001b[0m \u001b[0mmn\u001b[0m \u001b[1;33m==\u001b[0m \u001b[0mmx\u001b[0m\u001b[1;33m:\u001b[0m\u001b[1;33m\u001b[0m\u001b[0m\n\u001b[0;32m    171\u001b[0m             \u001b[0mmn\u001b[0m \u001b[1;33m-=\u001b[0m \u001b[1;36m0.5\u001b[0m\u001b[1;33m\u001b[0m\u001b[0m\n",
        "\u001b[1;31mTypeError\u001b[0m: cannot concatenate 'str' and 'float' objects"
       ]
      }
     ],
     "prompt_number": 34
    }
   ],
   "metadata": {}
  }
 ]
}