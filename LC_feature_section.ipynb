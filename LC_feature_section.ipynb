{
 "metadata": {
  "name": ""
 },
 "nbformat": 3,
 "nbformat_minor": 0,
 "worksheets": [
  {
   "cells": [
    {
     "cell_type": "code",
     "collapsed": false,
     "input": [
      "import numpy as np\n",
      "import pandas as pd"
     ],
     "language": "python",
     "metadata": {},
     "outputs": [],
     "prompt_number": 4
    },
    {
     "cell_type": "markdown",
     "metadata": {},
     "source": [
      "NOTES ON DATA source & transformation done so far\n",
      "\n",
      "- original = \"LoanStats3a.csv\"\n",
      "\n",
      "    - downloaded on Nov. 4, 2013 from \n",
      "    \n",
      "- took first line off of the original (just a text statement that the data comes from LendingClub)"
     ]
    },
    {
     "cell_type": "code",
     "collapsed": false,
     "input": [
      "!ls ../Raw_Data/Prosper/ProsperDataExport_xml/"
     ],
     "language": "python",
     "metadata": {},
     "outputs": [
      {
       "output_type": "stream",
       "stream": "stdout",
       "text": [
        "ProsperDataExport.xml  ProsperHead_10000.xml  Prosper_Middle_10000.xml\r\n",
        "ProsperDataExport.xsd  ProsperHead_1000.xml   ProsperXMLtoCSV.jar\r\n"
       ]
      }
     ],
     "prompt_number": 2
    },
    {
     "cell_type": "code",
     "collapsed": false,
     "input": [
      "data = pd.read_csv(open('../Raw_Data/LendingClub/LoanStats3a.csv'))\n",
      "#Pdata = pd.read_csv(open('../Raw_Data/Prosper/'))\n",
      "## have not yet transferred Prosper data from XML into csv"
     ],
     "language": "python",
     "metadata": {},
     "outputs": [],
     "prompt_number": 7
    },
    {
     "cell_type": "code",
     "collapsed": false,
     "input": [
      "data"
     ],
     "language": "python",
     "metadata": {},
     "outputs": [
      {
       "html": [
        "<pre>\n",
        "&lt;class 'pandas.core.frame.DataFrame'&gt;\n",
        "Int64Index: 42538 entries, 0 to 42537\n",
        "Columns: 101 entries, id to policy_code\n",
        "dtypes: float64(74), object(27)\n",
        "</pre>"
       ],
       "metadata": {},
       "output_type": "pyout",
       "prompt_number": 8,
       "text": [
        "<class 'pandas.core.frame.DataFrame'>\n",
        "Int64Index: 42538 entries, 0 to 42537\n",
        "Columns: 101 entries, id to policy_code\n",
        "dtypes: float64(74), object(27)"
       ]
      }
     ],
     "prompt_number": 8
    },
    {
     "cell_type": "code",
     "collapsed": false,
     "input": [
      "set(data['emp_length'].head(n=1000))\n",
      "# interestingly, it appears LC doesn't take unemployed/other while P does"
     ],
     "language": "python",
     "metadata": {},
     "outputs": [
      {
       "metadata": {},
       "output_type": "pyout",
       "prompt_number": 10,
       "text": [
        "{'1 year',\n",
        " '10+ years',\n",
        " '2 years',\n",
        " '3 years',\n",
        " '4 years',\n",
        " '5 years',\n",
        " '6 years',\n",
        " '7 years',\n",
        " '8 years',\n",
        " '9 years',\n",
        " '< 1 year'}"
       ]
      }
     ],
     "prompt_number": 10
    },
    {
     "cell_type": "code",
     "collapsed": false,
     "input": [
      "set(data['emp_title'].head(n=50))\n",
      "# maybe just make NaN = not employed, and all else = employed??"
     ],
     "language": "python",
     "metadata": {},
     "outputs": [
      {
       "ename": "NameError",
       "evalue": "name 'data' is not defined",
       "output_type": "pyerr",
       "traceback": [
        "\u001b[1;31m---------------------------------------------------------------------------\u001b[0m\n\u001b[1;31mNameError\u001b[0m                                 Traceback (most recent call last)",
        "\u001b[1;32m<ipython-input-30-b2a0836b8ba8>\u001b[0m in \u001b[0;36m<module>\u001b[1;34m()\u001b[0m\n\u001b[1;32m----> 1\u001b[1;33m \u001b[0mset\u001b[0m\u001b[1;33m(\u001b[0m\u001b[0mdata\u001b[0m\u001b[1;33m[\u001b[0m\u001b[1;34m'emp_title'\u001b[0m\u001b[1;33m]\u001b[0m\u001b[1;33m.\u001b[0m\u001b[0mhead\u001b[0m\u001b[1;33m(\u001b[0m\u001b[0mn\u001b[0m\u001b[1;33m=\u001b[0m\u001b[1;36m50\u001b[0m\u001b[1;33m)\u001b[0m\u001b[1;33m)\u001b[0m\u001b[1;33m\u001b[0m\u001b[0m\n\u001b[0m\u001b[0;32m      2\u001b[0m \u001b[1;31m# maybe just make NaN = not employed, and all else = employed??\u001b[0m\u001b[1;33m\u001b[0m\u001b[1;33m\u001b[0m\u001b[0m\n",
        "\u001b[1;31mNameError\u001b[0m: name 'data' is not defined"
       ]
      }
     ],
     "prompt_number": 30
    },
    {
     "cell_type": "code",
     "collapsed": false,
     "input": [
      "set(data['purpose'])\n",
      "# probably "
     ],
     "language": "python",
     "metadata": {},
     "outputs": [
      {
       "metadata": {},
       "output_type": "pyout",
       "prompt_number": 14,
       "text": [
        "{nan,\n",
        " 'car',\n",
        " 'credit_card',\n",
        " 'debt_consolidation',\n",
        " 'educational',\n",
        " 'home_improvement',\n",
        " 'house',\n",
        " 'major_purchase',\n",
        " 'medical',\n",
        " 'moving',\n",
        " 'other',\n",
        " 'renewable_energy',\n",
        " 'small_business',\n",
        " 'vacation',\n",
        " 'wedding'}"
       ]
      }
     ],
     "prompt_number": 14
    },
    {
     "cell_type": "code",
     "collapsed": false,
     "input": [
      "from open_subset import open_and_subset"
     ],
     "language": "python",
     "metadata": {},
     "outputs": [],
     "prompt_number": 2
    },
    {
     "cell_type": "code",
     "collapsed": false,
     "input": [
      "data_subset = open_and_subset('../Raw_Data/LendingClub/LoanStats3a.csv','feature_only')"
     ],
     "language": "python",
     "metadata": {},
     "outputs": [],
     "prompt_number": 19
    },
    {
     "cell_type": "code",
     "collapsed": false,
     "input": [
      "data_subset"
     ],
     "language": "python",
     "metadata": {},
     "outputs": [
      {
       "html": [
        "<pre>\n",
        "&lt;class 'pandas.core.frame.DataFrame'&gt;\n",
        "Int64Index: 42538 entries, 0 to 42537\n",
        "Data columns (total 12 columns):\n",
        "title             42524  non-null values\n",
        "desc              29243  non-null values\n",
        "is_inc_v          42535  non-null values\n",
        "loan_amnt         42535  non-null values\n",
        "term              42535  non-null values\n",
        "int_rate          42535  non-null values\n",
        "grade             42535  non-null values\n",
        "home_ownership    42535  non-null values\n",
        "purpose           42535  non-null values\n",
        "emp_title         39917  non-null values\n",
        "annual_inc        42531  non-null values\n",
        "loan_status       42535  non-null values\n",
        "dtypes: float64(2), object(10)\n",
        "</pre>"
       ],
       "metadata": {},
       "output_type": "pyout",
       "prompt_number": 5,
       "text": [
        "<class 'pandas.core.frame.DataFrame'>\n",
        "Int64Index: 42538 entries, 0 to 42537\n",
        "Data columns (total 12 columns):\n",
        "title             42524  non-null values\n",
        "desc              29243  non-null values\n",
        "is_inc_v          42535  non-null values\n",
        "loan_amnt         42535  non-null values\n",
        "term              42535  non-null values\n",
        "int_rate          42535  non-null values\n",
        "grade             42535  non-null values\n",
        "home_ownership    42535  non-null values\n",
        "purpose           42535  non-null values\n",
        "emp_title         39917  non-null values\n",
        "annual_inc        42531  non-null values\n",
        "loan_status       42535  non-null values\n",
        "dtypes: float64(2), object(10)"
       ]
      }
     ],
     "prompt_number": 5
    },
    {
     "cell_type": "code",
     "collapsed": false,
     "input": [
      "# test feature_engineering\n",
      "data_subset['title'].head(n=10)"
     ],
     "language": "python",
     "metadata": {},
     "outputs": [
      {
       "metadata": {},
       "output_type": "pyout",
       "prompt_number": 28,
       "text": [
        "0    36\n",
        "1    18\n",
        "2     5\n",
        "3    13\n",
        "4     5\n",
        "5    34\n",
        "6    11\n",
        "7     9\n",
        "8    14\n",
        "9     3\n",
        "Name: title, dtype: int64"
       ]
      }
     ],
     "prompt_number": 28
    },
    {
     "cell_type": "code",
     "collapsed": false,
     "input": [
      "data_subset['title'] = data_subset['title'].fillna(\"\").apply(len)"
     ],
     "language": "python",
     "metadata": {},
     "outputs": [],
     "prompt_number": 21
    },
    {
     "cell_type": "code",
     "collapsed": false,
     "input": [
      "set(data_subset['purpose'].fillna(\"not_given\", inplace=True))"
     ],
     "language": "python",
     "metadata": {},
     "outputs": [
      {
       "metadata": {},
       "output_type": "pyout",
       "prompt_number": 12,
       "text": [
        "{'car',\n",
        " 'credit_card',\n",
        " 'debt_consolidation',\n",
        " 'educational',\n",
        " 'home_improvement',\n",
        " 'house',\n",
        " 'major_purchase',\n",
        " 'medical',\n",
        " 'moving',\n",
        " 'not_given',\n",
        " 'other',\n",
        " 'renewable_energy',\n",
        " 'small_business',\n",
        " 'vacation',\n",
        " 'wedding'}"
       ]
      }
     ],
     "prompt_number": 12
    },
    {
     "cell_type": "code",
     "collapsed": false,
     "input": [
      "42538 - data_subset['is_inc_v'].count()"
     ],
     "language": "python",
     "metadata": {},
     "outputs": [
      {
       "metadata": {},
       "output_type": "pyout",
       "prompt_number": 26,
       "text": [
        "3"
       ]
      }
     ],
     "prompt_number": 26
    },
    {
     "cell_type": "code",
     "collapsed": false,
     "input": [
      "set(data_subset['int_rate'].head())"
     ],
     "language": "python",
     "metadata": {},
     "outputs": [
      {
       "metadata": {},
       "output_type": "pyout",
       "prompt_number": 32,
       "text": [
        "{' 10.08%', ' 10.71%', ' 11.89%', ' 13.11%', ' 13.57%'}"
       ]
      }
     ],
     "prompt_number": 32
    },
    {
     "cell_type": "code",
     "collapsed": false,
     "input": [
      "import re\n",
      "def strip_non_numeric_and_parse(x):\n",
      "    try:\n",
      "        return float(re.sub(r'[^0-9\\.]', '', x))\n",
      "    except ValueError:\n",
      "        return 0.0"
     ],
     "language": "python",
     "metadata": {},
     "outputs": [],
     "prompt_number": 35
    },
    {
     "cell_type": "code",
     "collapsed": false,
     "input": [
      "def binary_true_false(x):\n",
      "    if x != False:\n",
      "        return 1\n",
      "    return 0"
     ],
     "language": "python",
     "metadata": {},
     "outputs": [],
     "prompt_number": 63
    },
    {
     "cell_type": "code",
     "collapsed": false,
     "input": [
      "mini = data_subset['emp_title'].fillna(False).apply(string_check).head(n=10)\n",
      "mini"
     ],
     "language": "python",
     "metadata": {},
     "outputs": [
      {
       "metadata": {},
       "output_type": "pyout",
       "prompt_number": 65,
       "text": [
        "0    0\n",
        "1    1\n",
        "2    1\n",
        "3    1\n",
        "4    1\n",
        "5    0\n",
        "6    0\n",
        "7    1\n",
        "8    1\n",
        "9    1\n",
        "Name: emp_title, dtype: int64"
       ]
      }
     ],
     "prompt_number": 65
    },
    {
     "cell_type": "code",
     "collapsed": false,
     "input": [
      "set(data_subset['loan_status'])"
     ],
     "language": "python",
     "metadata": {},
     "outputs": [
      {
       "metadata": {},
       "output_type": "pyout",
       "prompt_number": 67,
       "text": [
        "{nan,\n",
        " 'Charged Off',\n",
        " 'Current',\n",
        " 'Default',\n",
        " 'Does not meet the credit policy.  Status:Charged Off',\n",
        " 'Does not meet the credit policy.  Status:Current',\n",
        " 'Does not meet the credit policy.  Status:Fully Paid',\n",
        " 'Does not meet the credit policy.  Status:In Grace Period',\n",
        " 'Does not meet the credit policy.  Status:Late (16-30 days)',\n",
        " 'Does not meet the credit policy.  Status:Late (31-120 days)',\n",
        " 'Fully Paid',\n",
        " 'In Grace Period',\n",
        " 'Late (16-30 days)',\n",
        " 'Late (31-120 days)'}"
       ]
      }
     ],
     "prompt_number": 67
    }
   ],
   "metadata": {}
  }
 ]
}