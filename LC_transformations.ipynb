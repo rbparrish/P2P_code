{
 "metadata": {
  "name": ""
 },
 "nbformat": 3,
 "nbformat_minor": 0,
 "worksheets": [
  {
   "cells": [
    {
     "cell_type": "code",
     "collapsed": false,
     "input": [
      "import matplotlib.pyplot as plt\n",
      "import numpy as np\n",
      "import pandas as pd\n",
      "%matplotlib inline"
     ],
     "language": "python",
     "metadata": {},
     "outputs": [],
     "prompt_number": 1
    },
    {
     "cell_type": "code",
     "collapsed": false,
     "input": [
      "import open_subset as op\n",
      "import parsers as pa"
     ],
     "language": "python",
     "metadata": {},
     "outputs": [],
     "prompt_number": 2
    },
    {
     "cell_type": "code",
     "collapsed": false,
     "input": [
      "data = op.open_and_process('../Raw_Data/LendingClub/LoanStats3a.csv', 'feature_subset')"
     ],
     "language": "python",
     "metadata": {},
     "outputs": [],
     "prompt_number": 3
    },
    {
     "cell_type": "code",
     "collapsed": false,
     "input": [],
     "language": "python",
     "metadata": {},
     "outputs": [],
     "prompt_number": 9
    },
    {
     "cell_type": "code",
     "collapsed": false,
     "input": [
      "new = pd.get_dummies(data['home_ownership'], prefix=\"home_own\")\n",
      "new"
     ],
     "language": "python",
     "metadata": {},
     "outputs": [
      {
       "html": [
        "<pre>\n",
        "&lt;class 'pandas.core.frame.DataFrame'&gt;\n",
        "Int64Index: 42538 entries, 0 to 42537\n",
        "Data columns (total 5 columns):\n",
        "home_own_MORTGAGE    42538  non-null values\n",
        "home_own_NONE        42538  non-null values\n",
        "home_own_OTHER       42538  non-null values\n",
        "home_own_OWN         42538  non-null values\n",
        "home_own_RENT        42538  non-null values\n",
        "dtypes: float64(5)\n",
        "</pre>"
       ],
       "metadata": {},
       "output_type": "pyout",
       "prompt_number": 47,
       "text": [
        "<class 'pandas.core.frame.DataFrame'>\n",
        "Int64Index: 42538 entries, 0 to 42537\n",
        "Data columns (total 5 columns):\n",
        "home_own_MORTGAGE    42538  non-null values\n",
        "home_own_NONE        42538  non-null values\n",
        "home_own_OTHER       42538  non-null values\n",
        "home_own_OWN         42538  non-null values\n",
        "home_own_RENT        42538  non-null values\n",
        "dtypes: float64(5)"
       ]
      }
     ],
     "prompt_number": 47
    },
    {
     "cell_type": "code",
     "collapsed": false,
     "input": [
      "# append back onto \n",
      "for each in new.columns:\n",
      "    # add to old dataframe\n",
      "    data[each] = new[each]\n",
      "del data['home_ownership']"
     ],
     "language": "python",
     "metadata": {},
     "outputs": [],
     "prompt_number": 51
    },
    {
     "cell_type": "code",
     "collapsed": false,
     "input": [
      "reload(pa)"
     ],
     "language": "python",
     "metadata": {},
     "outputs": [
      {
       "metadata": {},
       "output_type": "pyout",
       "prompt_number": 5,
       "text": [
        "<module 'parsers' from 'parsers.py'>"
       ]
      }
     ],
     "prompt_number": 5
    },
    {
     "cell_type": "code",
     "collapsed": false,
     "input": [
      "data = pa.categorical_transform(data, 'home_ownership', 'home_own')\n",
      "data"
     ],
     "language": "python",
     "metadata": {},
     "outputs": [
      {
       "html": [
        "<pre>\n",
        "&lt;class 'pandas.core.frame.DataFrame'&gt;\n",
        "Int64Index: 42538 entries, 0 to 42537\n",
        "Data columns (total 19 columns):\n",
        "title                42524  non-null values\n",
        "desc                 29243  non-null values\n",
        "is_inc_v             42535  non-null values\n",
        "loan_amnt            42535  non-null values\n",
        "term                 42535  non-null values\n",
        "int_rate             42535  non-null values\n",
        "grade                42535  non-null values\n",
        "fico_range_high      42535  non-null values\n",
        "fico_range_low       42535  non-null values\n",
        "dti                  42535  non-null values\n",
        "purpose              42535  non-null values\n",
        "annual_inc           42531  non-null values\n",
        "emp_length           42535  non-null values\n",
        "loan_status          42535  non-null values\n",
        "home_own_MORTGAGE    42538  non-null values\n",
        "home_own_NONE        42538  non-null values\n",
        "home_own_OTHER       42538  non-null values\n",
        "home_own_OWN         42538  non-null values\n",
        "home_own_RENT        42538  non-null values\n",
        "dtypes: float64(10), object(9)\n",
        "</pre>"
       ],
       "metadata": {},
       "output_type": "pyout",
       "prompt_number": 6,
       "text": [
        "<class 'pandas.core.frame.DataFrame'>\n",
        "Int64Index: 42538 entries, 0 to 42537\n",
        "Data columns (total 19 columns):\n",
        "title                42524  non-null values\n",
        "desc                 29243  non-null values\n",
        "is_inc_v             42535  non-null values\n",
        "loan_amnt            42535  non-null values\n",
        "term                 42535  non-null values\n",
        "int_rate             42535  non-null values\n",
        "grade                42535  non-null values\n",
        "fico_range_high      42535  non-null values\n",
        "fico_range_low       42535  non-null values\n",
        "dti                  42535  non-null values\n",
        "purpose              42535  non-null values\n",
        "annual_inc           42531  non-null values\n",
        "emp_length           42535  non-null values\n",
        "loan_status          42535  non-null values\n",
        "home_own_MORTGAGE    42538  non-null values\n",
        "home_own_NONE        42538  non-null values\n",
        "home_own_OTHER       42538  non-null values\n",
        "home_own_OWN         42538  non-null values\n",
        "home_own_RENT        42538  non-null values\n",
        "dtypes: float64(10), object(9)"
       ]
      }
     ],
     "prompt_number": 6
    },
    {
     "cell_type": "code",
     "collapsed": false,
     "input": [
      "data = pa.categorical_transform(data, 'purpose')\n",
      "data"
     ],
     "language": "python",
     "metadata": {},
     "outputs": [
      {
       "html": [
        "<pre>\n",
        "&lt;class 'pandas.core.frame.DataFrame'&gt;\n",
        "Int64Index: 42538 entries, 0 to 42537\n",
        "Data columns (total 32 columns):\n",
        "title                         42524  non-null values\n",
        "desc                          29243  non-null values\n",
        "is_inc_v                      42535  non-null values\n",
        "loan_amnt                     42535  non-null values\n",
        "term                          42535  non-null values\n",
        "int_rate                      42535  non-null values\n",
        "grade                         42535  non-null values\n",
        "fico_range_high               42535  non-null values\n",
        "fico_range_low                42535  non-null values\n",
        "dti                           42535  non-null values\n",
        "annual_inc                    42531  non-null values\n",
        "emp_length                    42535  non-null values\n",
        "loan_status                   42535  non-null values\n",
        "home_own_MORTGAGE             42538  non-null values\n",
        "home_own_NONE                 42538  non-null values\n",
        "home_own_OTHER                42538  non-null values\n",
        "home_own_OWN                  42538  non-null values\n",
        "home_own_RENT                 42538  non-null values\n",
        "purpose_car                   42538  non-null values\n",
        "purpose_credit_card           42538  non-null values\n",
        "purpose_debt_consolidation    42538  non-null values\n",
        "purpose_educational           42538  non-null values\n",
        "purpose_home_improvement      42538  non-null values\n",
        "purpose_house                 42538  non-null values\n",
        "purpose_major_purchase        42538  non-null values\n",
        "purpose_medical               42538  non-null values\n",
        "purpose_moving                42538  non-null values\n",
        "purpose_other                 42538  non-null values\n",
        "purpose_renewable_energy      42538  non-null values\n",
        "purpose_small_business        42538  non-null values\n",
        "purpose_vacation              42538  non-null values\n",
        "purpose_wedding               42538  non-null values\n",
        "dtypes: float64(24), object(8)\n",
        "</pre>"
       ],
       "metadata": {},
       "output_type": "pyout",
       "prompt_number": 7,
       "text": [
        "<class 'pandas.core.frame.DataFrame'>\n",
        "Int64Index: 42538 entries, 0 to 42537\n",
        "Data columns (total 32 columns):\n",
        "title                         42524  non-null values\n",
        "desc                          29243  non-null values\n",
        "is_inc_v                      42535  non-null values\n",
        "loan_amnt                     42535  non-null values\n",
        "term                          42535  non-null values\n",
        "int_rate                      42535  non-null values\n",
        "grade                         42535  non-null values\n",
        "fico_range_high               42535  non-null values\n",
        "fico_range_low                42535  non-null values\n",
        "dti                           42535  non-null values\n",
        "annual_inc                    42531  non-null values\n",
        "emp_length                    42535  non-null values\n",
        "loan_status                   42535  non-null values\n",
        "home_own_MORTGAGE             42538  non-null values\n",
        "home_own_NONE                 42538  non-null values\n",
        "home_own_OTHER                42538  non-null values\n",
        "home_own_OWN                  42538  non-null values\n",
        "home_own_RENT                 42538  non-null values\n",
        "purpose_car                   42538  non-null values\n",
        "purpose_credit_card           42538  non-null values\n",
        "purpose_debt_consolidation    42538  non-null values\n",
        "purpose_educational           42538  non-null values\n",
        "purpose_home_improvement      42538  non-null values\n",
        "purpose_house                 42538  non-null values\n",
        "purpose_major_purchase        42538  non-null values\n",
        "purpose_medical               42538  non-null values\n",
        "purpose_moving                42538  non-null values\n",
        "purpose_other                 42538  non-null values\n",
        "purpose_renewable_energy      42538  non-null values\n",
        "purpose_small_business        42538  non-null values\n",
        "purpose_vacation              42538  non-null values\n",
        "purpose_wedding               42538  non-null values\n",
        "dtypes: float64(24), object(8)"
       ]
      }
     ],
     "prompt_number": 7
    },
    {
     "cell_type": "code",
     "collapsed": false,
     "input": [
      "reload(op)\n",
      "data = op.open_and_process('../Raw_Data/LendingClub/LoanStats3a.csv', 'transform')"
     ],
     "language": "python",
     "metadata": {},
     "outputs": [],
     "prompt_number": 13
    },
    {
     "cell_type": "code",
     "collapsed": false,
     "input": [
      "data"
     ],
     "language": "python",
     "metadata": {},
     "outputs": [
      {
       "html": [
        "<pre>\n",
        "&lt;class 'pandas.core.frame.DataFrame'&gt;\n",
        "Int64Index: 40391 entries, 0 to 42537\n",
        "Data columns (total 38 columns):\n",
        "title                         40391  non-null values\n",
        "desc                          40391  non-null values\n",
        "is_inc_v                      40391  non-null values\n",
        "loan_amnt                     40391  non-null values\n",
        "term                          40391  non-null values\n",
        "int_rate                      40391  non-null values\n",
        "fico_range_high               40391  non-null values\n",
        "fico_range_low                40391  non-null values\n",
        "dti                           40391  non-null values\n",
        "annual_inc                    40391  non-null values\n",
        "emp_length                    40391  non-null values\n",
        "loan_status                   40391  non-null values\n",
        "home_own_MORTGAGE             40391  non-null values\n",
        "home_own_NONE                 40391  non-null values\n",
        "home_own_OTHER                40391  non-null values\n",
        "home_own_OWN                  40391  non-null values\n",
        "home_own_RENT                 40391  non-null values\n",
        "purpose_car                   40391  non-null values\n",
        "purpose_credit_card           40391  non-null values\n",
        "purpose_debt_consolidation    40391  non-null values\n",
        "purpose_educational           40391  non-null values\n",
        "purpose_home_improvement      40391  non-null values\n",
        "purpose_house                 40391  non-null values\n",
        "purpose_major_purchase        40391  non-null values\n",
        "purpose_medical               40391  non-null values\n",
        "purpose_moving                40391  non-null values\n",
        "purpose_other                 40391  non-null values\n",
        "purpose_renewable_energy      40391  non-null values\n",
        "purpose_small_business        40391  non-null values\n",
        "purpose_vacation              40391  non-null values\n",
        "purpose_wedding               40391  non-null values\n",
        "grade_A                       40391  non-null values\n",
        "grade_B                       40391  non-null values\n",
        "grade_C                       40391  non-null values\n",
        "grade_D                       40391  non-null values\n",
        "grade_E                       40391  non-null values\n",
        "grade_F                       40391  non-null values\n",
        "grade_G                       40391  non-null values\n",
        "dtypes: float64(34), int64(3), object(1)\n",
        "</pre>"
       ],
       "metadata": {},
       "output_type": "pyout",
       "prompt_number": 14,
       "text": [
        "<class 'pandas.core.frame.DataFrame'>\n",
        "Int64Index: 40391 entries, 0 to 42537\n",
        "Data columns (total 38 columns):\n",
        "title                         40391  non-null values\n",
        "desc                          40391  non-null values\n",
        "is_inc_v                      40391  non-null values\n",
        "loan_amnt                     40391  non-null values\n",
        "term                          40391  non-null values\n",
        "int_rate                      40391  non-null values\n",
        "fico_range_high               40391  non-null values\n",
        "fico_range_low                40391  non-null values\n",
        "dti                           40391  non-null values\n",
        "annual_inc                    40391  non-null values\n",
        "emp_length                    40391  non-null values\n",
        "loan_status                   40391  non-null values\n",
        "home_own_MORTGAGE             40391  non-null values\n",
        "home_own_NONE                 40391  non-null values\n",
        "home_own_OTHER                40391  non-null values\n",
        "home_own_OWN                  40391  non-null values\n",
        "home_own_RENT                 40391  non-null values\n",
        "purpose_car                   40391  non-null values\n",
        "purpose_credit_card           40391  non-null values\n",
        "purpose_debt_consolidation    40391  non-null values\n",
        "purpose_educational           40391  non-null values\n",
        "purpose_home_improvement      40391  non-null values\n",
        "purpose_house                 40391  non-null values\n",
        "purpose_major_purchase        40391  non-null values\n",
        "purpose_medical               40391  non-null values\n",
        "purpose_moving                40391  non-null values\n",
        "purpose_other                 40391  non-null values\n",
        "purpose_renewable_energy      40391  non-null values\n",
        "purpose_small_business        40391  non-null values\n",
        "purpose_vacation              40391  non-null values\n",
        "purpose_wedding               40391  non-null values\n",
        "grade_A                       40391  non-null values\n",
        "grade_B                       40391  non-null values\n",
        "grade_C                       40391  non-null values\n",
        "grade_D                       40391  non-null values\n",
        "grade_E                       40391  non-null values\n",
        "grade_F                       40391  non-null values\n",
        "grade_G                       40391  non-null values\n",
        "dtypes: float64(34), int64(3), object(1)"
       ]
      }
     ],
     "prompt_number": 14
    },
    {
     "cell_type": "code",
     "collapsed": false,
     "input": [
      "from exploration import check_types\n",
      "check_types(data)"
     ],
     "language": "python",
     "metadata": {},
     "outputs": [
      {
       "metadata": {},
       "output_type": "pyout",
       "prompt_number": 15,
       "text": [
        "[('title', {numpy.int64}),\n",
        " ('desc', {numpy.int64}),\n",
        " ('is_inc_v', {numpy.int64}),\n",
        " ('loan_amnt', {numpy.float64}),\n",
        " ('term', {numpy.float64}),\n",
        " ('int_rate', {numpy.float64}),\n",
        " ('fico_range_high', {numpy.float64}),\n",
        " ('fico_range_low', {numpy.float64}),\n",
        " ('dti', {numpy.float64}),\n",
        " ('annual_inc', {numpy.float64}),\n",
        " ('emp_length', {numpy.float64}),\n",
        " ('loan_status', {str}),\n",
        " ('home_own_MORTGAGE', {numpy.float64}),\n",
        " ('home_own_NONE', {numpy.float64}),\n",
        " ('home_own_OTHER', {numpy.float64}),\n",
        " ('home_own_OWN', {numpy.float64}),\n",
        " ('home_own_RENT', {numpy.float64}),\n",
        " ('purpose_car', {numpy.float64}),\n",
        " ('purpose_credit_card', {numpy.float64}),\n",
        " ('purpose_debt_consolidation', {numpy.float64}),\n",
        " ('purpose_educational', {numpy.float64}),\n",
        " ('purpose_home_improvement', {numpy.float64}),\n",
        " ('purpose_house', {numpy.float64}),\n",
        " ('purpose_major_purchase', {numpy.float64}),\n",
        " ('purpose_medical', {numpy.float64}),\n",
        " ('purpose_moving', {numpy.float64}),\n",
        " ('purpose_other', {numpy.float64}),\n",
        " ('purpose_renewable_energy', {numpy.float64}),\n",
        " ('purpose_small_business', {numpy.float64}),\n",
        " ('purpose_vacation', {numpy.float64}),\n",
        " ('purpose_wedding', {numpy.float64}),\n",
        " ('grade_A', {numpy.float64}),\n",
        " ('grade_B', {numpy.float64}),\n",
        " ('grade_C', {numpy.float64}),\n",
        " ('grade_D', {numpy.float64}),\n",
        " ('grade_E', {numpy.float64}),\n",
        " ('grade_F', {numpy.float64}),\n",
        " ('grade_G', {numpy.float64})]"
       ]
      }
     ],
     "prompt_number": 15
    },
    {
     "cell_type": "code",
     "collapsed": false,
     "input": [
      "set(data['loan_status'])"
     ],
     "language": "python",
     "metadata": {},
     "outputs": [
      {
       "metadata": {},
       "output_type": "pyout",
       "prompt_number": 21,
       "text": [
        "{None, 'Default'}"
       ]
      }
     ],
     "prompt_number": 21
    },
    {
     "cell_type": "code",
     "collapsed": false,
     "input": [
      "reload(pa)\n",
      "data = op.open_and_process('../Raw_Data/LendingClub/LoanStats3a.csv', 'transform')\n",
      "data['loan_status'] = data['loan_status'].apply(pa.replace_chTOde)\n",
      "set(data['loan_status'])"
     ],
     "language": "python",
     "metadata": {},
     "outputs": [
      {
       "metadata": {},
       "output_type": "pyout",
       "prompt_number": 4,
       "text": [
        "{'Current',\n",
        " 'Default',\n",
        " 'Does not meet the credit policy.  Status:Charged Off',\n",
        " 'Does not meet the credit policy.  Status:Current',\n",
        " 'Does not meet the credit policy.  Status:Fully Paid',\n",
        " 'Does not meet the credit policy.  Status:In Grace Period',\n",
        " 'Does not meet the credit policy.  Status:Late (16-30 days)',\n",
        " 'Does not meet the credit policy.  Status:Late (31-120 days)',\n",
        " 'Fully Paid',\n",
        " 'In Grace Period',\n",
        " 'Late (16-30 days)',\n",
        " 'Late (31-120 days)'}"
       ]
      }
     ],
     "prompt_number": 4
    },
    {
     "cell_type": "code",
     "collapsed": false,
     "input": [
      "reload(pa)\n",
      "data = op.open_and_process('../Raw_Data/LendingClub/LoanStats3a.csv', 'transform')\n",
      "data = pa.LC_loan_status_transform(data)\n",
      "set(data['loan_status'])"
     ],
     "language": "python",
     "metadata": {},
     "outputs": [
      {
       "metadata": {},
       "output_type": "pyout",
       "prompt_number": 9,
       "text": [
        "set()"
       ]
      }
     ],
     "prompt_number": 9
    },
    {
     "cell_type": "code",
     "collapsed": false,
     "input": [
      "set(data['loan_status'])"
     ],
     "language": "python",
     "metadata": {},
     "outputs": [
      {
       "metadata": {},
       "output_type": "pyout",
       "prompt_number": 32,
       "text": [
        "{'Charged Off',\n",
        " 'Current',\n",
        " 'Default',\n",
        " 'Does not meet the credit policy.  Status:Charged Off',\n",
        " 'Does not meet the credit policy.  Status:Current',\n",
        " 'Does not meet the credit policy.  Status:Fully Paid',\n",
        " 'Does not meet the credit policy.  Status:In Grace Period',\n",
        " 'Does not meet the credit policy.  Status:Late (16-30 days)',\n",
        " 'Does not meet the credit policy.  Status:Late (31-120 days)',\n",
        " 'Fully Paid',\n",
        " 'In Grace Period',\n",
        " 'Late (16-30 days)',\n",
        " 'Late (31-120 days)'}"
       ]
      }
     ],
     "prompt_number": 32
    },
    {
     "cell_type": "code",
     "collapsed": false,
     "input": [
      "data = op.open_and_process('../Raw_Data/LendingClub/LoanStats3a.csv', 'transform')\n",
      "new1 = data[data['loan_status'] == 'Fully Paid']\n",
      "new2 = data[data['loan_status'] == 'Default']\n",
      "\n",
      "data_new = pd.concat([new1, new2])"
     ],
     "language": "python",
     "metadata": {},
     "outputs": [],
     "prompt_number": 16
    },
    {
     "cell_type": "code",
     "collapsed": false,
     "input": [
      "set(data_new['loan_status'])"
     ],
     "language": "python",
     "metadata": {},
     "outputs": [
      {
       "metadata": {},
       "output_type": "pyout",
       "prompt_number": 17,
       "text": [
        "{'Default', 'Fully Paid'}"
       ]
      }
     ],
     "prompt_number": 17
    },
    {
     "cell_type": "code",
     "collapsed": false,
     "input": [
      "reload(pa)\n",
      "data = op.open_and_process('../Raw_Data/LendingClub/LoanStats3a.csv', 'transform')\n",
      "data"
     ],
     "language": "python",
     "metadata": {},
     "outputs": [
      {
       "html": [
        "<pre>\n",
        "&lt;class 'pandas.core.frame.DataFrame'&gt;\n",
        "Int64Index: 22794 entries, 0 to 39785\n",
        "Data columns (total 39 columns):\n",
        "title                         22794  non-null values\n",
        "desc                          22794  non-null values\n",
        "is_inc_v                      22794  non-null values\n",
        "loan_amnt                     22794  non-null values\n",
        "term                          22794  non-null values\n",
        "int_rate                      22794  non-null values\n",
        "fico_range_high               22794  non-null values\n",
        "fico_range_low                22794  non-null values\n",
        "dti                           22794  non-null values\n",
        "annual_inc                    22794  non-null values\n",
        "emp_length                    22794  non-null values\n",
        "home_own_MORTGAGE             22794  non-null values\n",
        "home_own_NONE                 22794  non-null values\n",
        "home_own_OTHER                22794  non-null values\n",
        "home_own_OWN                  22794  non-null values\n",
        "home_own_RENT                 22794  non-null values\n",
        "purpose_car                   22794  non-null values\n",
        "purpose_credit_card           22794  non-null values\n",
        "purpose_debt_consolidation    22794  non-null values\n",
        "purpose_educational           22794  non-null values\n",
        "purpose_home_improvement      22794  non-null values\n",
        "purpose_house                 22794  non-null values\n",
        "purpose_major_purchase        22794  non-null values\n",
        "purpose_medical               22794  non-null values\n",
        "purpose_moving                22794  non-null values\n",
        "purpose_other                 22794  non-null values\n",
        "purpose_renewable_energy      22794  non-null values\n",
        "purpose_small_business        22794  non-null values\n",
        "purpose_vacation              22794  non-null values\n",
        "purpose_wedding               22794  non-null values\n",
        "grade_A                       22794  non-null values\n",
        "grade_B                       22794  non-null values\n",
        "grade_C                       22794  non-null values\n",
        "grade_D                       22794  non-null values\n",
        "grade_E                       22794  non-null values\n",
        "grade_F                       22794  non-null values\n",
        "grade_G                       22794  non-null values\n",
        "status_Default                22794  non-null values\n",
        "status_Fully Paid             22794  non-null values\n",
        "dtypes: float64(36), int64(3)\n",
        "</pre>"
       ],
       "metadata": {},
       "output_type": "pyout",
       "prompt_number": 4,
       "text": [
        "<class 'pandas.core.frame.DataFrame'>\n",
        "Int64Index: 22794 entries, 0 to 39785\n",
        "Data columns (total 39 columns):\n",
        "title                         22794  non-null values\n",
        "desc                          22794  non-null values\n",
        "is_inc_v                      22794  non-null values\n",
        "loan_amnt                     22794  non-null values\n",
        "term                          22794  non-null values\n",
        "int_rate                      22794  non-null values\n",
        "fico_range_high               22794  non-null values\n",
        "fico_range_low                22794  non-null values\n",
        "dti                           22794  non-null values\n",
        "annual_inc                    22794  non-null values\n",
        "emp_length                    22794  non-null values\n",
        "home_own_MORTGAGE             22794  non-null values\n",
        "home_own_NONE                 22794  non-null values\n",
        "home_own_OTHER                22794  non-null values\n",
        "home_own_OWN                  22794  non-null values\n",
        "home_own_RENT                 22794  non-null values\n",
        "purpose_car                   22794  non-null values\n",
        "purpose_credit_card           22794  non-null values\n",
        "purpose_debt_consolidation    22794  non-null values\n",
        "purpose_educational           22794  non-null values\n",
        "purpose_home_improvement      22794  non-null values\n",
        "purpose_house                 22794  non-null values\n",
        "purpose_major_purchase        22794  non-null values\n",
        "purpose_medical               22794  non-null values\n",
        "purpose_moving                22794  non-null values\n",
        "purpose_other                 22794  non-null values\n",
        "purpose_renewable_energy      22794  non-null values\n",
        "purpose_small_business        22794  non-null values\n",
        "purpose_vacation              22794  non-null values\n",
        "purpose_wedding               22794  non-null values\n",
        "grade_A                       22794  non-null values\n",
        "grade_B                       22794  non-null values\n",
        "grade_C                       22794  non-null values\n",
        "grade_D                       22794  non-null values\n",
        "grade_E                       22794  non-null values\n",
        "grade_F                       22794  non-null values\n",
        "grade_G                       22794  non-null values\n",
        "status_Default                22794  non-null values\n",
        "status_Fully Paid             22794  non-null values\n",
        "dtypes: float64(36), int64(3)"
       ]
      }
     ],
     "prompt_number": 4
    }
   ],
   "metadata": {}
  }
 ]
}