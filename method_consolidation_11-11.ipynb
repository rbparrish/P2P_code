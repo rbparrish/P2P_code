{
 "metadata": {
  "name": ""
 },
 "nbformat": 3,
 "nbformat_minor": 0,
 "worksheets": [
  {
   "cells": [
    {
     "cell_type": "code",
     "collapsed": false,
     "input": [
      "import matplotlib.pyplot as plt\n",
      "import numpy as np\n",
      "import pandas as pd\n",
      "%matplotlib inline"
     ],
     "language": "python",
     "metadata": {},
     "outputs": [],
     "prompt_number": 1
    },
    {
     "cell_type": "code",
     "collapsed": false,
     "input": [
      "import open_subset as op\n",
      "import parsers as pa\n",
      "import exploration as ex\n",
      "import model\n",
      "import analysis"
     ],
     "language": "python",
     "metadata": {},
     "outputs": [],
     "prompt_number": 2
    },
    {
     "cell_type": "code",
     "collapsed": false,
     "input": [
      "reload(op)\n",
      "dataB = op.open_and_process('../Raw_Data/LendingClub/LoanStats3all.csv', 'simple')"
     ],
     "language": "python",
     "metadata": {},
     "outputs": [],
     "prompt_number": 3
    },
    {
     "cell_type": "code",
     "collapsed": false,
     "input": [
      "ready_db = op.group_prep(dataB)"
     ],
     "language": "python",
     "metadata": {},
     "outputs": [
      {
       "output_type": "stream",
       "stream": "stdout",
       "text": [
        "running analysis\n",
        "2000"
       ]
      },
      {
       "output_type": "stream",
       "stream": "stdout",
       "text": [
        "\n",
        "4000"
       ]
      },
      {
       "output_type": "stream",
       "stream": "stdout",
       "text": [
        "\n",
        "6000"
       ]
      },
      {
       "output_type": "stream",
       "stream": "stdout",
       "text": [
        "\n",
        "8000"
       ]
      },
      {
       "output_type": "stream",
       "stream": "stdout",
       "text": [
        "\n",
        "10000"
       ]
      },
      {
       "output_type": "stream",
       "stream": "stdout",
       "text": [
        "\n",
        "12000"
       ]
      },
      {
       "output_type": "stream",
       "stream": "stdout",
       "text": [
        "\n",
        "14000"
       ]
      },
      {
       "output_type": "stream",
       "stream": "stdout",
       "text": [
        "\n",
        "16000"
       ]
      },
      {
       "output_type": "stream",
       "stream": "stdout",
       "text": [
        "\n",
        "18000"
       ]
      },
      {
       "output_type": "stream",
       "stream": "stdout",
       "text": [
        "\n",
        "20000"
       ]
      },
      {
       "output_type": "stream",
       "stream": "stdout",
       "text": [
        "\n",
        "22000"
       ]
      },
      {
       "output_type": "stream",
       "stream": "stdout",
       "text": [
        "\n",
        "24000"
       ]
      },
      {
       "output_type": "stream",
       "stream": "stdout",
       "text": [
        "\n",
        "26000"
       ]
      },
      {
       "output_type": "stream",
       "stream": "stdout",
       "text": [
        "\n",
        "28000"
       ]
      },
      {
       "output_type": "stream",
       "stream": "stdout",
       "text": [
        "\n",
        "30000"
       ]
      },
      {
       "output_type": "stream",
       "stream": "stdout",
       "text": [
        "\n",
        "32000"
       ]
      },
      {
       "output_type": "stream",
       "stream": "stdout",
       "text": [
        "\n",
        "34000"
       ]
      },
      {
       "output_type": "stream",
       "stream": "stdout",
       "text": [
        "\n",
        "36000"
       ]
      },
      {
       "output_type": "stream",
       "stream": "stdout",
       "text": [
        "\n",
        "38000"
       ]
      },
      {
       "output_type": "stream",
       "stream": "stdout",
       "text": [
        "\n",
        "40000"
       ]
      },
      {
       "output_type": "stream",
       "stream": "stdout",
       "text": [
        "\n",
        "42000"
       ]
      },
      {
       "output_type": "stream",
       "stream": "stdout",
       "text": [
        "\n",
        "44000"
       ]
      },
      {
       "output_type": "stream",
       "stream": "stdout",
       "text": [
        "\n",
        "46000"
       ]
      },
      {
       "output_type": "stream",
       "stream": "stdout",
       "text": [
        "\n",
        "48000"
       ]
      },
      {
       "output_type": "stream",
       "stream": "stdout",
       "text": [
        "\n",
        "50000"
       ]
      },
      {
       "output_type": "stream",
       "stream": "stdout",
       "text": [
        "\n",
        "52000"
       ]
      },
      {
       "output_type": "stream",
       "stream": "stdout",
       "text": [
        "\n",
        "54000"
       ]
      },
      {
       "output_type": "stream",
       "stream": "stdout",
       "text": [
        "\n",
        "56000"
       ]
      },
      {
       "output_type": "stream",
       "stream": "stdout",
       "text": [
        "\n",
        "58000"
       ]
      },
      {
       "output_type": "stream",
       "stream": "stdout",
       "text": [
        "\n",
        "60000"
       ]
      },
      {
       "output_type": "stream",
       "stream": "stdout",
       "text": [
        "\n",
        "62000"
       ]
      },
      {
       "output_type": "stream",
       "stream": "stdout",
       "text": [
        "\n",
        "64000"
       ]
      },
      {
       "output_type": "stream",
       "stream": "stdout",
       "text": [
        "\n",
        "66000"
       ]
      },
      {
       "output_type": "stream",
       "stream": "stdout",
       "text": [
        "\n",
        "68000"
       ]
      },
      {
       "output_type": "stream",
       "stream": "stdout",
       "text": [
        "\n",
        "70000"
       ]
      },
      {
       "output_type": "stream",
       "stream": "stdout",
       "text": [
        "\n",
        "72000"
       ]
      },
      {
       "output_type": "stream",
       "stream": "stdout",
       "text": [
        "\n",
        "74000"
       ]
      },
      {
       "output_type": "stream",
       "stream": "stdout",
       "text": [
        "\n",
        "76000"
       ]
      },
      {
       "output_type": "stream",
       "stream": "stdout",
       "text": [
        "\n",
        "78000"
       ]
      },
      {
       "output_type": "stream",
       "stream": "stdout",
       "text": [
        "\n",
        "80000"
       ]
      },
      {
       "output_type": "stream",
       "stream": "stdout",
       "text": [
        "\n",
        "82000"
       ]
      },
      {
       "output_type": "stream",
       "stream": "stdout",
       "text": [
        "\n",
        "84000"
       ]
      },
      {
       "output_type": "stream",
       "stream": "stdout",
       "text": [
        "\n",
        "86000"
       ]
      },
      {
       "output_type": "stream",
       "stream": "stdout",
       "text": [
        "\n",
        "88000"
       ]
      },
      {
       "output_type": "stream",
       "stream": "stdout",
       "text": [
        "\n",
        "90000"
       ]
      },
      {
       "output_type": "stream",
       "stream": "stdout",
       "text": [
        "\n",
        "92000"
       ]
      },
      {
       "output_type": "stream",
       "stream": "stdout",
       "text": [
        "\n",
        "94000"
       ]
      },
      {
       "output_type": "stream",
       "stream": "stdout",
       "text": [
        "\n",
        "96000"
       ]
      },
      {
       "output_type": "stream",
       "stream": "stdout",
       "text": [
        "\n",
        "98000"
       ]
      },
      {
       "output_type": "stream",
       "stream": "stdout",
       "text": [
        "\n",
        "100000"
       ]
      },
      {
       "output_type": "stream",
       "stream": "stdout",
       "text": [
        "\n",
        "102000"
       ]
      },
      {
       "output_type": "stream",
       "stream": "stdout",
       "text": [
        "\n",
        "104000"
       ]
      },
      {
       "output_type": "stream",
       "stream": "stdout",
       "text": [
        "\n",
        "106000"
       ]
      },
      {
       "output_type": "stream",
       "stream": "stdout",
       "text": [
        "\n",
        "108000"
       ]
      },
      {
       "output_type": "stream",
       "stream": "stdout",
       "text": [
        "\n",
        "110000"
       ]
      },
      {
       "output_type": "stream",
       "stream": "stdout",
       "text": [
        "\n",
        "112000"
       ]
      },
      {
       "output_type": "stream",
       "stream": "stdout",
       "text": [
        "\n",
        "114000"
       ]
      },
      {
       "output_type": "stream",
       "stream": "stdout",
       "text": [
        "\n",
        "116000"
       ]
      },
      {
       "output_type": "stream",
       "stream": "stdout",
       "text": [
        "\n",
        "118000"
       ]
      },
      {
       "output_type": "stream",
       "stream": "stdout",
       "text": [
        "\n",
        "120000"
       ]
      },
      {
       "output_type": "stream",
       "stream": "stdout",
       "text": [
        "\n",
        "122000"
       ]
      },
      {
       "output_type": "stream",
       "stream": "stdout",
       "text": [
        "\n",
        "124000"
       ]
      },
      {
       "output_type": "stream",
       "stream": "stdout",
       "text": [
        "\n",
        "126000"
       ]
      },
      {
       "output_type": "stream",
       "stream": "stdout",
       "text": [
        "\n",
        "128000"
       ]
      },
      {
       "output_type": "stream",
       "stream": "stdout",
       "text": [
        "\n",
        "130000"
       ]
      },
      {
       "output_type": "stream",
       "stream": "stdout",
       "text": [
        "\n",
        "132000"
       ]
      },
      {
       "output_type": "stream",
       "stream": "stdout",
       "text": [
        "\n",
        "134000"
       ]
      },
      {
       "output_type": "stream",
       "stream": "stdout",
       "text": [
        "\n",
        "136000"
       ]
      },
      {
       "output_type": "stream",
       "stream": "stdout",
       "text": [
        "\n",
        "138000"
       ]
      },
      {
       "output_type": "stream",
       "stream": "stdout",
       "text": [
        "\n",
        "140000"
       ]
      },
      {
       "output_type": "stream",
       "stream": "stdout",
       "text": [
        "\n",
        "142000"
       ]
      },
      {
       "output_type": "stream",
       "stream": "stdout",
       "text": [
        "\n",
        "144000"
       ]
      },
      {
       "output_type": "stream",
       "stream": "stdout",
       "text": [
        "\n",
        "146000"
       ]
      },
      {
       "output_type": "stream",
       "stream": "stdout",
       "text": [
        "\n",
        "148000"
       ]
      },
      {
       "output_type": "stream",
       "stream": "stdout",
       "text": [
        "\n",
        "150000"
       ]
      },
      {
       "output_type": "stream",
       "stream": "stdout",
       "text": [
        "\n",
        "152000"
       ]
      },
      {
       "output_type": "stream",
       "stream": "stdout",
       "text": [
        "\n",
        "154000"
       ]
      },
      {
       "output_type": "stream",
       "stream": "stdout",
       "text": [
        "\n",
        "156000"
       ]
      },
      {
       "output_type": "stream",
       "stream": "stdout",
       "text": [
        "\n",
        "158000"
       ]
      },
      {
       "output_type": "stream",
       "stream": "stdout",
       "text": [
        "\n",
        "160000"
       ]
      },
      {
       "output_type": "stream",
       "stream": "stdout",
       "text": [
        "\n",
        "162000"
       ]
      },
      {
       "output_type": "stream",
       "stream": "stdout",
       "text": [
        "\n",
        "164000"
       ]
      },
      {
       "output_type": "stream",
       "stream": "stdout",
       "text": [
        "\n",
        "166000"
       ]
      },
      {
       "output_type": "stream",
       "stream": "stdout",
       "text": [
        "\n",
        "168000"
       ]
      },
      {
       "output_type": "stream",
       "stream": "stdout",
       "text": [
        "\n",
        "170000"
       ]
      },
      {
       "output_type": "stream",
       "stream": "stdout",
       "text": [
        "\n",
        "172000"
       ]
      },
      {
       "output_type": "stream",
       "stream": "stdout",
       "text": [
        "\n",
        "174000"
       ]
      },
      {
       "output_type": "stream",
       "stream": "stdout",
       "text": [
        "\n",
        "176000"
       ]
      },
      {
       "output_type": "stream",
       "stream": "stdout",
       "text": [
        "\n",
        "178000"
       ]
      },
      {
       "output_type": "stream",
       "stream": "stdout",
       "text": [
        "\n",
        "180000"
       ]
      },
      {
       "output_type": "stream",
       "stream": "stdout",
       "text": [
        "\n",
        "182000"
       ]
      },
      {
       "output_type": "stream",
       "stream": "stdout",
       "text": [
        "\n",
        "184000"
       ]
      },
      {
       "output_type": "stream",
       "stream": "stdout",
       "text": [
        "\n",
        "186000"
       ]
      },
      {
       "output_type": "stream",
       "stream": "stdout",
       "text": [
        "\n"
       ]
      }
     ],
     "prompt_number": 4
    },
    {
     "cell_type": "code",
     "collapsed": false,
     "input": [
      "ready_db.to_csv('subset_db.csv')"
     ],
     "language": "python",
     "metadata": {},
     "outputs": [],
     "prompt_number": 5
    },
    {
     "cell_type": "code",
     "collapsed": false,
     "input": [
      "reload(analysis)\n",
      "# now ready to visualize\n",
      "viz = analysis.Visualize('subset_db.csv')"
     ],
     "language": "python",
     "metadata": {},
     "outputs": [
      {
       "output_type": "stream",
       "stream": "stdout",
       "text": [
        "ready for .age_last_payment(type)\n"
       ]
      }
     ],
     "prompt_number": 45
    },
    {
     "cell_type": "code",
     "collapsed": false,
     "input": [
      "result = viz.perc_default('2010-09')"
     ],
     "language": "python",
     "metadata": {},
     "outputs": [
      {
       "output_type": "stream",
       "stream": "stdout",
       "text": [
        "total defaults: 155\n",
        "total new this month :1188\n",
        "default rate: 0.130471380471\n"
       ]
      },
      {
       "metadata": {},
       "output_type": "display_data",
       "png": "[encoded data removed]",
       "text": [
        "<matplotlib.figure.Figure at 0x164a0590>"
       ]
      }
     ],
     "prompt_number": 51
    },
    {
     "cell_type": "code",
     "collapsed": false,
     "input": [
      "viz.visualize_start_count()"
     ],
     "language": "python",
     "metadata": {},
     "outputs": [
      {
       "metadata": {},
       "output_type": "display_data",
       "png": "[encoded data removed]",
       "text": [
        "<matplotlib.figure.Figure at 0x164a6ad0>"
       ]
      }
     ],
     "prompt_number": 52
    },
    {
     "cell_type": "code",
     "collapsed": false,
     "input": [
      "#tot_months = set(viz)\n",
      "\n",
      "viz.perc_default('2012-01')"
     ],
     "language": "python",
     "metadata": {},
     "outputs": [
      {
       "output_type": "stream",
       "stream": "stdout",
       "text": [
        "total defaults: 272\n",
        "total new this month :2597\n",
        "default rate: 0.104736234116\n"
       ]
      },
      {
       "output_type": "stream",
       "stream": "stderr",
       "text": [
        "/usr/local/lib/python2.7/dist-packages/pandas/core/config.py:570: DeprecationWarning: height has been deprecated.\n",
        "\n",
        "  warnings.warn(d.msg, DeprecationWarning)\n"
       ]
      },
      {
       "html": [
        "<pre>\n",
        "&lt;class 'pandas.core.frame.DataFrame'&gt;\n",
        "Int64Index: 272 entries, 42587 to 45860\n",
        "Data columns (total 13 columns):\n",
        "Unnamed: 0               272  non-null values\n",
        "grade                    272  non-null values\n",
        "loan_status              272  non-null values\n",
        "loan_amnt                272  non-null values\n",
        "int_rate                 272  non-null values\n",
        "total_rec_int            272  non-null values\n",
        "total_rec_prncp          272  non-null values\n",
        "issue_d                  272  non-null values\n",
        "last_pymnt_d             272  non-null values\n",
        "yy-mm_start_date         272  non-null values\n",
        "yy-mm_last_payment       272  non-null values\n",
        "final_age                272  non-null values\n",
        "last_pay_date_and_age    272  non-null values\n",
        "dtypes: float64(4), int64(2), object(7)\n",
        "</pre>"
       ],
       "metadata": {},
       "output_type": "pyout",
       "prompt_number": 74,
       "text": [
        "<class 'pandas.core.frame.DataFrame'>\n",
        "Int64Index: 272 entries, 42587 to 45860\n",
        "Data columns (total 13 columns):\n",
        "Unnamed: 0               272  non-null values\n",
        "grade                    272  non-null values\n",
        "loan_status              272  non-null values\n",
        "loan_amnt                272  non-null values\n",
        "int_rate                 272  non-null values\n",
        "total_rec_int            272  non-null values\n",
        "total_rec_prncp          272  non-null values\n",
        "issue_d                  272  non-null values\n",
        "last_pymnt_d             272  non-null values\n",
        "yy-mm_start_date         272  non-null values\n",
        "yy-mm_last_payment       272  non-null values\n",
        "final_age                272  non-null values\n",
        "last_pay_date_and_age    272  non-null values\n",
        "dtypes: float64(4), int64(2), object(7)"
       ]
      }
     ],
     "prompt_number": 74
    },
    {
     "cell_type": "markdown",
     "metadata": {},
     "source": [
      "## create model on pre 2012 data, and then run on Jan 2012 and visualize results"
     ]
    },
    {
     "cell_type": "code",
     "collapsed": false,
     "input": [
      "reload(pa)\n",
      "reload(op)\n",
      "reload(model)"
     ],
     "language": "python",
     "metadata": {},
     "outputs": [
      {
       "metadata": {},
       "output_type": "pyout",
       "prompt_number": 39,
       "text": [
        "<module 'model' from 'model.py'>"
       ]
      }
     ],
     "prompt_number": 39
    },
    {
     "cell_type": "code",
     "collapsed": false,
     "input": [
      "mod = model.Classifier()"
     ],
     "language": "python",
     "metadata": {},
     "outputs": [
      {
       "output_type": "stream",
       "stream": "stdout",
       "text": [
        "ready to open file. Run .open_file().  Type options: simple, feature_subset, transform\n"
       ]
      }
     ],
     "prompt_number": 40
    },
    {
     "cell_type": "code",
     "collapsed": false,
     "input": [
      "mod.open_file('../Raw_Data/LendingClub/LoanStats3all.csv')\n",
      "mod.assign_to_groups()\n",
      "mod.prepare()"
     ],
     "language": "python",
     "metadata": {},
     "outputs": [
      {
       "output_type": "stream",
       "stream": "stdout",
       "text": [
        "207760\n",
        "beginning data transformation\n",
        "before dropna, db length: 207760"
       ]
      },
      {
       "output_type": "stream",
       "stream": "stdout",
       "text": [
        "\n",
        "just after dropna, db length: 202123"
       ]
      },
      {
       "output_type": "stream",
       "stream": "stdout",
       "text": [
        "\n",
        "transforming category"
       ]
      },
      {
       "output_type": "stream",
       "stream": "stdout",
       "text": [
        "\n",
        "database length: 194214\n",
        "database length: 35721"
       ]
      },
      {
       "output_type": "stream",
       "stream": "stdout",
       "text": [
        "\n",
        "run .assign_to_groups()\n"
       ]
      }
     ],
     "prompt_number": 41
    },
    {
     "cell_type": "code",
     "collapsed": false,
     "input": [
      "mod.run()"
     ],
     "language": "python",
     "metadata": {},
     "outputs": [
      {
       "output_type": "stream",
       "stream": "stdout",
       "text": [
        "Accuracy of model:  0.7106\n",
        "Total Fully Paid in Grade: 3626.0\n",
        "Total Notes in Grade: 5000\n",
        "None-default rate if fully invest: 0.7252\n",
        "Total number invested by model: 4643.0\n",
        "non-default rate invested by model: 0.734654318329\n"
       ]
      },
      {
       "metadata": {},
       "output_type": "display_data",
       "png": "[encoded data removed]",
       "text": [
        "<matplotlib.figure.Figure at 0x89fbad0>"
       ]
      }
     ],
     "prompt_number": 42
    },
    {
     "cell_type": "code",
     "collapsed": false,
     "input": [
      "mod.data.loc[,'']"
     ],
     "language": "python",
     "metadata": {},
     "outputs": []
    },
    {
     "cell_type": "code",
     "collapsed": false,
     "input": [
      "mod.data.loc[:,'status_Fully Paid']"
     ],
     "language": "python",
     "metadata": {},
     "outputs": [
      {
       "metadata": {},
       "output_type": "pyout",
       "prompt_number": 38,
       "text": [
        "0     1\n",
        "1     1\n",
        "2     1\n",
        "3     1\n",
        "4     1\n",
        "5     1\n",
        "6     1\n",
        "7     0\n",
        "8     1\n",
        "9     0\n",
        "10    1\n",
        "11    1\n",
        "12    1\n",
        "13    1\n",
        "14    1\n",
        "...\n",
        "204521    0\n",
        "204567    0\n",
        "204622    0\n",
        "204805    0\n",
        "205158    0\n",
        "205180    0\n",
        "205299    0\n",
        "205530    0\n",
        "205856    0\n",
        "206117    0\n",
        "206512    0\n",
        "206561    0\n",
        "206696    0\n",
        "207462    0\n",
        "207734    0\n",
        "Name: status_Fully Paid, Length: 35721, dtype: float64"
       ]
      }
     ],
     "prompt_number": 38
    },
    {
     "cell_type": "code",
     "collapsed": false,
     "input": [
      "reload(op)"
     ],
     "language": "python",
     "metadata": {},
     "outputs": [
      {
       "metadata": {},
       "output_type": "pyout",
       "prompt_number": 39,
       "text": [
        "<module 'open_subset' from 'open_subset.py'>"
       ]
      }
     ],
     "prompt_number": 39
    },
    {
     "cell_type": "code",
     "collapsed": false,
     "input": [
      "dataB = op.open_and_process('../Raw_Data/LendingClub/LoanStats3all.csv', 'transform', 'model', 'train')"
     ],
     "language": "python",
     "metadata": {},
     "outputs": [
      {
       "ename": "KeyboardInterrupt",
       "evalue": "",
       "output_type": "pyerr",
       "traceback": [
        "\u001b[1;31m---------------------------------------------------------------------------\u001b[0m\n\u001b[1;31mKeyboardInterrupt\u001b[0m                         Traceback (most recent call last)",
        "\u001b[1;32m<ipython-input-3-65973c3c6e1d>\u001b[0m in \u001b[0;36m<module>\u001b[1;34m()\u001b[0m\n\u001b[1;32m----> 1\u001b[1;33m \u001b[0mdataB\u001b[0m \u001b[1;33m=\u001b[0m \u001b[0mop\u001b[0m\u001b[1;33m.\u001b[0m\u001b[0mopen_and_process\u001b[0m\u001b[1;33m(\u001b[0m\u001b[1;34m'../Raw_Data/LendingClub/LoanStats3all.csv'\u001b[0m\u001b[1;33m,\u001b[0m \u001b[1;34m'transform'\u001b[0m\u001b[1;33m,\u001b[0m \u001b[1;34m'model'\u001b[0m\u001b[1;33m,\u001b[0m \u001b[1;34m'train'\u001b[0m\u001b[1;33m)\u001b[0m\u001b[1;33m\u001b[0m\u001b[0m\n\u001b[0m",
        "\u001b[1;32m/vagrant/Project/P2P/P2P_code/open_subset.py\u001b[0m in \u001b[0;36mopen_and_process\u001b[1;34m(file, type, subset_type, model_purpose)\u001b[0m\n\u001b[0;32m     21\u001b[0m \u001b[1;33m\u001b[0m\u001b[0m\n\u001b[0;32m     22\u001b[0m     \u001b[1;31m# basic open into pandas\u001b[0m\u001b[1;33m\u001b[0m\u001b[1;33m\u001b[0m\u001b[0m\n\u001b[1;32m---> 23\u001b[1;33m     \u001b[0mdata\u001b[0m \u001b[1;33m=\u001b[0m \u001b[0mpd\u001b[0m\u001b[1;33m.\u001b[0m\u001b[0mread_csv\u001b[0m\u001b[1;33m(\u001b[0m\u001b[0mopen\u001b[0m\u001b[1;33m(\u001b[0m\u001b[0mfile\u001b[0m\u001b[1;33m)\u001b[0m\u001b[1;33m)\u001b[0m\u001b[1;33m\u001b[0m\u001b[0m\n\u001b[0m\u001b[0;32m     24\u001b[0m \u001b[1;33m\u001b[0m\u001b[0m\n\u001b[0;32m     25\u001b[0m     \u001b[1;31m# options are to help with debugging, can re-select simpler subsetting/transformations as needed\u001b[0m\u001b[1;33m\u001b[0m\u001b[1;33m\u001b[0m\u001b[0m\n",
        "\u001b[1;32m/usr/local/lib/python2.7/dist-packages/pandas/io/parsers.pyc\u001b[0m in \u001b[0;36mparser_f\u001b[1;34m(filepath_or_buffer, sep, dialect, compression, doublequote, escapechar, quotechar, quoting, skipinitialspace, lineterminator, header, index_col, names, prefix, skiprows, skipfooter, skip_footer, na_values, na_fvalues, true_values, false_values, delimiter, converters, dtype, usecols, engine, delim_whitespace, as_recarray, na_filter, compact_ints, use_unsigned, low_memory, buffer_lines, warn_bad_lines, error_bad_lines, keep_default_na, thousands, comment, decimal, parse_dates, keep_date_col, dayfirst, date_parser, memory_map, nrows, iterator, chunksize, verbose, encoding, squeeze, mangle_dupe_cols, tupleize_cols)\u001b[0m\n\u001b[0;32m    398\u001b[0m             )\n\u001b[0;32m    399\u001b[0m \u001b[1;33m\u001b[0m\u001b[0m\n\u001b[1;32m--> 400\u001b[1;33m         \u001b[1;32mreturn\u001b[0m \u001b[0m_read\u001b[0m\u001b[1;33m(\u001b[0m\u001b[0mfilepath_or_buffer\u001b[0m\u001b[1;33m,\u001b[0m \u001b[0mkwds\u001b[0m\u001b[1;33m)\u001b[0m\u001b[1;33m\u001b[0m\u001b[0m\n\u001b[0m\u001b[0;32m    401\u001b[0m \u001b[1;33m\u001b[0m\u001b[0m\n\u001b[0;32m    402\u001b[0m     \u001b[0mparser_f\u001b[0m\u001b[1;33m.\u001b[0m\u001b[0m__name__\u001b[0m \u001b[1;33m=\u001b[0m \u001b[0mname\u001b[0m\u001b[1;33m\u001b[0m\u001b[0m\n",
        "\u001b[1;32m/usr/local/lib/python2.7/dist-packages/pandas/io/parsers.pyc\u001b[0m in \u001b[0;36m_read\u001b[1;34m(filepath_or_buffer, kwds)\u001b[0m\n\u001b[0;32m    203\u001b[0m         \u001b[1;32mreturn\u001b[0m \u001b[0mparser\u001b[0m\u001b[1;33m\u001b[0m\u001b[0m\n\u001b[0;32m    204\u001b[0m \u001b[1;33m\u001b[0m\u001b[0m\n\u001b[1;32m--> 205\u001b[1;33m     \u001b[1;32mreturn\u001b[0m \u001b[0mparser\u001b[0m\u001b[1;33m.\u001b[0m\u001b[0mread\u001b[0m\u001b[1;33m(\u001b[0m\u001b[1;33m)\u001b[0m\u001b[1;33m\u001b[0m\u001b[0m\n\u001b[0m\u001b[0;32m    206\u001b[0m \u001b[1;33m\u001b[0m\u001b[0m\n\u001b[0;32m    207\u001b[0m _parser_defaults = {\n",
        "\u001b[1;32m/usr/local/lib/python2.7/dist-packages/pandas/io/parsers.pyc\u001b[0m in \u001b[0;36mread\u001b[1;34m(self, nrows)\u001b[0m\n\u001b[0;32m    606\u001b[0m             \u001b[1;31m#     self._engine.set_error_bad_lines(False)\u001b[0m\u001b[1;33m\u001b[0m\u001b[1;33m\u001b[0m\u001b[0m\n\u001b[0;32m    607\u001b[0m \u001b[1;33m\u001b[0m\u001b[0m\n\u001b[1;32m--> 608\u001b[1;33m         \u001b[0mret\u001b[0m \u001b[1;33m=\u001b[0m \u001b[0mself\u001b[0m\u001b[1;33m.\u001b[0m\u001b[0m_engine\u001b[0m\u001b[1;33m.\u001b[0m\u001b[0mread\u001b[0m\u001b[1;33m(\u001b[0m\u001b[0mnrows\u001b[0m\u001b[1;33m)\u001b[0m\u001b[1;33m\u001b[0m\u001b[0m\n\u001b[0m\u001b[0;32m    609\u001b[0m \u001b[1;33m\u001b[0m\u001b[0m\n\u001b[0;32m    610\u001b[0m         \u001b[1;32mif\u001b[0m \u001b[0mself\u001b[0m\u001b[1;33m.\u001b[0m\u001b[0moptions\u001b[0m\u001b[1;33m.\u001b[0m\u001b[0mget\u001b[0m\u001b[1;33m(\u001b[0m\u001b[1;34m'as_recarray'\u001b[0m\u001b[1;33m)\u001b[0m\u001b[1;33m:\u001b[0m\u001b[1;33m\u001b[0m\u001b[0m\n",
        "\u001b[1;32m/usr/local/lib/python2.7/dist-packages/pandas/io/parsers.pyc\u001b[0m in \u001b[0;36mread\u001b[1;34m(self, nrows)\u001b[0m\n\u001b[0;32m   1026\u001b[0m \u001b[1;33m\u001b[0m\u001b[0m\n\u001b[0;32m   1027\u001b[0m         \u001b[1;32mtry\u001b[0m\u001b[1;33m:\u001b[0m\u001b[1;33m\u001b[0m\u001b[0m\n\u001b[1;32m-> 1028\u001b[1;33m             \u001b[0mdata\u001b[0m \u001b[1;33m=\u001b[0m \u001b[0mself\u001b[0m\u001b[1;33m.\u001b[0m\u001b[0m_reader\u001b[0m\u001b[1;33m.\u001b[0m\u001b[0mread\u001b[0m\u001b[1;33m(\u001b[0m\u001b[0mnrows\u001b[0m\u001b[1;33m)\u001b[0m\u001b[1;33m\u001b[0m\u001b[0m\n\u001b[0m\u001b[0;32m   1029\u001b[0m         \u001b[1;32mexcept\u001b[0m \u001b[0mStopIteration\u001b[0m\u001b[1;33m:\u001b[0m\u001b[1;33m\u001b[0m\u001b[0m\n\u001b[0;32m   1030\u001b[0m             \u001b[1;32mif\u001b[0m \u001b[0mnrows\u001b[0m \u001b[1;32mis\u001b[0m \u001b[0mNone\u001b[0m\u001b[1;33m:\u001b[0m\u001b[1;33m\u001b[0m\u001b[0m\n",
        "\u001b[1;31mKeyboardInterrupt\u001b[0m: "
       ]
      }
     ],
     "prompt_number": 3
    },
    {
     "cell_type": "code",
     "collapsed": false,
     "input": [
      "reload(model)\n",
      "log_reg_model = model.Classifier()"
     ],
     "language": "python",
     "metadata": {},
     "outputs": [
      {
       "output_type": "stream",
       "stream": "stdout",
       "text": [
        "ready to open file. Run .open_file().  Type options: simple, feature_subset, transform\n"
       ]
      }
     ],
     "prompt_number": 52
    },
    {
     "cell_type": "code",
     "collapsed": false,
     "input": [
      "log_reg_model.open_file('../Raw_Data/LendingClub/LoanStats3all.csv')"
     ],
     "language": "python",
     "metadata": {},
     "outputs": [
      {
       "output_type": "stream",
       "stream": "stdout",
       "text": [
        "beginning data transformation\n",
        "before dropna, db length: 207325"
       ]
      },
      {
       "output_type": "stream",
       "stream": "stdout",
       "text": [
        "\n",
        "just after dropna, db length: 201688"
       ]
      },
      {
       "output_type": "stream",
       "stream": "stdout",
       "text": [
        "\n",
        "database length: 193797"
       ]
      },
      {
       "output_type": "stream",
       "stream": "stdout",
       "text": [
        "\n",
        "database length: 174702"
       ]
      },
      {
       "output_type": "stream",
       "stream": "stdout",
       "text": [
        "\n",
        "run .assign_to_groups()"
       ]
      },
      {
       "output_type": "stream",
       "stream": "stdout",
       "text": [
        "\n"
       ]
      }
     ],
     "prompt_number": 53
    },
    {
     "cell_type": "code",
     "collapsed": false,
     "input": [
      "log_reg_model.assign_to_groups()\n",
      "log_reg_model.prepare()\n",
      "log_reg_model.run()"
     ],
     "language": "python",
     "metadata": {},
     "outputs": [
      {
       "output_type": "stream",
       "stream": "stdout",
       "text": [
        "Accuracy of model:  0.820952380952\n",
        "Total Fully Paid in Grade: 434.0\n",
        "Total Notes in Grade: 525\n",
        "None-default rate if fully invest: 0.826666666667\n",
        "Total number invested by model: 512.0\n",
        "non-default rate invested by model: 0.83203125\n"
       ]
      },
      {
       "metadata": {},
       "output_type": "display_data",
       "png": "[encoded data removed]",
       "text": [
        "<matplotlib.figure.Figure at 0x11fea650>"
       ]
      }
     ],
     "prompt_number": 54
    },
    {
     "cell_type": "code",
     "collapsed": false,
     "input": [
      "reload(op)\n",
      "tst_data = op.open_and_process('../Raw_Data/LendingClub/LoanStats3all.csv', 'transform', 'model', 'test1')\n",
      "tst_data"
     ],
     "language": "python",
     "metadata": {},
     "outputs": [
      {
       "output_type": "stream",
       "stream": "stdout",
       "text": [
        "beginning data transformation\n",
        "before dropna, db length: 207325"
       ]
      },
      {
       "output_type": "stream",
       "stream": "stdout",
       "text": [
        "\n",
        "just after dropna, db length: 201688"
       ]
      },
      {
       "output_type": "stream",
       "stream": "stdout",
       "text": [
        "\n",
        "database length: 193797"
       ]
      },
      {
       "output_type": "stream",
       "stream": "stdout",
       "text": [
        "\n",
        "database length: 174702"
       ]
      },
      {
       "output_type": "stream",
       "stream": "stdout",
       "text": [
        "\n"
       ]
      },
      {
       "output_type": "stream",
       "stream": "stderr",
       "text": [
        "/usr/local/lib/python2.7/dist-packages/pandas/core/config.py:570: DeprecationWarning: height has been deprecated.\n",
        "\n",
        "  warnings.warn(d.msg, DeprecationWarning)\n"
       ]
      },
      {
       "html": [
        "<pre>\n",
        "&lt;class 'pandas.core.frame.DataFrame'&gt;\n",
        "Int64Index: 1024 entries, 5309 to 39771\n",
        "Data columns (total 33 columns):\n",
        "title                         1024  non-null values\n",
        "desc                          1024  non-null values\n",
        "loan_amnt                     1024  non-null values\n",
        "term                          1024  non-null values\n",
        "int_rate                      1024  non-null values\n",
        "fico_range_high               1024  non-null values\n",
        "fico_range_low                1024  non-null values\n",
        "dti                           1024  non-null values\n",
        "is_inc_v                      1024  non-null values\n",
        "annual_inc                    1024  non-null values\n",
        "emp_length                    1024  non-null values\n",
        "issue_d                       1024  non-null values\n",
        "home_own_MORTGAGE             1024  non-null values\n",
        "home_own_NONE                 1024  non-null values\n",
        "home_own_OTHER                1024  non-null values\n",
        "home_own_OWN                  1024  non-null values\n",
        "home_own_RENT                 1024  non-null values\n",
        "purpose_car                   1024  non-null values\n",
        "purpose_credit_card           1024  non-null values\n",
        "purpose_debt_consolidation    1024  non-null values\n",
        "purpose_educational           1024  non-null values\n",
        "purpose_home_improvement      1024  non-null values\n",
        "purpose_house                 1024  non-null values\n",
        "purpose_major_purchase        1024  non-null values\n",
        "purpose_medical               1024  non-null values\n",
        "purpose_moving                1024  non-null values\n",
        "purpose_other                 1024  non-null values\n",
        "purpose_renewable_energy      1024  non-null values\n",
        "purpose_small_business        1024  non-null values\n",
        "purpose_vacation              1024  non-null values\n",
        "purpose_wedding               1024  non-null values\n",
        "status_Default                1024  non-null values\n",
        "status_Fully Paid             1024  non-null values\n",
        "dtypes: datetime64[ns](1), float64(29), int64(3)\n",
        "</pre>"
       ],
       "metadata": {},
       "output_type": "pyout",
       "prompt_number": 30,
       "text": [
        "<class 'pandas.core.frame.DataFrame'>\n",
        "Int64Index: 1024 entries, 5309 to 39771\n",
        "Data columns (total 33 columns):\n",
        "title                         1024  non-null values\n",
        "desc                          1024  non-null values\n",
        "loan_amnt                     1024  non-null values\n",
        "term                          1024  non-null values\n",
        "int_rate                      1024  non-null values\n",
        "fico_range_high               1024  non-null values\n",
        "fico_range_low                1024  non-null values\n",
        "dti                           1024  non-null values\n",
        "is_inc_v                      1024  non-null values\n",
        "annual_inc                    1024  non-null values\n",
        "emp_length                    1024  non-null values\n",
        "issue_d                       1024  non-null values\n",
        "home_own_MORTGAGE             1024  non-null values\n",
        "home_own_NONE                 1024  non-null values\n",
        "home_own_OTHER                1024  non-null values\n",
        "home_own_OWN                  1024  non-null values\n",
        "home_own_RENT                 1024  non-null values\n",
        "purpose_car                   1024  non-null values\n",
        "purpose_credit_card           1024  non-null values\n",
        "purpose_debt_consolidation    1024  non-null values\n",
        "purpose_educational           1024  non-null values\n",
        "purpose_home_improvement      1024  non-null values\n",
        "purpose_house                 1024  non-null values\n",
        "purpose_major_purchase        1024  non-null values\n",
        "purpose_medical               1024  non-null values\n",
        "purpose_moving                1024  non-null values\n",
        "purpose_other                 1024  non-null values\n",
        "purpose_renewable_energy      1024  non-null values\n",
        "purpose_small_business        1024  non-null values\n",
        "purpose_vacation              1024  non-null values\n",
        "purpose_wedding               1024  non-null values\n",
        "status_Default                1024  non-null values\n",
        "status_Fully Paid             1024  non-null values\n",
        "dtypes: datetime64[ns](1), float64(29), int64(3)"
       ]
      }
     ],
     "prompt_number": 30
    },
    {
     "cell_type": "code",
     "collapsed": false,
     "input": [
      "ex.check_types(tst_data)"
     ],
     "language": "python",
     "metadata": {},
     "outputs": [
      {
       "metadata": {},
       "output_type": "pyout",
       "prompt_number": 32,
       "text": [
        "[('title', {numpy.int64}),\n",
        " ('desc', {numpy.int64}),\n",
        " ('loan_amnt', {numpy.float64}),\n",
        " ('term', {numpy.float64}),\n",
        " ('int_rate', {numpy.float64}),\n",
        " ('fico_range_high', {numpy.float64}),\n",
        " ('fico_range_low', {numpy.float64}),\n",
        " ('dti', {numpy.float64}),\n",
        " ('is_inc_v', {numpy.int64}),\n",
        " ('annual_inc', {numpy.float64}),\n",
        " ('emp_length', {numpy.float64}),\n",
        " ('issue_d', {pandas.tslib.Timestamp}),\n",
        " ('home_own_MORTGAGE', {numpy.float64}),\n",
        " ('home_own_NONE', {numpy.float64}),\n",
        " ('home_own_OTHER', {numpy.float64}),\n",
        " ('home_own_OWN', {numpy.float64}),\n",
        " ('home_own_RENT', {numpy.float64}),\n",
        " ('purpose_car', {numpy.float64}),\n",
        " ('purpose_credit_card', {numpy.float64}),\n",
        " ('purpose_debt_consolidation', {numpy.float64}),\n",
        " ('purpose_educational', {numpy.float64}),\n",
        " ('purpose_home_improvement', {numpy.float64}),\n",
        " ('purpose_house', {numpy.float64}),\n",
        " ('purpose_major_purchase', {numpy.float64}),\n",
        " ('purpose_medical', {numpy.float64}),\n",
        " ('purpose_moving', {numpy.float64}),\n",
        " ('purpose_other', {numpy.float64}),\n",
        " ('purpose_renewable_energy', {numpy.float64}),\n",
        " ('purpose_small_business', {numpy.float64}),\n",
        " ('purpose_vacation', {numpy.float64}),\n",
        " ('purpose_wedding', {numpy.float64}),\n",
        " ('status_Default', {numpy.float64}),\n",
        " ('status_Fully Paid', {numpy.float64})]"
       ]
      }
     ],
     "prompt_number": 32
    },
    {
     "cell_type": "code",
     "collapsed": false,
     "input": [
      "#del tst_data['issue_d']\n",
      "#del tst_data['status_Default']\n",
      "expected_results = tst_data['status_Fully Paid']\n",
      "del tst_data['status_Fully Paid']"
     ],
     "language": "python",
     "metadata": {},
     "outputs": [],
     "prompt_number": 50
    },
    {
     "cell_type": "code",
     "collapsed": false,
     "input": [
      "ex.check_types(log_reg_model.tst_dt)"
     ],
     "language": "python",
     "metadata": {},
     "outputs": [
      {
       "metadata": {},
       "output_type": "pyout",
       "prompt_number": 48,
       "text": [
        "[('title', {numpy.int64}),\n",
        " ('desc', {numpy.int64}),\n",
        " ('loan_amnt', {numpy.float64}),\n",
        " ('term', {numpy.float64}),\n",
        " ('int_rate', {numpy.float64}),\n",
        " ('fico_range_high', {numpy.float64}),\n",
        " ('fico_range_low', {numpy.float64}),\n",
        " ('dti', {numpy.float64}),\n",
        " ('is_inc_v', {numpy.int64}),\n",
        " ('annual_inc', {numpy.float64}),\n",
        " ('emp_length', {numpy.float64}),\n",
        " ('home_own_MORTGAGE', {numpy.float64}),\n",
        " ('home_own_NONE', {numpy.float64}),\n",
        " ('home_own_OTHER', {numpy.float64}),\n",
        " ('home_own_OWN', {numpy.float64}),\n",
        " ('home_own_RENT', {numpy.float64}),\n",
        " ('purpose_car', {numpy.float64}),\n",
        " ('purpose_credit_card', {numpy.float64}),\n",
        " ('purpose_debt_consolidation', {numpy.float64}),\n",
        " ('purpose_educational', {numpy.float64}),\n",
        " ('purpose_home_improvement', {numpy.float64}),\n",
        " ('purpose_house', {numpy.float64}),\n",
        " ('purpose_major_purchase', {numpy.float64}),\n",
        " ('purpose_medical', {numpy.float64}),\n",
        " ('purpose_moving', {numpy.float64}),\n",
        " ('purpose_other', {numpy.float64}),\n",
        " ('purpose_renewable_energy', {numpy.float64}),\n",
        " ('purpose_small_business', {numpy.float64}),\n",
        " ('purpose_vacation', {numpy.float64}),\n",
        " ('purpose_wedding', {numpy.float64})]"
       ]
      }
     ],
     "prompt_number": 48
    },
    {
     "cell_type": "code",
     "collapsed": false,
     "input": [
      "ex.check_types(tst_data)"
     ],
     "language": "python",
     "metadata": {},
     "outputs": [
      {
       "metadata": {},
       "output_type": "pyout",
       "prompt_number": 49,
       "text": [
        "[('title', {numpy.int64}),\n",
        " ('desc', {numpy.int64}),\n",
        " ('loan_amnt', {numpy.float64}),\n",
        " ('term', {numpy.float64}),\n",
        " ('int_rate', {numpy.float64}),\n",
        " ('fico_range_high', {numpy.float64}),\n",
        " ('fico_range_low', {numpy.float64}),\n",
        " ('dti', {numpy.float64}),\n",
        " ('is_inc_v', {numpy.int64}),\n",
        " ('annual_inc', {numpy.float64}),\n",
        " ('emp_length', {numpy.float64}),\n",
        " ('home_own_MORTGAGE', {numpy.float64}),\n",
        " ('home_own_NONE', {numpy.float64}),\n",
        " ('home_own_OTHER', {numpy.float64}),\n",
        " ('home_own_OWN', {numpy.float64}),\n",
        " ('home_own_RENT', {numpy.float64}),\n",
        " ('purpose_car', {numpy.float64}),\n",
        " ('purpose_credit_card', {numpy.float64}),\n",
        " ('purpose_debt_consolidation', {numpy.float64}),\n",
        " ('purpose_educational', {numpy.float64}),\n",
        " ('purpose_home_improvement', {numpy.float64}),\n",
        " ('purpose_house', {numpy.float64}),\n",
        " ('purpose_major_purchase', {numpy.float64}),\n",
        " ('purpose_medical', {numpy.float64}),\n",
        " ('purpose_moving', {numpy.float64}),\n",
        " ('purpose_other', {numpy.float64}),\n",
        " ('purpose_renewable_energy', {numpy.float64}),\n",
        " ('purpose_small_business', {numpy.float64}),\n",
        " ('purpose_vacation', {numpy.float64}),\n",
        " ('purpose_wedding', {numpy.float64}),\n",
        " ('status_Fully Paid', {numpy.float64})]"
       ]
      }
     ],
     "prompt_number": 49
    },
    {
     "cell_type": "code",
     "collapsed": false,
     "input": [
      "tst_prepared = log_reg_model.scaler.transform(tst_data)\n",
      "#log_reg_model.clf.decision_function(tst_prepared)"
     ],
     "language": "python",
     "metadata": {},
     "outputs": [],
     "prompt_number": 82
    },
    {
     "cell_type": "code",
     "collapsed": false,
     "input": [
      "# calculate confidence scores\n",
      "confidence = log_reg_model.clf.decision_function(tst_prepared)\n",
      "#results = log_reg_model.clf.predict(tst_prepared)"
     ],
     "language": "python",
     "metadata": {},
     "outputs": [],
     "prompt_number": 83
    },
    {
     "cell_type": "code",
     "collapsed": false,
     "input": [
      "# determine predictions\n",
      "tst_results = []\n",
      "for each in confidence:\n",
      "    if each > 4:\n",
      "        tst_results.append(1)\n",
      "    else:\n",
      "        tst_results.append(0)\n",
      "set(tst_results)"
     ],
     "language": "python",
     "metadata": {},
     "outputs": [
      {
       "metadata": {},
       "output_type": "pyout",
       "prompt_number": 84,
       "text": [
        "{0, 1}"
       ]
      }
     ],
     "prompt_number": 84
    },
    {
     "cell_type": "code",
     "collapsed": false,
     "input": [
      "# get a set of all the one's predicted to be particularly safe\n",
      "predict_safe = []\n",
      "for i in range(len(tst_data.index)):\n",
      "    if tst_results[i] == 1:\n",
      "        predict_safe.append(tst_data.index[i])\n",
      "len(predict_safe)"
     ],
     "language": "python",
     "metadata": {},
     "outputs": [
      {
       "metadata": {},
       "output_type": "pyout",
       "prompt_number": 85,
       "text": [
        "641"
       ]
      }
     ],
     "prompt_number": 85
    },
    {
     "cell_type": "code",
     "collapsed": false,
     "input": [
      "reload(analysis)\n",
      "# now ready to visualize\n",
      "viz = analysis.Visualize('subset_db.csv')"
     ],
     "language": "python",
     "metadata": {},
     "outputs": [
      {
       "output_type": "stream",
       "stream": "stdout",
       "text": [
        "ready for .age_last_payment(type)\n"
       ]
      }
     ],
     "prompt_number": 86
    },
    {
     "cell_type": "code",
     "collapsed": false,
     "input": [
      "# grab the full analysis details for ones predicted safe\n",
      "safe_full_details = viz.db.loc[predict_safe]"
     ],
     "language": "python",
     "metadata": {},
     "outputs": [],
     "prompt_number": 87
    },
    {
     "cell_type": "code",
     "collapsed": false,
     "input": [
      "safe_groupd = safe_full_details.groupby('loan_status')\n",
      "results = safe_groupd.size()\n",
      "print results"
     ],
     "language": "python",
     "metadata": {},
     "outputs": [
      {
       "output_type": "stream",
       "stream": "stdout",
       "text": [
        "loan_status\n",
        "Charged Off                                             69\n",
        "Current                                                223\n",
        "Does not meet the credit policy.  Status:Fully Paid      1\n",
        "Fully Paid                                             348\n",
        "dtype: int64\n"
       ]
      }
     ],
     "prompt_number": 94
    },
    {
     "cell_type": "code",
     "collapsed": false,
     "input": [
      "total_non_default = results['Current'] + results['Fully Paid'] + 1\n",
      "print float(total_non_default)/len(predict_safe)"
     ],
     "language": "python",
     "metadata": {},
     "outputs": [
      {
       "output_type": "stream",
       "stream": "stdout",
       "text": [
        "0.892355694228\n"
       ]
      }
     ],
     "prompt_number": 95
    }
   ],
   "metadata": {}
  }
 ]
}