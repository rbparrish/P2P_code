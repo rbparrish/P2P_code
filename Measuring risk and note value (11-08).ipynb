{
 "metadata": {
  "name": ""
 },
 "nbformat": 3,
 "nbformat_minor": 0,
 "worksheets": [
  {
   "cells": [
    {
     "cell_type": "code",
     "collapsed": false,
     "input": [
      "import matplotlib.pyplot as plt\n",
      "import numpy as np\n",
      "import pandas as pd\n",
      "%matplotlib inline"
     ],
     "language": "python",
     "metadata": {},
     "outputs": [],
     "prompt_number": 1
    },
    {
     "cell_type": "code",
     "collapsed": false,
     "input": [
      "import open_subset as op\n",
      "import parsers as pa\n",
      "import exploration as ex\n",
      "import model"
     ],
     "language": "python",
     "metadata": {},
     "outputs": [],
     "prompt_number": 2
    },
    {
     "cell_type": "code",
     "collapsed": false,
     "input": [],
     "language": "python",
     "metadata": {},
     "outputs": [],
     "prompt_number": 3
    },
    {
     "cell_type": "code",
     "collapsed": false,
     "input": [
      "#reload(model)\n",
      "this = model.Classifier()\n",
      "this.open_file()\n",
      "this.assign_to_groups()\n",
      "this.prepare()\n",
      "this.run()"
     ],
     "language": "python",
     "metadata": {},
     "outputs": []
    },
    {
     "cell_type": "code",
     "collapsed": false,
     "input": [
      "dataB = op.open_and_process('../Raw_Data/LendingClub/LoanStats3a.csv', 'simple')"
     ],
     "language": "python",
     "metadata": {},
     "outputs": [],
     "prompt_number": 81
    },
    {
     "cell_type": "code",
     "collapsed": false,
     "input": [
      "# HOW TO SELECT by index...\n",
      "dataB.loc[[15000,15004],['annual_inc','']]"
     ],
     "language": "python",
     "metadata": {},
     "outputs": [
      {
       "ename": "NameError",
       "evalue": "name 'this' is not defined",
       "output_type": "pyerr",
       "traceback": [
        "\u001b[1;31m---------------------------------------------------------------------------\u001b[0m\n\u001b[1;31mNameError\u001b[0m                                 Traceback (most recent call last)",
        "\u001b[1;32m<ipython-input-6-260f4ebf96be>\u001b[0m in \u001b[0;36m<module>\u001b[1;34m()\u001b[0m\n\u001b[0;32m      1\u001b[0m \u001b[1;31m# HOW TO SELECT by index...\u001b[0m\u001b[1;33m\u001b[0m\u001b[1;33m\u001b[0m\u001b[0m\n\u001b[1;32m----> 2\u001b[1;33m \u001b[0mthis\u001b[0m\u001b[1;33m.\u001b[0m\u001b[0mdata\u001b[0m\u001b[1;33m.\u001b[0m\u001b[0mloc\u001b[0m\u001b[1;33m[\u001b[0m\u001b[1;33m[\u001b[0m\u001b[1;36m15000\u001b[0m\u001b[1;33m,\u001b[0m\u001b[1;36m15004\u001b[0m\u001b[1;33m]\u001b[0m\u001b[1;33m,\u001b[0m\u001b[1;33m[\u001b[0m\u001b[1;34m'annual_inc'\u001b[0m\u001b[1;33m,\u001b[0m\u001b[1;34m''\u001b[0m\u001b[1;33m]\u001b[0m\u001b[1;33m]\u001b[0m\u001b[1;33m\u001b[0m\u001b[0m\n\u001b[0m",
        "\u001b[1;31mNameError\u001b[0m: name 'this' is not defined"
       ]
      }
     ],
     "prompt_number": 6
    },
    {
     "cell_type": "code",
     "collapsed": false,
     "input": [
      "dataB.columns"
     ],
     "language": "python",
     "metadata": {},
     "outputs": [
      {
       "metadata": {},
       "output_type": "pyout",
       "prompt_number": 5,
       "text": [
        "Index([u'id', u'member_id', u'loan_amnt', u'funded_amnt', u'funded_amnt_inv', u'term', u'int_rate', u'installment', u'grade', u'sub_grade', u'emp_title', u'emp_length', u'home_ownership', u'annual_inc', u'is_inc_v', u'accept_d', u'exp_d', u'list_d', u'issue_d', u'loan_status', u'pymnt_plan', u'url', u'desc', u'purpose', u'title', u'addr_city', u'addr_state', u'acc_now_delinq', u'acc_open_past_24mths', u'bc_open_to_buy', u'percent_bc_gt_75', u'bc_util', u'dti', u'delinq_2yrs', u'delinq_amnt', u'earliest_cr_line', u'fico_range_low', u'fico_range_high', u'inq_last_6mths', u'mths_since_last_delinq', u'mths_since_last_record', u'mths_since_recent_inq', u'mths_since_recent_loan_delinq', u'mths_since_recent_revol_delinq', u'mths_since_recent_bc', u'mort_acc', u'open_acc', u'pub_rec_gt_100', u'pub_rec', u'total_bal_ex_mort', u'revol_bal', u'revol_util', u'total_bc_limit', u'total_acc', u'initial_list_status', u'out_prncp', u'out_prncp_inv', u'total_pymnt', u'total_pymnt_inv', u'total_rec_prncp', u'total_rec_int', u'total_rec_late_fee', u'last_pymnt_d', u'last_pymnt_amnt', u'next_pymnt_d', u'last_credit_pull_d', u'last_fico_range_high', u'last_fico_range_low', u'total_il_high_credit_limit', u'mths_since_oldest_il_open', u'num_rev_accts', u'mths_since_recent_bc_dlq', u'pub_rec_bankruptcies', u'num_accts_ever_120_pd', u'chargeoff_within_12_mths', u'collections_12_mths_ex_med', u'tax_liens', u'mths_since_last_major_derog', u'num_sats', u'num_tl_op_past_12m', u'mo_sin_rcnt_tl', u'tot_hi_cred_lim', u'tot_cur_bal', u'avg_cur_bal', u'num_bc_tl', u'num_actv_bc_tl', u'num_bc_sats', u'pct_tl_nvr_dlq', u'num_tl_90g_dpd_24m', u'num_tl_30dpd', u'num_tl_120dpd_2m', u'num_il_tl', u'mo_sin_old_il_acct', u'num_actv_rev_tl', u'mo_sin_old_rev_tl_op', u'mo_sin_rcnt_rev_tl_op', u'total_rev_hi_lim', u'num_rev_tl_bal_gt_0', u'num_op_rev_tl', u'tot_coll_amt', u'policy_code'], dtype=object)"
       ]
      }
     ],
     "prompt_number": 5
    },
    {
     "cell_type": "code",
     "collapsed": false,
     "input": [
      "dataB.loc[15000:15010,['loan_amnt','funded_amnt','funded_amnt_inv','term','int_rate','installment']].values"
     ],
     "language": "python",
     "metadata": {},
     "outputs": [
      {
       "metadata": {},
       "output_type": "pyout",
       "prompt_number": 18,
       "text": [
        "array([[11200.0, 11200.0, 11125.0,  60 months,  13.61%, 258.35],\n",
        "       [1200.0, 1200.0, 1200.0,  36 months,  15.21%, 41.73],\n",
        "       [6000.0, 6000.0, 5925.0,  36 months,   6.76%, 184.61],\n",
        "       [7000.0, 7000.0, 6875.0,  36 months,   7.88%, 218.97],\n",
        "       [20000.0, 13050.0, 13050.0,  60 months,   9.99%, 277.21],\n",
        "       [5000.0, 5000.0, 5000.0,  36 months,  14.46%, 172.01],\n",
        "       [25000.0, 15700.0, 15456.0310306,  60 months,  10.36%, 336.37],\n",
        "       [12000.0, 10450.0, 10350.0,  60 months,  17.93%, 264.97],\n",
        "       [4000.0, 4000.0, 4000.0,  60 months,  13.61%, 92.27],\n",
        "       [20000.0, 20000.0, 19940.3017928,  36 months,   7.88%, 625.63],\n",
        "       [22000.0, 22000.0, 21975.0,  60 months,  18.30%, 562.26]], dtype=object)"
       ]
      }
     ],
     "prompt_number": 18
    },
    {
     "cell_type": "code",
     "collapsed": false,
     "input": [
      "dataB.loc[15000:15010,['loan_status','accept_d','exp_d','last_pymnt_d','out_prncp','out_prncp_inv']].values"
     ],
     "language": "python",
     "metadata": {},
     "outputs": [
      {
       "metadata": {},
       "output_type": "pyout",
       "prompt_number": 20,
       "text": [
        "array([[Current, 2010-10-08, 2010-10-22, 2013-09-26, 5622.59, 5584.71],\n",
        "       [Fully Paid, 2010-10-08, 2010-10-22, 2012-11-26, 0.0, 0.0],\n",
        "       [Fully Paid, 2010-10-10, 2010-10-24, 2012-01-30, 0.0, 0.0],\n",
        "       [In Grace Period, 2010-10-14, 2010-10-28, 2013-10-04, 229.51, 225.31],\n",
        "       [Charged Off, 2010-11-01, 2010-11-15, 2013-04-19, 0.0, 0.0],\n",
        "       [Fully Paid, 2010-10-25, 2010-11-08, 2013-04-08, 0.0, 0.0],\n",
        "       [Charged Off, 2010-10-18, 2010-10-30, 2013-04-05, 0.0, 0.0],\n",
        "       [Fully Paid, 2010-10-08, 2010-10-22, 2012-04-26, 0.0, 0.0],\n",
        "       [Fully Paid, 2010-10-15, 2010-10-29, 2010-12-01, 0.0, 0.0],\n",
        "       [Fully Paid, 2010-10-09, 2010-10-23, 2013-09-24, 0.0, 0.0],\n",
        "       [Current, 2010-10-11, 2010-10-25, 2013-10-31, 11283.71, 11270.78]], dtype=object)"
       ]
      }
     ],
     "prompt_number": 20
    },
    {
     "cell_type": "code",
     "collapsed": false,
     "input": [
      "dataB.loc[15000:15010,['loan_amnt','loan_status','total_rec_int','total_rec_prncp']]"
     ],
     "language": "python",
     "metadata": {},
     "outputs": [
      {
       "output_type": "stream",
       "stream": "stderr",
       "text": [
        "/usr/local/lib/python2.7/dist-packages/pandas/core/config.py:570: DeprecationWarning: height has been deprecated.\n",
        "\n",
        "  warnings.warn(d.msg, DeprecationWarning)\n",
        "/usr/local/lib/python2.7/dist-packages/pandas/core/config.py:570: DeprecationWarning: height has been deprecated.\n",
        "\n",
        "  warnings.warn(d.msg, DeprecationWarning)\n"
       ]
      },
      {
       "html": [
        "<div style=\"max-height:1000px;max-width:1500px;overflow:auto;\">\n",
        "<table border=\"1\" class=\"dataframe\">\n",
        "  <thead>\n",
        "    <tr style=\"text-align: right;\">\n",
        "      <th></th>\n",
        "      <th>loan_amnt</th>\n",
        "      <th>loan_status</th>\n",
        "      <th>total_rec_int</th>\n",
        "      <th>total_rec_prncp</th>\n",
        "    </tr>\n",
        "  </thead>\n",
        "  <tbody>\n",
        "    <tr>\n",
        "      <th>15000</th>\n",
        "      <td> 11200</td>\n",
        "      <td>         Current</td>\n",
        "      <td> 3411.61</td>\n",
        "      <td>  5577.41</td>\n",
        "    </tr>\n",
        "    <tr>\n",
        "      <th>15001</th>\n",
        "      <td>  1200</td>\n",
        "      <td>      Fully Paid</td>\n",
        "      <td>  165.98</td>\n",
        "      <td>  1200.00</td>\n",
        "    </tr>\n",
        "    <tr>\n",
        "      <th>15002</th>\n",
        "      <td>  6000</td>\n",
        "      <td>      Fully Paid</td>\n",
        "      <td>  414.59</td>\n",
        "      <td>  6000.00</td>\n",
        "    </tr>\n",
        "    <tr>\n",
        "      <th>15003</th>\n",
        "      <td>  7000</td>\n",
        "      <td> In Grace Period</td>\n",
        "      <td>  879.81</td>\n",
        "      <td>  6770.49</td>\n",
        "    </tr>\n",
        "    <tr>\n",
        "      <th>15004</th>\n",
        "      <td> 20000</td>\n",
        "      <td>     Charged Off</td>\n",
        "      <td> 2533.73</td>\n",
        "      <td>  5498.98</td>\n",
        "    </tr>\n",
        "    <tr>\n",
        "      <th>15005</th>\n",
        "      <td>  5000</td>\n",
        "      <td>      Fully Paid</td>\n",
        "      <td> 1118.90</td>\n",
        "      <td>  5000.00</td>\n",
        "    </tr>\n",
        "    <tr>\n",
        "      <th>15006</th>\n",
        "      <td> 25000</td>\n",
        "      <td>     Charged Off</td>\n",
        "      <td> 3160.92</td>\n",
        "      <td>  6569.16</td>\n",
        "    </tr>\n",
        "    <tr>\n",
        "      <th>15007</th>\n",
        "      <td> 12000</td>\n",
        "      <td>      Fully Paid</td>\n",
        "      <td> 2532.99</td>\n",
        "      <td> 10450.00</td>\n",
        "    </tr>\n",
        "    <tr>\n",
        "      <th>15008</th>\n",
        "      <td>  4000</td>\n",
        "      <td>      Fully Paid</td>\n",
        "      <td>   45.74</td>\n",
        "      <td>  4000.00</td>\n",
        "    </tr>\n",
        "    <tr>\n",
        "      <th>15009</th>\n",
        "      <td> 20000</td>\n",
        "      <td>      Fully Paid</td>\n",
        "      <td> 2532.58</td>\n",
        "      <td> 19999.99</td>\n",
        "    </tr>\n",
        "    <tr>\n",
        "      <th>15010</th>\n",
        "      <td> 22000</td>\n",
        "      <td>         Current</td>\n",
        "      <td> 9422.48</td>\n",
        "      <td> 10716.28</td>\n",
        "    </tr>\n",
        "  </tbody>\n",
        "</table>\n",
        "</div>"
       ],
       "metadata": {},
       "output_type": "pyout",
       "prompt_number": 21,
       "text": [
        "       loan_amnt      loan_status  total_rec_int  total_rec_prncp\n",
        "15000      11200          Current        3411.61          5577.41\n",
        "15001       1200       Fully Paid         165.98          1200.00\n",
        "15002       6000       Fully Paid         414.59          6000.00\n",
        "15003       7000  In Grace Period         879.81          6770.49\n",
        "15004      20000      Charged Off        2533.73          5498.98\n",
        "15005       5000       Fully Paid        1118.90          5000.00\n",
        "15006      25000      Charged Off        3160.92          6569.16\n",
        "15007      12000       Fully Paid        2532.99         10450.00\n",
        "15008       4000       Fully Paid          45.74          4000.00\n",
        "15009      20000       Fully Paid        2532.58         19999.99\n",
        "15010      22000          Current        9422.48         10716.28"
       ]
      }
     ],
     "prompt_number": 21
    },
    {
     "cell_type": "code",
     "collapsed": false,
     "input": [
      "# 1 year loan\n",
      "# 10% risk of default\n",
      "# What is a reasonable interest rate?\n",
      "# loan_amnt = $10,000"
     ],
     "language": "python",
     "metadata": {},
     "outputs": [],
     "prompt_number": 23
    },
    {
     "cell_type": "code",
     "collapsed": false,
     "input": [
      "def_db = dataB[dataB['loan_status'] == \"Charged Off\"]\n",
      "def_db = def_db.loc[:,['grade','loan_amnt','int_rate','total_rec_int','total_rec_prncp','exp_d','last_pymnt_d']]"
     ],
     "language": "python",
     "metadata": {},
     "outputs": [],
     "prompt_number": 24
    },
    {
     "cell_type": "code",
     "collapsed": false,
     "input": [
      "def_db.head(n=50).values"
     ],
     "language": "python",
     "metadata": {},
     "outputs": [
      {
       "metadata": {},
       "output_type": "pyout",
       "prompt_number": 27,
       "text": [
        "array([[D, 5600.0,  14.96%, 1211.07, 5220.69, 2010-03-02, 2012-10-09],\n",
        "       [B, 4000.0,  11.14%, 584.85, 2170.35, 2009-09-07, 2011-06-13],\n",
        "       [E, 20000.0,  13.43%, 4262.24, 16077.42, 2007-07-26, 2010-02-01],\n",
        "       [C, 1000.0,  10.59%, 138.64, 544.02, 2007-07-31, 2009-05-01],\n",
        "       [F, 6500.0,  15.01%, 1168.14, 2886.21, 2007-08-15, 2009-02-20],\n",
        "       [B, 2500.0,   9.64%, 354.44, 1730.83, 2007-08-15, 2010-03-30],\n",
        "       [D, 2500.0,  12.80%, 477.21, 1706.01, 2007-08-17, 2010-03-30],\n",
        "       [C, 15450.0,  11.22%, 2659.96, 8688.59, 2007-08-18, 2009-10-30],\n",
        "       [B, 20000.0,   9.64%, 2442.88, 10395.56, 2007-09-02, 2009-05-18],\n",
        "       [C, 3175.0,  11.54%, 172.24, 455.95, 2007-09-02, 2008-03-12],\n",
        "       [F, 2125.0,  15.01%, 382.27, 943.58, 2007-09-18, 2009-03-23],\n",
        "       [D, 8000.0,  12.17%, 1474.29, 5717.45, 2007-09-19, 2009-12-24],\n",
        "       [E, 7725.0,  13.75%, 1601.56, 4386.34, 2007-10-03, 2009-12-08],\n",
        "       [D, 9000.0,  12.49%, 609.26, 1496.83, 2007-10-06, 2008-05-09],\n",
        "       [C, 4650.0,  10.28%, 676.44, 2938.05, 2007-10-07, 2009-10-14],\n",
        "       [D, 5000.0,  12.17%, 574.25, 1756.71, 2007-10-16, 2009-07-01],\n",
        "       [D, 2100.0,  12.49%, 160.03, 400.45, 2007-10-18, 2008-06-23],\n",
        "       [D, 3000.0,  12.49%, 545.0, 1956.75, 2007-10-24, 2009-12-01],\n",
        "       [C, 12000.0,  10.91%, 844.02, 3891.56, 2007-10-24, 2010-03-30],\n",
        "       [B, 4000.0,   9.96%, 148.91, 719.9, 2007-10-24, 2010-01-28],\n",
        "       [C, 2225.0,  10.59%, 110.68, 323.55, 2007-10-26, 2008-05-01],\n",
        "       [D, 20000.0,  13.12%, 427.59, 1028.79, 2007-10-29, 2008-08-01],\n",
        "       [D, 25000.0,  12.80%, 2583.15, 6646.07, 2007-11-04, 2008-10-09],\n",
        "       [C, 8275.0,  10.59%, 1372.48, 6700.52, 2007-11-07, 2010-05-21],\n",
        "       [C, 15450.0,  10.91%, 4640.67, 6316.3, 2007-11-07, 2011-12-21],\n",
        "       [B, 10000.0,   9.01%, 893.7, 3239.25, 2007-11-11, 2009-07-16],\n",
        "       [C, 6800.0,  11.22%, 517.1, 1492.33, 2007-11-23, 2008-08-28],\n",
        "       [B, 25000.0,   9.01%, 2100.38, 8260.95, 2007-11-30, 2008-12-30],\n",
        "       [C, 900.0,  10.28%, 143.67, 804.23, 2007-12-05, 2011-05-11],\n",
        "       [C, 16000.0,  11.54%, 2009.86, 6435.58, 2007-12-10, 2009-04-15],\n",
        "       [D, 5000.0,  11.86%, 653.65, 1997.01, 2007-12-10, 2009-04-23],\n",
        "       [C, 4900.0,  10.28%, 373.63, 1213.7, 2007-12-11, 2008-10-17],\n",
        "       [B, 10000.0,   9.96%, 1019.63, 3494.37, 2007-12-11, 2009-02-19],\n",
        "       [D, 3975.0,  12.17%, 596.19, 1901.0, 2007-12-11, 2009-08-07],\n",
        "       [D, 16000.0,  11.86%, 1865.0, 5558.08, 2007-12-12, 2009-02-18],\n",
        "       [C, 20000.0,  11.54%, 2283.17, 4882.92, 2007-12-13, 2009-03-18],\n",
        "       [D, 9600.0,  12.17%, 1829.62, 6335.33, 2007-12-15, 2010-04-20],\n",
        "       [D, 2800.0,  12.17%, 253.35, 678.15, 2007-12-18, 2008-10-23],\n",
        "       [E, 25000.0,  14.38%, 3553.14, 8471.54, 2007-12-18, 2009-02-23],\n",
        "       [D, 14400.0,  12.80%, 2024.47, 2812.13, 2007-12-19, 2009-10-28],\n",
        "       [B, 25000.0,   9.64%, 1630.08, 5591.61, 2008-01-10, 2008-10-16],\n",
        "       [C, 25000.0,  10.91%, 2675.41, 8767.32, 2007-12-21, 2009-03-09],\n",
        "       [B, 25000.0,   9.33%, 2771.95, 10210.53, 2007-12-24, 2009-06-30],\n",
        "       [B, 10000.0,   9.33%, 504.18, 1732.25, 2007-12-25, 2008-07-30],\n",
        "       [E, 22350.0,  14.07%, 3756.0, 10005.99, 2007-12-26, 2009-07-02],\n",
        "       [D, 9000.0,  12.49%, 1803.72, 5058.01, 2007-12-27, 2010-05-03],\n",
        "       [E, 25000.0,  14.70%, 2503.24, 5262.41, 2007-12-27, 2008-10-22],\n",
        "       [A, 2000.0,   7.75%, 174.5, 886.3, 2007-12-30, 2009-06-02],\n",
        "       [E, 25000.0,  13.75%, 2338.5, 5323.38, 2007-12-30, 2008-10-02],\n",
        "       [C, 4725.0,  11.22%, 664.82, 2282.72, 2008-01-04, 2009-08-10]], dtype=object)"
       ]
      }
     ],
     "prompt_number": 27
    },
    {
     "cell_type": "code",
     "collapsed": false,
     "input": [
      "if 'purpose' in def_db.columns:\n",
      "    print \"awesome\""
     ],
     "language": "python",
     "metadata": {},
     "outputs": [],
     "prompt_number": 30
    },
    {
     "cell_type": "code",
     "collapsed": false,
     "input": [
      "reload(op)\n",
      "import exploration as ex\n",
      "ex.check_types(def_db)"
     ],
     "language": "python",
     "metadata": {},
     "outputs": [
      {
       "metadata": {},
       "output_type": "pyout",
       "prompt_number": 32,
       "text": [
        "[('grade', {str}),\n",
        " ('loan_amnt', {numpy.float64}),\n",
        " ('int_rate', {str}),\n",
        " ('total_rec_int', {numpy.float64}),\n",
        " ('total_rec_prncp', {numpy.float64}),\n",
        " ('exp_d', {str}),\n",
        " ('last_pymnt_d', {str, float})]"
       ]
      }
     ],
     "prompt_number": 32
    },
    {
     "cell_type": "code",
     "collapsed": false,
     "input": [
      "reload(op)\n",
      "trans_db = op.transform(def_db)\n",
      "ex.check_types(trans_db)"
     ],
     "language": "python",
     "metadata": {},
     "outputs": [
      {
       "metadata": {},
       "output_type": "pyout",
       "prompt_number": 46,
       "text": [
        "[('loan_amnt', {numpy.float64}),\n",
        " ('int_rate', {numpy.float64}),\n",
        " ('total_rec_int', {numpy.float64}),\n",
        " ('total_rec_prncp', {numpy.float64}),\n",
        " ('exp_d', {pandas.tslib.Timestamp}),\n",
        " ('last_pymnt_d', {pandas.tslib.Timestamp}),\n",
        " ('grade_A', {numpy.float64}),\n",
        " ('grade_B', {numpy.float64}),\n",
        " ('grade_C', {numpy.float64}),\n",
        " ('grade_D', {numpy.float64}),\n",
        " ('grade_E', {numpy.float64}),\n",
        " ('grade_F', {numpy.float64}),\n",
        " ('grade_G', {numpy.float64})]"
       ]
      }
     ],
     "prompt_number": 46
    },
    {
     "cell_type": "markdown",
     "metadata": {},
     "source": [
      "### playing with python timestamp object"
     ]
    },
    {
     "cell_type": "code",
     "collapsed": false,
     "input": [
      "reload(pa)\n",
      "trans_db['yy-']"
     ],
     "language": "python",
     "metadata": {},
     "outputs": [
      {
       "metadata": {},
       "output_type": "pyout",
       "prompt_number": 48,
       "text": [
        "7    2012-10-09 00:00:00\n",
        "9    2011-06-13 00:00:00\n",
        "61   2010-02-01 00:00:00\n",
        "69   2009-05-01 00:00:00\n",
        "77   2009-02-20 00:00:00\n",
        "Name: last_pymnt_d, dtype: datetime64[ns]"
       ]
      }
     ],
     "prompt_number": 48
    },
    {
     "cell_type": "code",
     "collapsed": false,
     "input": [
      "reload(pa)\n",
      "trans_db['yy-mm_last_payment'] = trans_db['last_pymnt_d'].apply(pa.yr_mm_grouping)\n",
      "ex.check_types(trans_db)"
     ],
     "language": "python",
     "metadata": {},
     "outputs": [
      {
       "metadata": {},
       "output_type": "pyout",
       "prompt_number": 65,
       "text": [
        "[('loan_amnt', {numpy.float64}),\n",
        " ('int_rate', {numpy.float64}),\n",
        " ('total_rec_int', {numpy.float64}),\n",
        " ('total_rec_prncp', {numpy.float64}),\n",
        " ('exp_d', {pandas.tslib.Timestamp}),\n",
        " ('last_pymnt_d', {pandas.tslib.Timestamp}),\n",
        " ('grade_A', {numpy.float64}),\n",
        " ('grade_B', {numpy.float64}),\n",
        " ('grade_C', {numpy.float64}),\n",
        " ('grade_D', {numpy.float64}),\n",
        " ('grade_E', {numpy.float64}),\n",
        " ('grade_F', {numpy.float64}),\n",
        " ('grade_G', {numpy.float64}),\n",
        " ('yy-mm_last_payment', {str})]"
       ]
      }
     ],
     "prompt_number": 65
    },
    {
     "cell_type": "markdown",
     "metadata": {},
     "source": [
      "### playing with pandas \"group by\" functionality"
     ]
    },
    {
     "cell_type": "code",
     "collapsed": false,
     "input": [
      "groupd = trans_db.groupby('yy-mm_last_payment')\n",
      "default_counts_by_month = groupd.size()"
     ],
     "language": "python",
     "metadata": {},
     "outputs": [],
     "prompt_number": 66
    },
    {
     "cell_type": "code",
     "collapsed": false,
     "input": [
      "# counts of how many defaults occur per month\n",
      "default_counts_by_month.hist()"
     ],
     "language": "python",
     "metadata": {},
     "outputs": [
      {
       "metadata": {},
       "output_type": "pyout",
       "prompt_number": 67,
       "text": [
        "<matplotlib.axes.AxesSubplot at 0x4104f50>"
       ]
      },
      {
       "metadata": {},
       "output_type": "display_data",
       "png": "[encoded data removed]",
       "text": [
        "<matplotlib.figure.Figure at 0x6ec8490>"
       ]
      }
     ],
     "prompt_number": 67
    },
    {
     "cell_type": "code",
     "collapsed": false,
     "input": [
      "default_counts_by_month.plot(kind='bar', figsize=(16,12))"
     ],
     "language": "python",
     "metadata": {},
     "outputs": [
      {
       "metadata": {},
       "output_type": "pyout",
       "prompt_number": 68,
       "text": [
        "<matplotlib.axes.AxesSubplot at 0x5937190>"
       ]
      },
      {
       "metadata": {},
       "output_type": "display_data",
       "png": "[encoded data removed]",
       "text": [
        "<matplotlib.figure.Figure at 0x3eda590>"
       ]
      }
     ],
     "prompt_number": 68
    },
    {
     "cell_type": "markdown",
     "metadata": {},
     "source": [
      "### now time to get % default rate, vs just counts"
     ]
    },
    {
     "cell_type": "markdown",
     "metadata": {},
     "source": [
      "#### strategy:\n",
      "\n",
      "- key numbers\n",
      "    - number of start_date's per month\n",
      "    - number of total last_pay_dates per month\n",
      "    - number of defaults per month\n",
      "\n",
      "\n",
      "- number of start_dates's per month.\n",
      "    - separate by\n",
      "        - full set\n",
      "            - group by yy-mm_start_date (count)\n",
      "        - non-default\n",
      "            - group by yy-mm_last_pay_dates (count)\n",
      "        - just default group\n",
      "            - group by yy-mm_last_pay_dates (count in group)\n",
      "\n",
      "- just graph these three counts together for each month\n",
      "\n",
      "- final graph\n",
      "    - total active\n",
      "    - total defaults\n",
      "    - line with default rates\n",
      "\n",
      "\n",
      "- number\n",
      "    - group 1: default,\n",
      "    - group 2: fully paid/current\n",
      "    \n",
      "\n",
      "- group by in this order for pure % default rate\n",
      "    - group 1, create 'month' representative of yy-mm_last_payment\n",
      "    - group 2, create 'month' representative of yy-mm_start_date\n",
      "\n",
      "\n"
     ]
    },
    {
     "cell_type": "code",
     "collapsed": false,
     "input": [
      "# NOTE: def_db = database of fully defaulted loans\n",
      "# WHERE: def_db = dataB[dataB['loan_status'] == \"Charged Off\"]"
     ],
     "language": "python",
     "metadata": {},
     "outputs": []
    },
    {
     "cell_type": "code",
     "collapsed": false,
     "input": [
      "set(dataB['loan_status'])"
     ],
     "language": "python",
     "metadata": {},
     "outputs": [
      {
       "metadata": {},
       "output_type": "pyout",
       "prompt_number": 69,
       "text": [
        "{nan,\n",
        " 'Charged Off',\n",
        " 'Current',\n",
        " 'Default',\n",
        " 'Does not meet the credit policy.  Status:Charged Off',\n",
        " 'Does not meet the credit policy.  Status:Current',\n",
        " 'Does not meet the credit policy.  Status:Fully Paid',\n",
        " 'Does not meet the credit policy.  Status:In Grace Period',\n",
        " 'Does not meet the credit policy.  Status:Late (16-30 days)',\n",
        " 'Does not meet the credit policy.  Status:Late (31-120 days)',\n",
        " 'Fully Paid',\n",
        " 'In Grace Period',\n",
        " 'Late (16-30 days)',\n",
        " 'Late (31-120 days)'}"
       ]
      }
     ],
     "prompt_number": 69
    },
    {
     "cell_type": "code",
     "collapsed": false,
     "input": [
      "dataB = op.open_and_process('../Raw_Data/LendingClub/LoanStats3all.csv', 'simple')"
     ],
     "language": "python",
     "metadata": {},
     "outputs": [],
     "prompt_number": 4
    },
    {
     "cell_type": "code",
     "collapsed": false,
     "input": [
      "reload(op)\n",
      "subset_db = dataB.loc[:,['grade','loan_status','loan_amnt','int_rate','total_rec_int','total_rec_prncp','exp_d','last_pymnt_d']]\n",
      "subset_db = op.transform(subset_db)\n",
      "subset_db['yy-mm_start_date'] = subset_db['exp_d'].apply(pa.yr_mm_grouping)\n",
      "subset_db['yy-mm_last_payment'] = subset_db['last_pymnt_d'].apply(pa.yr_mm_grouping)\n",
      "ex.check_types(subset_db)"
     ],
     "language": "python",
     "metadata": {},
     "outputs": [
      {
       "metadata": {},
       "output_type": "pyout",
       "prompt_number": 7,
       "text": [
        "[('grade', {str}),\n",
        " ('loan_status', {str}),\n",
        " ('loan_amnt', {numpy.float64}),\n",
        " ('int_rate', {numpy.float64}),\n",
        " ('total_rec_int', {numpy.float64}),\n",
        " ('total_rec_prncp', {numpy.float64}),\n",
        " ('exp_d', {pandas.tslib.Timestamp}),\n",
        " ('last_pymnt_d', {pandas.tslib.Timestamp}),\n",
        " ('yy-mm_start_date', {str}),\n",
        " ('yy-mm_last_payment', {str})]"
       ]
      }
     ],
     "prompt_number": 7
    },
    {
     "cell_type": "code",
     "collapsed": false,
     "input": [
      "# creating new default database\n",
      "def_db = subset_db[subset_db['loan_status'].isin(['Default','Charged Off','Late (16-30 days)','Late (31-120 days)'])]\n",
      "good_db = subset_db[subset_db['loan_status'].isin(['Current','Fully Paid','In Grace Period'])]\n",
      "tot_db = subset_db[subset_db['loan_status'].isin(['Default','Charged Off','Late (16-30 days)','Late (31-120 days)','Current','Fully Paid','In Grace Period'])]"
     ],
     "language": "python",
     "metadata": {},
     "outputs": [],
     "prompt_number": 8
    },
    {
     "cell_type": "code",
     "collapsed": false,
     "input": [
      "### used previously.  These are for reference only\n",
      "#groupd = trans_db.groupby('yy-mm_last_payment')\n",
      "#default_counts_by_month = groupd.size()\n",
      "#default_counts_by_month.plot(kind='bar', figsize=(16,12))"
     ],
     "language": "python",
     "metadata": {},
     "outputs": [],
     "prompt_number": 71
    },
    {
     "cell_type": "code",
     "collapsed": false,
     "input": [
      "def_groupd = def_db.groupby('yy-mm_last_payment')\n",
      "good_groupd = good_db.groupby('yy-mm_last_payment')\n",
      "tot_groupd = tot_db.groupby('yy-mm_start_date')"
     ],
     "language": "python",
     "metadata": {},
     "outputs": [],
     "prompt_number": 9
    },
    {
     "cell_type": "code",
     "collapsed": false,
     "input": [
      "pieces = {'default_last_payment': def_groupd.size(),\n",
      "          'fully_paid_last_payment': good_groupd.size(),\n",
      "          'all_start_date': tot_groupd.size()}\n",
      "fin_df = pd.DataFrame(pieces)"
     ],
     "language": "python",
     "metadata": {},
     "outputs": [],
     "prompt_number": 10
    },
    {
     "cell_type": "code",
     "collapsed": false,
     "input": [
      "fin_df = fin_df.fillna(0)\n",
      "#fin_df.head(n=20)"
     ],
     "language": "python",
     "metadata": {},
     "outputs": [],
     "prompt_number": 11
    },
    {
     "cell_type": "code",
     "collapsed": false,
     "input": [
      "fin_df.plot(kind='bar', figsize=(22,12))"
     ],
     "language": "python",
     "metadata": {},
     "outputs": [
      {
       "metadata": {},
       "output_type": "pyout",
       "prompt_number": 12,
       "text": [
        "<matplotlib.axes.AxesSubplot at 0x8bf7850>"
       ]
      },
      {
       "metadata": {},
       "output_type": "display_data",
       "png": "[encoded data removed]",
       "text": [
        "<matplotlib.figure.Figure at 0x8c03210>"
       ]
      }
     ],
     "prompt_number": 12
    },
    {
     "cell_type": "code",
     "collapsed": false,
     "input": [
      "### need to fix 2013-10 figures  !!!!\n",
      "#test_db = good_db['loan_status']\n",
      "#test_db.head(n=20)"
     ],
     "language": "python",
     "metadata": {},
     "outputs": [],
     "prompt_number": 17
    },
    {
     "cell_type": "code",
     "collapsed": false,
     "input": [
      "# for now just delete last two months from graphing/analysis\n",
      "fin_df2 = fin_df.head(n=76)\n",
      "fin_df2.plot(kind='bar', figsize=(22,16))"
     ],
     "language": "python",
     "metadata": {},
     "outputs": [
      {
       "metadata": {},
       "output_type": "pyout",
       "prompt_number": 20,
       "text": [
        "<matplotlib.axes.AxesSubplot at 0xfe2d090>"
       ]
      },
      {
       "metadata": {},
       "output_type": "display_data",
       "png": "[encoded data removed]",
       "text": [
        "<matplotlib.figure.Figure at 0xfe315d0>"
       ]
      }
     ],
     "prompt_number": 20
    },
    {
     "cell_type": "code",
     "collapsed": false,
     "input": [
      "len(fin_df2)"
     ],
     "language": "python",
     "metadata": {},
     "outputs": [
      {
       "metadata": {},
       "output_type": "pyout",
       "prompt_number": 18,
       "text": [
        "76"
       ]
      }
     ],
     "prompt_number": 18
    },
    {
     "cell_type": "code",
     "collapsed": false,
     "input": [
      "## Calculation: Active(now) = StartDate(last)+Active(last)-[Defaults(last)+FullyPaid(last)]\n",
      "# create new column to put result of calculations\n",
      "fin_df2['active_count'] = 0"
     ],
     "language": "python",
     "metadata": {},
     "outputs": [],
     "prompt_number": 28
    },
    {
     "cell_type": "code",
     "collapsed": false,
     "input": [
      "#db.loc['row','column']\n",
      "fin_df2.loc['2008-01','all_start_date']"
     ],
     "language": "python",
     "metadata": {},
     "outputs": [
      {
       "metadata": {},
       "output_type": "pyout",
       "prompt_number": 31,
       "text": [
        "158.0"
       ]
      }
     ],
     "prompt_number": 31
    },
    {
     "cell_type": "code",
     "collapsed": false,
     "input": [
      "#calculated # of active loans for each month\n",
      "active = 0\n",
      "for row, values in fin_df2.iterrows():\n",
      "    # set active calculated prvious to current active count\n",
      "    fin_df2.loc[row,'active_count'] = active\n",
      "    # calculate active count for next month\n",
      "    start = values['all_start_date']\n",
      "    default = values['default_last_payment']\n",
      "    paid_off = values['fully_paid_last_payment']\n",
      "    active = active + start - (paid_off + default)    \n",
      "    print row\n",
      "    print \"active: \" + str(active)"
     ],
     "language": "python",
     "metadata": {},
     "outputs": [
      {
       "output_type": "stream",
       "stream": "stdout",
       "text": [
        "2007-06\n",
        "active: 12.0\n",
        "2007-07\n",
        "active: 40.0\n",
        "2007-08\n",
        "active: 63.0\n",
        "2007-09\n",
        "active: 85.0\n",
        "2007-10\n",
        "active: 130.0\n",
        "2007-11\n",
        "active: 163.0\n",
        "2007-12\n",
        "active: 256.0\n",
        "2008-01\n",
        "active: 410.0\n",
        "2008-02\n",
        "active: 566.0\n",
        "2008-03\n",
        "active: 778.0\n",
        "2008-04\n",
        "active: 966.0\n",
        "2008-05\n",
        "active: 1021.0\n",
        "2008-06\n",
        "active: 1081.0\n",
        "2008-07\n",
        "active: 1149.0\n",
        "2008-08\n",
        "active: 1208.0\n",
        "2008-09\n",
        "active: 1223.0\n",
        "2008-10\n",
        "active: 1260.0\n",
        "2008-11\n",
        "active: 1466.0\n",
        "2008-12\n",
        "active: 1648.0\n",
        "2009-01\n",
        "active: 1854.0\n",
        "2009-02\n",
        "active: 2011.0\n",
        "2009-03\n",
        "active: 2232.0\n",
        "2009-04\n",
        "active: 2558.0\n",
        "2009-05\n",
        "active: 2818.0\n",
        "2009-06\n",
        "active: 3126.0\n",
        "2009-07\n",
        "active: 3444.0\n",
        "2009-08\n",
        "active: 3806.0\n",
        "2009-09\n",
        "active: 4257.0\n",
        "2009-10\n",
        "active: 4788.0\n",
        "2009-11\n",
        "active: 5223.0\n",
        "2009-12\n",
        "active: 5683.0\n",
        "2010-01\n",
        "active: 6137.0\n",
        "2010-02\n",
        "active: 6621.0\n",
        "2010-03\n",
        "active: 7306.0\n",
        "2010-04\n",
        "active: 7946.0\n",
        "2010-05\n",
        "active: 8767.0\n",
        "2010-06\n",
        "active: 9545.0\n",
        "2010-07\n",
        "active: 10440.0\n",
        "2010-08\n",
        "active: 11376.0\n",
        "2010-09\n",
        "active: 12226.0\n",
        "2010-10\n",
        "active: 13103.0\n",
        "2010-11\n",
        "active: 14177.0\n",
        "2010-12\n",
        "active: 15166.0\n",
        "2011-01\n",
        "active: 16287.0\n",
        "2011-02\n",
        "active: 17078.0\n",
        "2011-03\n",
        "active: 18000.0\n",
        "2011-04\n",
        "active: 19167.0\n",
        "2011-05\n",
        "active: 20525.0\n",
        "2011-06\n",
        "active: 21933.0\n",
        "2011-07\n",
        "active: 23345.0\n",
        "2011-08\n",
        "active: 25050.0\n",
        "2011-09\n",
        "active: 26548.0\n",
        "2011-10\n",
        "active: 28242.0\n",
        "2011-11\n",
        "active: 29788.0\n",
        "2011-12\n",
        "active: 32349.0\n",
        "2012-01\n",
        "active: 34158.0\n",
        "2012-02\n",
        "active: 36009.0\n",
        "2012-03\n",
        "active: 37802.0\n",
        "2012-04\n",
        "active: 40241.0\n",
        "2012-05\n",
        "active: 42865.0\n",
        "2012-06\n",
        "active: 46381.0\n",
        "2012-07\n",
        "active: 50068.0\n",
        "2012-08\n",
        "active: 54358.0\n",
        "2012-09\n",
        "active: 58024.0\n",
        "2012-10\n",
        "active: 63303.0\n",
        "2012-11\n",
        "active: 68086.0\n",
        "2012-12\n",
        "active: 73640.0\n",
        "2013-01\n",
        "active: 80158.0\n",
        "2013-02\n",
        "active: 85833.0\n",
        "2013-03\n",
        "active: 91323.0\n",
        "2013-04\n",
        "active: 97878.0\n",
        "2013-05\n",
        "active: 106513.0\n",
        "2013-06\n",
        "active: 116332.0\n",
        "2013-07\n",
        "active: 126628.0\n",
        "2013-08\n",
        "active: 135316.0\n",
        "2013-09\n",
        "active: 143573.0\n"
       ]
      }
     ],
     "prompt_number": 32
    },
    {
     "cell_type": "code",
     "collapsed": false,
     "input": [
      "fin_df2['default_rate'] = fin_df2['default_last_payment']/fin_df2['active_count']"
     ],
     "language": "python",
     "metadata": {},
     "outputs": [],
     "prompt_number": 33
    },
    {
     "cell_type": "code",
     "collapsed": false,
     "input": [
      "fig = plt.figure()\n",
      "\n",
      "xs = np.arange(10)\n",
      "ys = np.random.rand(10)\n",
      "\n",
      "x = fin_df2.index.values\n",
      "\n",
      "k = fin_df2['default_last_payment'].values\n",
      "y = fin_df2['fully_paid_last_payment'].values\n",
      "z = fin_df2['all_start_date'].values\n",
      "\n",
      "ax = plt.subplot(111)\n",
      "ax.bar(x-0.2, k, width=0.2, color='r', align='center')\n",
      "ax.bar(x, y, width=0.2, color='g', align='center')\n",
      "ax.bar(x+0.2, z, width=0.2, color='b', align='center')\n",
      "\n",
      "\n",
      "plt.show()"
     ],
     "language": "python",
     "metadata": {},
     "outputs": [
      {
       "ename": "TypeError",
       "evalue": "unsupported operand type(s) for -: 'str' and 'float'",
       "output_type": "pyerr",
       "traceback": [
        "\u001b[1;31m---------------------------------------------------------------------------\u001b[0m\n\u001b[1;31mTypeError\u001b[0m                                 Traceback (most recent call last)",
        "\u001b[1;32m<ipython-input-40-209fa99df698>\u001b[0m in \u001b[0;36m<module>\u001b[1;34m()\u001b[0m\n\u001b[0;32m     11\u001b[0m \u001b[1;33m\u001b[0m\u001b[0m\n\u001b[0;32m     12\u001b[0m \u001b[0max\u001b[0m \u001b[1;33m=\u001b[0m \u001b[0mplt\u001b[0m\u001b[1;33m.\u001b[0m\u001b[0msubplot\u001b[0m\u001b[1;33m(\u001b[0m\u001b[1;36m111\u001b[0m\u001b[1;33m)\u001b[0m\u001b[1;33m\u001b[0m\u001b[0m\n\u001b[1;32m---> 13\u001b[1;33m \u001b[0max\u001b[0m\u001b[1;33m.\u001b[0m\u001b[0mbar\u001b[0m\u001b[1;33m(\u001b[0m\u001b[0mx\u001b[0m\u001b[1;33m-\u001b[0m\u001b[1;36m0.2\u001b[0m\u001b[1;33m,\u001b[0m \u001b[0mk\u001b[0m\u001b[1;33m,\u001b[0m \u001b[0mwidth\u001b[0m\u001b[1;33m=\u001b[0m\u001b[1;36m0.2\u001b[0m\u001b[1;33m,\u001b[0m \u001b[0mcolor\u001b[0m\u001b[1;33m=\u001b[0m\u001b[1;34m'r'\u001b[0m\u001b[1;33m,\u001b[0m \u001b[0malign\u001b[0m\u001b[1;33m=\u001b[0m\u001b[1;34m'center'\u001b[0m\u001b[1;33m)\u001b[0m\u001b[1;33m\u001b[0m\u001b[0m\n\u001b[0m\u001b[0;32m     14\u001b[0m \u001b[0max\u001b[0m\u001b[1;33m.\u001b[0m\u001b[0mbar\u001b[0m\u001b[1;33m(\u001b[0m\u001b[0mx\u001b[0m\u001b[1;33m,\u001b[0m \u001b[0my\u001b[0m\u001b[1;33m,\u001b[0m \u001b[0mwidth\u001b[0m\u001b[1;33m=\u001b[0m\u001b[1;36m0.2\u001b[0m\u001b[1;33m,\u001b[0m \u001b[0mcolor\u001b[0m\u001b[1;33m=\u001b[0m\u001b[1;34m'g'\u001b[0m\u001b[1;33m,\u001b[0m \u001b[0malign\u001b[0m\u001b[1;33m=\u001b[0m\u001b[1;34m'center'\u001b[0m\u001b[1;33m)\u001b[0m\u001b[1;33m\u001b[0m\u001b[0m\n\u001b[0;32m     15\u001b[0m \u001b[0max\u001b[0m\u001b[1;33m.\u001b[0m\u001b[0mbar\u001b[0m\u001b[1;33m(\u001b[0m\u001b[0mx\u001b[0m\u001b[1;33m+\u001b[0m\u001b[1;36m0.2\u001b[0m\u001b[1;33m,\u001b[0m \u001b[0mz\u001b[0m\u001b[1;33m,\u001b[0m \u001b[0mwidth\u001b[0m\u001b[1;33m=\u001b[0m\u001b[1;36m0.2\u001b[0m\u001b[1;33m,\u001b[0m \u001b[0mcolor\u001b[0m\u001b[1;33m=\u001b[0m\u001b[1;34m'b'\u001b[0m\u001b[1;33m,\u001b[0m \u001b[0malign\u001b[0m\u001b[1;33m=\u001b[0m\u001b[1;34m'center'\u001b[0m\u001b[1;33m)\u001b[0m\u001b[1;33m\u001b[0m\u001b[0m\n",
        "\u001b[1;31mTypeError\u001b[0m: unsupported operand type(s) for -: 'str' and 'float'"
       ]
      },
      {
       "metadata": {},
       "output_type": "display_data",
       "png": "[encoded data removed]",
       "text": [
        "<matplotlib.figure.Figure at 0x6869e90>"
       ]
      }
     ],
     "prompt_number": 40
    },
    {
     "cell_type": "code",
     "collapsed": false,
     "input": [
      "fig = plt.figure()\n",
      "lineGraph = fig.add_subplot(211)\n",
      "barChart = fig.add_subplot(212)\n",
      "\n",
      "plt.title('DISTRIBUTION of NUMBER')\n",
      "lineGraph = lineGraph.plot(fin_df2.index.values,fin_dfs['default_rate'],'-')  #generate line graph\n",
      "barChart = barChart.bar(fin_df2.index.values,fin_df2['all_start_date'].values,facecolor='b') #generate bar plot\n",
      "\n",
      "plt.grid(True)\n",
      "plt.axis(fin_df2.index.values)  #controlls axis for charts x first and then y axis.\n",
      "\n",
      "\n",
      "plt.savefig('new.png',dpi=400)\n",
      "plt.show()\n"
     ],
     "language": "python",
     "metadata": {},
     "outputs": [
      {
       "ename": "NameError",
       "evalue": "name 'fin_dfs' is not defined",
       "output_type": "pyerr",
       "traceback": [
        "\u001b[1;31m---------------------------------------------------------------------------\u001b[0m\n\u001b[1;31mNameError\u001b[0m                                 Traceback (most recent call last)",
        "\u001b[1;32m<ipython-input-41-17c14072ee1c>\u001b[0m in \u001b[0;36m<module>\u001b[1;34m()\u001b[0m\n\u001b[0;32m      4\u001b[0m \u001b[1;33m\u001b[0m\u001b[0m\n\u001b[0;32m      5\u001b[0m \u001b[0mplt\u001b[0m\u001b[1;33m.\u001b[0m\u001b[0mtitle\u001b[0m\u001b[1;33m(\u001b[0m\u001b[1;34m'DISTRIBUTION of NUMBER'\u001b[0m\u001b[1;33m)\u001b[0m\u001b[1;33m\u001b[0m\u001b[0m\n\u001b[1;32m----> 6\u001b[1;33m \u001b[0mlineGraph\u001b[0m \u001b[1;33m=\u001b[0m \u001b[0mlineGraph\u001b[0m\u001b[1;33m.\u001b[0m\u001b[0mplot\u001b[0m\u001b[1;33m(\u001b[0m\u001b[0mfin_df2\u001b[0m\u001b[1;33m.\u001b[0m\u001b[0mindex\u001b[0m\u001b[1;33m.\u001b[0m\u001b[0mvalues\u001b[0m\u001b[1;33m,\u001b[0m\u001b[0mfin_dfs\u001b[0m\u001b[1;33m[\u001b[0m\u001b[1;34m'default_rate'\u001b[0m\u001b[1;33m]\u001b[0m\u001b[1;33m,\u001b[0m\u001b[1;34m'-'\u001b[0m\u001b[1;33m)\u001b[0m  \u001b[1;31m#generate line graph\u001b[0m\u001b[1;33m\u001b[0m\u001b[0m\n\u001b[0m\u001b[0;32m      7\u001b[0m \u001b[0mbarChart\u001b[0m \u001b[1;33m=\u001b[0m \u001b[0mbarChart\u001b[0m\u001b[1;33m.\u001b[0m\u001b[0mbar\u001b[0m\u001b[1;33m(\u001b[0m\u001b[0mfin_df2\u001b[0m\u001b[1;33m.\u001b[0m\u001b[0mindex\u001b[0m\u001b[1;33m.\u001b[0m\u001b[0mvalues\u001b[0m\u001b[1;33m,\u001b[0m\u001b[0mfin_df2\u001b[0m\u001b[1;33m[\u001b[0m\u001b[1;34m'all_start_date'\u001b[0m\u001b[1;33m]\u001b[0m\u001b[1;33m.\u001b[0m\u001b[0mvalues\u001b[0m\u001b[1;33m,\u001b[0m\u001b[0mfacecolor\u001b[0m\u001b[1;33m=\u001b[0m\u001b[1;34m'b'\u001b[0m\u001b[1;33m)\u001b[0m \u001b[1;31m#generate bar plot\u001b[0m\u001b[1;33m\u001b[0m\u001b[0m\n\u001b[0;32m      8\u001b[0m \u001b[1;33m\u001b[0m\u001b[0m\n",
        "\u001b[1;31mNameError\u001b[0m: name 'fin_dfs' is not defined"
       ]
      },
      {
       "metadata": {},
       "output_type": "display_data",
       "png": "[encoded data removed]",
       "text": [
        "<matplotlib.figure.Figure at 0x47d7810>"
       ]
      }
     ],
     "prompt_number": 41
    },
    {
     "cell_type": "code",
     "collapsed": false,
     "input": [
      "fin_df2.to_csv('graph_data.csv')"
     ],
     "language": "python",
     "metadata": {},
     "outputs": [],
     "prompt_number": 42
    }
   ],
   "metadata": {}
  }
 ]
}